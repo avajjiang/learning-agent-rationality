{
 "cells": [
  {
   "cell_type": "code",
   "execution_count": 1,
   "metadata": {},
   "outputs": [
    {
     "name": "stderr",
     "output_type": "stream",
     "text": [
      "/Users/avajiang/opt/anaconda3/lib/python3.8/_collections_abc.py:832: MatplotlibDeprecationWarning: Support for setting the 'text.latex.preamble' or 'pgf.preamble' rcParam to a list of strings is deprecated since 3.3 and will be removed two minor releases later; set it to a single string instead.\n",
      "  self[key] = other[key]\n"
     ]
    }
   ],
   "source": [
    "import numpy as np\n",
    "import cvxpy as cp\n",
    "import matplotlib.pyplot as plt\n",
    "import torch\n",
    "import cvxpylayers\n",
    "from cvxpylayers.torch import CvxpyLayer\n",
    "from tqdm import trange, tqdm\n",
    "from time import sleep\n",
    "from algorithms import fit\n",
    "from utils import latexify\n",
    "\n",
    "torch.set_default_dtype(torch.float32)\n",
    "torch.manual_seed(1)\n",
    "latexify()"
   ]
  },
  {
   "cell_type": "code",
   "execution_count": 2,
   "metadata": {},
   "outputs": [],
   "source": [
    "# if torch.cuda.is_available():  \n",
    "#     print('cuda available')\n",
    "#     dev = \"cuda:0\" \n",
    "# else:  \n",
    "#     dev = \"cpu\"  \n",
    "# device = torch.device(dev)"
   ]
  },
  {
   "cell_type": "markdown",
   "metadata": {},
   "source": [
    "https://github.com/cvxgrp/cvxpylayers/blob/master/examples/torch/monotonic_output_regression.ipynb"
   ]
  },
  {
   "cell_type": "markdown",
   "metadata": {},
   "source": [
    "# helper functions"
   ]
  },
  {
   "cell_type": "code",
   "execution_count": 3,
   "metadata": {},
   "outputs": [],
   "source": [
    "def plot_results(val_losses, train_losses, param_updates, obj_vals, sqrtalpha_true, beta_true, P_untrained, P_trained, P_true, dist):\n",
    "    epochs = len(val_losses)\n",
    "\n",
    "    # loss by epoch\n",
    "    plt.figure(figsize=(6,4))\n",
    "    plt.plot(val_losses, 'k', label='val')\n",
    "    plt.plot([np.mean(tl) for tl in train_losses], 'k--', label='train')\n",
    "    plt.xlabel('epoch')\n",
    "    plt.ylabel('log(loss)')\n",
    "    plt.title('Validation and training loss by epoch')\n",
    "    plt.yscale('log')\n",
    "    plt.legend()\n",
    "#     plt.show()\n",
    "    plt.savefig('figures/grid/loss_%s.jpg'%dist)\n",
    "\n",
    "    # alpha updates by epoch\n",
    "    plt.figure(figsize=(6,4))\n",
    "    plt.plot(param_updates[:,0].detach().numpy(), 'k', label='$\\sqrt{\\\\alpha}$')\n",
    "    plt.hlines(sqrtalpha_true, 0, epochs, colors='k', linestyles='dashed', label='$\\sqrt{\\\\alpha}$ true')\n",
    "    plt.xlabel('epoch')\n",
    "    plt.ylabel('$\\sqrt{\\\\alpha}$')\n",
    "    plt.title('$\\sqrt{\\\\alpha}$ updates by epoch')\n",
    "    plt.legend()\n",
    "#     plt.show()\n",
    "    plt.savefig('figures/grid/sqrtalpha_%s.jpg'%dist)\n",
    "\n",
    "    # generator objective value by epoch\n",
    "    plt.figure(figsize=(6,4))\n",
    "    plt.plot(obj_vals, 'k', label='train')\n",
    "    plt.hlines(f_gen(P_true[0,:,0], alpha_true, beta_true).value, 0, epochs-1, colors='k', linestyles='dashed', label='true')\n",
    "    plt.title('Objective value by epoch')\n",
    "    plt.xlabel('epoch')\n",
    "    plt.ylabel('objective value')\n",
    "    plt.legend()\n",
    "#     plt.show()\n",
    "    plt.savefig('figures/grid/objval_%s.jpg'%dist)\n",
    "\n",
    "    # generator over time\n",
    "    plt.figure(figsize=(6,4))\n",
    "    plt.plot(P_untrained[:,0].detach().numpy(), linestyle='dotted', label='untrained')\n",
    "    plt.plot(P_trained[:,0].detach().numpy(), label='trained')\n",
    "    plt.plot(P_true[0,:,0], '--', label='true')\n",
    "    plt.title('Generator over time')\n",
    "    plt.xlabel('$t$')\n",
    "    plt.ylabel('$p^1$')\n",
    "    plt.legend()\n",
    "#     plt.show()\n",
    "    plt.savefig('figures/grid/gen_%s.jpg'%dist)\n",
    "\n",
    "    # balance over time\n",
    "    plt.figure(figsize=(6,4))\n",
    "    plt.plot(np.sum(P_untrained.detach().numpy(), axis=1), linestyle='dotted', label='untrained')\n",
    "    plt.plot(np.sum(P_trained.detach().numpy(), axis=1), label='trained')\n",
    "    plt.plot(torch.sum(P_true[0,:,:], axis=1), '--', label='true')\n",
    "    plt.title('Balance over time')\n",
    "    plt.xlabel('$t$')\n",
    "    plt.ylabel('balance')\n",
    "    plt.legend()\n",
    "#     plt.show()\n",
    "    plt.savefig('figures/grid/balance_%s.jpg'%dist)"
   ]
  },
  {
   "cell_type": "markdown",
   "metadata": {},
   "source": [
    "# setup"
   ]
  },
  {
   "cell_type": "code",
   "execution_count": 4,
   "metadata": {},
   "outputs": [],
   "source": [
    "T = 50\n",
    "M = 3\n",
    "pmin, pmax = 0.01, 50\n",
    "Q, C, D = 50, 10, 10"
   ]
  },
  {
   "cell_type": "code",
   "execution_count": 5,
   "metadata": {},
   "outputs": [],
   "source": [
    "# generator that can't be powered off (for simplicity and convexity)\n",
    "def f_gen(p_gen,sqrt_alpha,beta):\n",
    "    return cp.sum_squares(sqrt_alpha*p_gen) - beta*cp.sum(p_gen)\n",
    "\n",
    "def c_gen(p_gen):\n",
    "    constraints = [-p_gen >= pmin,\n",
    "                   -p_gen <= pmax\n",
    "                  ]\n",
    "    return constraints"
   ]
  },
  {
   "cell_type": "code",
   "execution_count": 6,
   "metadata": {},
   "outputs": [],
   "source": [
    "# load (fixed)\n",
    "def f_load(p_load):\n",
    "    return 0\n",
    "\n",
    "def c_load(p_load,l):\n",
    "    constraints = [p_load == l]\n",
    "    return constraints"
   ]
  },
  {
   "cell_type": "code",
   "execution_count": 7,
   "metadata": {},
   "outputs": [],
   "source": [
    "# storage device\n",
    "def f_bat(p_bat):\n",
    "    return 0\n",
    "\n",
    "def c_bat(p_bat):\n",
    "    q = cp.cumsum(p_bat)\n",
    "    constraints = [p_bat >= -D,\n",
    "                   p_bat <= C,\n",
    "                   q >= 0,\n",
    "                   q <= Q,\n",
    "                  ]\n",
    "    return constraints"
   ]
  },
  {
   "cell_type": "markdown",
   "metadata": {},
   "source": [
    "# method 1: non-distributed"
   ]
  },
  {
   "cell_type": "code",
   "execution_count": 8,
   "metadata": {},
   "outputs": [],
   "source": [
    "# set up variables and parameters\n",
    "sqrt_alpha = cp.Parameter()\n",
    "beta = cp.Parameter()\n",
    "l = cp.Parameter(T)\n",
    "p = cp.Variable((T,M))\n",
    "    \n",
    "# set up objective\n",
    "objective = f_gen(p[:,0],sqrt_alpha,beta)\n",
    "constraints = [c for c in c_gen(p[:,0])] + [c for c in c_load(p[:,1],l)] + [c for c in c_bat(p[:,2])] + [cp.sum(p,axis=1)==0]\n",
    "prob = cp.Problem(cp.Minimize(objective),constraints)\n",
    "\n",
    "# convert into pytorch layer\n",
    "layer = CvxpyLayer(prob, [sqrt_alpha,beta,l], [p])"
   ]
  },
  {
   "cell_type": "markdown",
   "metadata": {},
   "source": [
    "## forward pass"
   ]
  },
  {
   "cell_type": "code",
   "execution_count": 9,
   "metadata": {},
   "outputs": [
    {
     "name": "stdout",
     "output_type": "stream",
     "text": [
      "sqrtalpha_true:  tensor([0.4192])\n",
      "beta_true:  tensor([0.7793])\n"
     ]
    }
   ],
   "source": [
    "# get data\n",
    "def get_data_nd(N, T, sqrtalpha, beta):\n",
    "    L = torch.randint(3,11,size=(N,T))\n",
    "    L = L.float()\n",
    "    sqrtalpha = sqrtalpha.repeat(N)\n",
    "    beta = beta.repeat(N)\n",
    "    P = layer(sqrtalpha,beta,L,solver_args={\"solve_method\":'ECOS'})[0]\n",
    "\n",
    "    return L,P\n",
    "\n",
    "alphamin = 0.1\n",
    "alphamax = 0.2\n",
    "alpha_true = (alphamax-alphamin)*torch.rand(1) + alphamin\n",
    "sqrtalpha_true = torch.sqrt(alpha_true)\n",
    "print('sqrtalpha_true: ', sqrtalpha_true)\n",
    "\n",
    "betamin = 0.5\n",
    "betamax = 1.5\n",
    "beta_true = (betamax-betamin)*torch.rand(1) + betamin\n",
    "print('beta_true: ', beta_true)\n",
    "\n",
    "L, P_nd = get_data_nd(100, T, sqrtalpha_true, beta_true)\n",
    "Lval, Pval_nd = get_data_nd(50, T, sqrtalpha_true, beta_true)"
   ]
  },
  {
   "cell_type": "markdown",
   "metadata": {},
   "source": [
    "## backward pass"
   ]
  },
  {
   "cell_type": "code",
   "execution_count": 10,
   "metadata": {},
   "outputs": [
    {
     "name": "stdout",
     "output_type": "stream",
     "text": [
      "tensor([1.4888])\n"
     ]
    }
   ],
   "source": [
    "# mse_loss = torch.nn.MSELoss()\n",
    "l1_loss = torch.nn.L1Loss()\n",
    "torch.manual_seed(0)\n",
    "sqrtalpha = 3*torch.rand(1)\n",
    "print(sqrtalpha)\n",
    "beta = beta_true\n",
    "sqrtalpha.requires_grad_(True)\n",
    "\n",
    "def loss_nd(L,P,sqrtalpha,beta):\n",
    "    N = L.shape[0]\n",
    "    sqrtalpha_batch = sqrtalpha.repeat(N)\n",
    "    beta_batch = beta.repeat(N)\n",
    "    return l1_loss(layer(sqrtalpha_batch, beta_batch, L)[0],P)"
   ]
  },
  {
   "cell_type": "code",
   "execution_count": 11,
   "metadata": {
    "scrolled": false
   },
   "outputs": [
    {
     "name": "stderr",
     "output_type": "stream",
     "text": [
      "/Users/avajiang/opt/anaconda3/lib/python3.8/site-packages/diffcp/cone_program.py:282: UserWarning: Solved/Inaccurate.\n",
      "  warnings.warn(\"Solved/Inaccurate.\")\n"
     ]
    },
    {
     "name": "stdout",
     "output_type": "stream",
     "text": [
      "001 | 0.57109\n",
      "batch 001 / 005 | 0.58353\n",
      "batch 002 / 005 | 0.57726\n",
      "batch 003 / 005 | 0.57306\n",
      "batch 004 / 005 | 0.57101\n",
      "batch 005 / 005 | 0.56759\n",
      "002 | 0.51616\n",
      "batch 001 / 005 | 0.53544\n",
      "batch 002 / 005 | 0.48000\n",
      "batch 003 / 005 | 0.39083\n",
      "batch 004 / 005 | 0.33503\n",
      "batch 005 / 005 | 0.28258\n",
      "003 | 0.03731\n",
      "batch 001 / 005 | 0.03740\n",
      "batch 002 / 005 | 0.03198\n",
      "batch 003 / 005 | 0.02792\n",
      "batch 004 / 005 | 0.02534\n",
      "batch 005 / 005 | 0.02369\n",
      "004 | 0.01052\n",
      "batch 001 / 005 | 0.01186\n",
      "batch 002 / 005 | 0.01154\n",
      "batch 003 / 005 | 0.01136\n",
      "batch 004 / 005 | 0.01011\n",
      "batch 005 / 005 | 0.00921\n",
      "005 | 0.00496\n",
      "batch 001 / 005 | 0.00676\n",
      "batch 002 / 005 | 0.00561\n",
      "batch 003 / 005 | 0.00496\n",
      "batch 004 / 005 | 0.00458\n",
      "batch 005 / 005 | 0.00436\n",
      "006 | 0.00235\n",
      "batch 001 / 005 | 0.00267\n",
      "batch 002 / 005 | 0.00260\n",
      "batch 003 / 005 | 0.00256\n",
      "batch 004 / 005 | 0.00227\n",
      "batch 005 / 005 | 0.00215\n",
      "007 | 0.00108\n",
      "batch 001 / 005 | 0.00138\n",
      "batch 002 / 005 | 0.00161\n",
      "batch 003 / 005 | 0.00132\n",
      "batch 004 / 005 | 0.00117\n",
      "batch 005 / 005 | 0.00121\n",
      "008 | 0.00090\n",
      "batch 001 / 005 | 0.00100\n",
      "batch 002 / 005 | 0.00084\n",
      "batch 003 / 005 | 0.00072\n",
      "batch 004 / 005 | 0.00077\n",
      "batch 005 / 005 | 0.00095\n",
      "009 | 0.00077\n",
      "batch 001 / 005 | 0.00089\n",
      "batch 002 / 005 | 0.00065\n",
      "batch 003 / 005 | 0.00067\n",
      "batch 004 / 005 | 0.00075\n",
      "batch 005 / 005 | 0.00073\n",
      "010 | 0.00062\n",
      "batch 001 / 005 | 0.00075\n",
      "batch 002 / 005 | 0.00067\n",
      "batch 003 / 005 | 0.00054\n",
      "batch 004 / 005 | 0.00054\n",
      "batch 005 / 005 | 0.00054\n",
      "011 | 0.00039\n",
      "batch 001 / 005 | 0.00056\n",
      "batch 002 / 005 | 0.00046\n",
      "batch 003 / 005 | 0.00052\n",
      "batch 004 / 005 | 0.00047\n",
      "batch 005 / 005 | 0.00042\n",
      "012 | 0.00036\n",
      "batch 001 / 005 | 0.00040\n",
      "batch 002 / 005 | 0.00037\n",
      "batch 003 / 005 | 0.00035\n",
      "batch 004 / 005 | 0.00043\n",
      "batch 005 / 005 | 0.00043\n",
      "013 | 0.00046\n",
      "batch 001 / 005 | 0.00047\n",
      "batch 002 / 005 | 0.00053\n",
      "batch 003 / 005 | 0.00056\n",
      "batch 004 / 005 | 0.00065\n",
      "batch 005 / 005 | 0.00067\n",
      "014 | 0.00089\n",
      "batch 001 / 005 | 0.00098\n",
      "batch 002 / 005 | 0.00095\n",
      "batch 003 / 005 | 0.00122\n",
      "batch 004 / 005 | 0.00124\n",
      "batch 005 / 005 | 0.00144\n",
      "new lr: 0.025\n",
      "015 | 0.00174\n",
      "batch 001 / 005 | 0.00236\n",
      "batch 002 / 005 | 0.00306\n",
      "batch 003 / 005 | 0.00280\n",
      "batch 004 / 005 | 0.00293\n",
      "batch 005 / 005 | 0.00311\n",
      "016 | 0.00239\n",
      "batch 001 / 005 | 0.00369\n",
      "batch 002 / 005 | 0.00395\n",
      "batch 003 / 005 | 0.00320\n",
      "batch 004 / 005 | 0.00306\n",
      "batch 005 / 005 | 0.00290\n",
      "017 | 0.00166\n",
      "batch 001 / 005 | 0.00170\n",
      "batch 002 / 005 | 0.00194\n",
      "batch 003 / 005 | 0.00168\n",
      "batch 004 / 005 | 0.00165\n",
      "batch 005 / 005 | 0.00186\n",
      "018 | 0.00155\n",
      "batch 001 / 005 | 0.00216\n",
      "batch 002 / 005 | 0.00247\n",
      "batch 003 / 005 | 0.00199\n",
      "batch 004 / 005 | 0.00211\n",
      "batch 005 / 005 | 0.00210\n",
      "019 | 0.00210\n",
      "batch 001 / 005 | 0.00215\n",
      "batch 002 / 005 | 0.00247\n",
      "batch 003 / 005 | 0.00235\n",
      "batch 004 / 005 | 0.00271\n",
      "batch 005 / 005 | 0.00306\n",
      "020 | 0.00243\n",
      "batch 001 / 005 | 0.00329\n",
      "batch 002 / 005 | 0.00298\n",
      "batch 003 / 005 | 0.00328\n",
      "batch 004 / 005 | 0.00298\n",
      "batch 005 / 005 | 0.00333\n",
      "021 | 0.00251\n",
      "batch 001 / 005 | 0.00260\n",
      "batch 002 / 005 | 0.00323\n",
      "batch 003 / 005 | 0.00295\n",
      "batch 004 / 005 | 0.00292\n",
      "batch 005 / 005 | 0.00321\n",
      "022 | 0.00244\n",
      "batch 001 / 005 | 0.00410\n",
      "batch 002 / 005 | 0.00338\n",
      "batch 003 / 005 | 0.00301\n",
      "batch 004 / 005 | 0.00292\n",
      "batch 005 / 005 | 0.00280\n",
      "023 | 0.00198\n",
      "batch 001 / 005 | 0.00208\n",
      "batch 002 / 005 | 0.00227\n",
      "batch 003 / 005 | 0.00266\n",
      "batch 004 / 005 | 0.00270\n",
      "batch 005 / 005 | 0.00254\n",
      "024 | 0.00233\n",
      "batch 001 / 005 | 0.00171\n",
      "batch 002 / 005 | 0.00246\n",
      "batch 003 / 005 | 0.00292\n",
      "batch 004 / 005 | 0.00295\n",
      "batch 005 / 005 | 0.00325\n",
      "025 | 0.00263\n",
      "batch 001 / 005 | 0.00330\n",
      "batch 002 / 005 | 0.00318\n",
      "batch 003 / 005 | 0.00327\n",
      "batch 004 / 005 | 0.00354\n",
      "batch 005 / 005 | 0.00354\n",
      "026 | 0.00267\n",
      "batch 001 / 005 | 0.00263\n",
      "batch 002 / 005 | 0.00328\n",
      "batch 003 / 005 | 0.00383\n",
      "batch 004 / 005 | 0.00373\n",
      "batch 005 / 005 | 0.00348\n",
      "027 | 0.00309\n",
      "batch 001 / 005 | 0.00463\n",
      "batch 002 / 005 | 0.00351\n",
      "batch 003 / 005 | 0.00333\n",
      "batch 004 / 005 | 0.00351\n",
      "batch 005 / 005 | 0.00338\n",
      "028 | 0.00252\n",
      "batch 001 / 005 | 0.00328\n",
      "batch 002 / 005 | 0.00364\n",
      "batch 003 / 005 | 0.00410\n",
      "batch 004 / 005 | 0.00360\n",
      "batch 005 / 005 | 0.00358\n",
      "029 | 0.00288\n",
      "batch 001 / 005 | 0.00282\n",
      "batch 002 / 005 | 0.00310\n",
      "batch 003 / 005 | 0.00324\n",
      "batch 004 / 005 | 0.00338\n",
      "batch 005 / 005 | 0.00325\n",
      "new lr: 0.0125\n",
      "030 | 0.00243\n",
      "batch 001 / 005 | 0.00327\n",
      "batch 002 / 005 | 0.00376\n",
      "batch 003 / 005 | 0.00328\n",
      "batch 004 / 005 | 0.00289\n",
      "batch 005 / 005 | 0.00323\n"
     ]
    }
   ],
   "source": [
    "epochs = 30\n",
    "val_losses_nd, train_losses_nd, param_updates_nd = fit(lambda L,P: loss_nd(L,P,sqrtalpha,beta), [sqrtalpha], L, P_nd, Lval, Pval_nd,\n",
    "                                                       opt=torch.optim.Adam, opt_kwargs={\"lr\": 5e-2},\n",
    "                                                       batch_size=20, epochs=epochs, verbose=True)"
   ]
  },
  {
   "cell_type": "code",
   "execution_count": 12,
   "metadata": {},
   "outputs": [],
   "source": [
    "obj_vals_nd = np.zeros(epochs)\n",
    "for epoch in range(epochs):\n",
    "    N = Lval.shape[0]\n",
    "    sqrtalpha_temp = param_updates_nd[epoch,0]\n",
    "    P_gen_temp = layer(sqrtalpha_temp, beta_true, Lval[0,:], solver_args={\"solve_method\":'ECOS'})[0][0,:,0]\n",
    "    obj_vals_nd[epoch] = f_gen(P_gen_temp.detach().numpy(), sqrtalpha_temp.detach().numpy(), beta_true).value\n",
    "    \n",
    "P_untrained_nd = layer(param_updates_nd[0,0], beta_true, Lval[0,:], solver_args={\"solve_method\":'ECOS'})[0][0,:,:]\n",
    "P_trained_nd = layer(param_updates_nd[-1,0], beta_true, Lval[0,:], solver_args={\"solve_method\":'ECOS'})[0][0,:,:]"
   ]
  },
  {
   "cell_type": "code",
   "execution_count": 13,
   "metadata": {},
   "outputs": [
    {
     "data": {
      "image/png": "[encoded data removed]",
      "text/plain": [
       "<Figure size 432x288 with 1 Axes>"
      ]
     },
     "metadata": {
      "needs_background": "light"
     },
     "output_type": "display_data"
    },
    {
     "data": {
      "image/png": "[encoded data removed]",
      "text/plain": [
       "<Figure size 432x288 with 1 Axes>"
      ]
     },
     "metadata": {
      "needs_background": "light"
     },
     "output_type": "display_data"
    },
    {
     "data": {
      "image/png": "[encoded data removed]",
      "text/plain": [
       "<Figure size 432x288 with 1 Axes>"
      ]
     },
     "metadata": {
      "needs_background": "light"
     },
     "output_type": "display_data"
    },
    {
     "data": {
      "image/png": "[encoded data removed]",
      "text/plain": [
       "<Figure size 432x288 with 1 Axes>"
      ]
     },
     "metadata": {
      "needs_background": "light"
     },
     "output_type": "display_data"
    },
    {
     "data": {
      "image/png": "[encoded data removed]",
      "text/plain": [
       "<Figure size 432x288 with 1 Axes>"
      ]
     },
     "metadata": {
      "needs_background": "light"
     },
     "output_type": "display_data"
    }
   ],
   "source": [
    "plot_results(val_losses_nd, train_losses_nd, param_updates_nd, obj_vals_nd, sqrtalpha_true, beta_true, P_untrained_nd, P_trained_nd, Pval_nd, 'nd')"
   ]
  },
  {
   "cell_type": "markdown",
   "metadata": {},
   "source": [
    "# method 2: distributed"
   ]
  },
  {
   "cell_type": "code",
   "execution_count": 14,
   "metadata": {},
   "outputs": [],
   "source": [
    "QUIET    = 1\n",
    "MAX_ITER = 80\n",
    "rho = 1"
   ]
  },
  {
   "cell_type": "code",
   "execution_count": 15,
   "metadata": {},
   "outputs": [],
   "source": [
    "# set up problem\n",
    "pvar = [cp.Variable(T)]*2\n",
    "d = cp.Parameter(T)\n",
    "v = cp.Parameter(T)\n",
    "sqrt_alpha = cp.Parameter()\n",
    "beta = cp.Parameter()\n",
    "obj = [f_gen(pvar[0],sqrt_alpha,beta) + rho/2*cp.sum_squares(v - pvar[0]),\n",
    "       rho/2*cp.sum_squares(v - pvar[1])]\n",
    "prox = [cp.Problem(cp.Minimize(obj[0]), c_gen(pvar[0])),\n",
    "        cp.Problem(cp.Minimize(obj[1]), c_bat(pvar[1]))]\n",
    "layers = [CvxpyLayer(prox[0],[v,sqrt_alpha,beta],[pvar[0]]),\n",
    "          CvxpyLayer(prox[1],[v],[pvar[1]])]"
   ]
  },
  {
   "cell_type": "code",
   "execution_count": 16,
   "metadata": {},
   "outputs": [],
   "source": [
    "def admm(L,sqrtalpha,beta,layers):\n",
    "    N,T = L.shape\n",
    "    \n",
    "    P = torch.zeros((N,T,M))\n",
    "    P[:,:,1] = L\n",
    "    u = torch.zeros((N,T,M))\n",
    "    r_norm = torch.zeros((N,MAX_ITER))\n",
    "    s_norm = torch.zeros((N,MAX_ITER))\n",
    "\n",
    "    for k in tqdm(range(MAX_ITER)):\n",
    "        P_old = P\n",
    "        Pbar_old = torch.mean(P_old,axis=2,keepdim=True)\n",
    "        \n",
    "        # p-update\n",
    "        try:\n",
    "            P[:,:,0] = layers[0](P[:,:,0] - torch.mean(P,axis=2) - u[:,:,0],sqrtalpha,beta,solver_args={'eps':1e-6, 'acceleration_lookback': 20})[0] # generator\n",
    "        except:\n",
    "            break\n",
    "        try:\n",
    "            P[:,:,2] = layers[1](P[:,:,2] - torch.mean(P,axis=2) - u[:,:,2],solver_args={'eps':1e-6, 'acceleration_lookback': 20})[0]                # battery \n",
    "        except:\n",
    "            break\n",
    "        \n",
    "        Pbar = torch.mean(P,axis=2,keepdim=True)\n",
    "\n",
    "        # u-update\n",
    "        u += Pbar\n",
    "        \n",
    "        # progress tracking\n",
    "        r_norm[:,k] = torch.flatten(torch.linalg.norm(Pbar,dim=1))\n",
    "        s_norm[:,k] = torch.flatten(torch.linalg.norm(torch.reshape((P - Pbar) - (P_old - Pbar_old),(N,T*M)),dim=1))\n",
    "        \n",
    "    return P,r_norm,s_norm"
   ]
  },
  {
   "cell_type": "markdown",
   "metadata": {},
   "source": [
    "## forward pass"
   ]
  },
  {
   "cell_type": "code",
   "execution_count": 17,
   "metadata": {},
   "outputs": [
    {
     "name": "stderr",
     "output_type": "stream",
     "text": [
      "  0%|          | 0/80 [00:00<?, ?it/s]/Users/avajiang/opt/anaconda3/lib/python3.8/site-packages/diffcp/cone_program.py:282: UserWarning: Solved/Inaccurate.\n",
      "  warnings.warn(\"Solved/Inaccurate.\")\n",
      "100%|██████████| 80/80 [07:04<00:00,  5.30s/it]\n",
      "100%|██████████| 80/80 [03:34<00:00,  2.68s/it]\n"
     ]
    }
   ],
   "source": [
    "def get_data_d(L, sqrtalpha, beta):\n",
    "    N = L.shape[0]\n",
    "    P,r_norm,s_norm = admm(L, sqrtalpha.repeat(N), beta.repeat(N), layers)\n",
    "\n",
    "    return P,r_norm,s_norm\n",
    "\n",
    "P_d, r_norm, s_norm = get_data_d(L, sqrtalpha_true, beta_true)\n",
    "Pval_d, r_normval, s_normval = get_data_d(Lval, sqrtalpha_true, beta_true)"
   ]
  },
  {
   "cell_type": "code",
   "execution_count": 20,
   "metadata": {},
   "outputs": [
    {
     "data": {
      "image/png": "[encoded data removed]",
      "text/plain": [
       "<Figure size 432x288 with 1 Axes>"
      ]
     },
     "metadata": {
      "needs_background": "light"
     },
     "output_type": "display_data"
    },
    {
     "data": {
      "image/png": "[encoded data removed]",
      "text/plain": [
       "<Figure size 432x288 with 1 Axes>"
      ]
     },
     "metadata": {
      "needs_background": "light"
     },
     "output_type": "display_data"
    },
    {
     "data": {
      "image/png": "[encoded data removed]",
      "text/plain": [
       "<Figure size 432x288 with 1 Axes>"
      ]
     },
     "metadata": {
      "needs_background": "light"
     },
     "output_type": "display_data"
    }
   ],
   "source": [
    "# compare results\n",
    "# plt.figure(figsize=(6,4))\n",
    "# plt.plot(Y_d[0,:,2], label = 'admm')\n",
    "# plt.plot(Y_nd[0,:,2], label = 'non-distributed')\n",
    "# plt.legend()\n",
    "# plt.title('Non-distributed vs distributed')\n",
    "# plt.show()\n",
    "\n",
    "# compare results for each device\n",
    "plt.figure(figsize=(6,4))\n",
    "plt.plot(P_d[0,:,0] - P_nd[0,:,0], label='generator')\n",
    "plt.plot(P_d[0,:,1] - P_nd[0,:,1], '--', label='load')\n",
    "plt.plot(P_d[0,:,2] - P_nd[0,:,2], linestyle='dotted', label='battery')\n",
    "plt.title('Difference between ADMM and non-distributed values of $p$')\n",
    "plt.xlabel('$t$')\n",
    "plt.ylabel('difference in $p$')\n",
    "plt.legend()\n",
    "# plt.show()\n",
    "plt.savefig('figures/grid/fp_comp.jpg')\n",
    "\n",
    "# # compare balance over time\n",
    "# plt.figure(figsize=(6,4))\n",
    "# plt.plot(torch.sum(Y_d[0,:,:], axis=1), 'k', label='admm')\n",
    "# plt.plot(torch.sum(Y_nd[0,:,:], axis=1), label='nd')\n",
    "# plt.title('Balance over time')\n",
    "# plt.xlabel('$T$')\n",
    "# plt.ylabel('balance')\n",
    "# plt.legend()\n",
    "# plt.savefig('balance_d.jpg')\n",
    "# # plt.show()\n",
    "\n",
    "# primal residual tracking \n",
    "plt.figure(figsize=(6,4))\n",
    "plt.plot(r_norm[0,:], 'k')\n",
    "plt.yscale('log')\n",
    "plt.title('Primal residual norms by iteration')\n",
    "plt.xlabel('iteration')\n",
    "plt.ylabel('primal residual norm')\n",
    "plt.savefig('figures/grid/fp_rnorm.jpg')\n",
    "# plt.show()\n",
    "\n",
    "# dual residual tracking\n",
    "plt.figure(figsize=(6,4))\n",
    "plt.plot(s_norm[0,:], 'k')\n",
    "plt.yscale('log')\n",
    "plt.title('Dual residual norms by iteration')\n",
    "plt.xlabel('iteration')\n",
    "plt.ylabel('dual residual norm')\n",
    "plt.savefig('figures/grid/fp_snorm.jpg')\n",
    "# plt.show()"
   ]
  },
  {
   "cell_type": "markdown",
   "metadata": {},
   "source": [
    "# backward pass"
   ]
  },
  {
   "cell_type": "code",
   "execution_count": 21,
   "metadata": {},
   "outputs": [
    {
     "name": "stdout",
     "output_type": "stream",
     "text": [
      "tensor([1.4888])\n"
     ]
    }
   ],
   "source": [
    "# mse_loss = torch.nn.MSELoss()\n",
    "l1_loss = torch.nn.L1Loss()\n",
    "torch.manual_seed(0)\n",
    "sqrtalpha = 3*torch.rand(1)\n",
    "# sqrtalpha = torch.tensor([0.4])\n",
    "print(sqrtalpha)\n",
    "beta = beta_true\n",
    "sqrtalpha.requires_grad_(True)\n",
    "# beta.requires_grad_(True)\n",
    "\n",
    "def loss_d(L,P,sqrtalpha,beta):\n",
    "    N = L.shape[0]\n",
    "    return l1_loss(admm(L, sqrtalpha.repeat(N), beta.repeat(N), layers)[0],P)"
   ]
  },
  {
   "cell_type": "code",
   "execution_count": 22,
   "metadata": {},
   "outputs": [
    {
     "name": "stderr",
     "output_type": "stream",
     "text": [
      "  1%|▏         | 1/80 [00:02<02:58,  2.27s/it]/Users/avajiang/opt/anaconda3/lib/python3.8/site-packages/diffcp/cone_program.py:282: UserWarning: Solved/Inaccurate.\n",
      "  warnings.warn(\"Solved/Inaccurate.\")\n",
      " 10%|█         | 8/80 [00:24<03:41,  3.07s/it]\n",
      "  0%|          | 0/80 [00:00<?, ?it/s]"
     ]
    },
    {
     "name": "stdout",
     "output_type": "stream",
     "text": [
      "Please consider re-formulating your problem so that it is always solvable or increasing the number of solver iterations.\n",
      "001 | 1.28898\n"
     ]
    },
    {
     "name": "stderr",
     "output_type": "stream",
     "text": [
      " 12%|█▎        | 10/80 [00:12<01:28,  1.27s/it]"
     ]
    },
    {
     "name": "stdout",
     "output_type": "stream",
     "text": [
      "Please consider re-formulating your problem so that it is always solvable or increasing the number of solver iterations.\n"
     ]
    },
    {
     "name": "stderr",
     "output_type": "stream",
     "text": [
      "\n",
      "  0%|          | 0/80 [00:00<?, ?it/s]"
     ]
    },
    {
     "name": "stdout",
     "output_type": "stream",
     "text": [
      "batch 001 / 005 | 1.11201\n"
     ]
    },
    {
     "name": "stderr",
     "output_type": "stream",
     "text": [
      " 10%|█         | 8/80 [00:09<01:25,  1.18s/it]"
     ]
    },
    {
     "name": "stdout",
     "output_type": "stream",
     "text": [
      "Please consider re-formulating your problem so that it is always solvable or increasing the number of solver iterations.\n"
     ]
    },
    {
     "name": "stderr",
     "output_type": "stream",
     "text": [
      "\n",
      "  0%|          | 0/80 [00:00<?, ?it/s]"
     ]
    },
    {
     "name": "stdout",
     "output_type": "stream",
     "text": [
      "batch 002 / 005 | 1.14554\n"
     ]
    },
    {
     "name": "stderr",
     "output_type": "stream",
     "text": [
      " 15%|█▌        | 12/80 [00:15<01:26,  1.27s/it]"
     ]
    },
    {
     "name": "stdout",
     "output_type": "stream",
     "text": [
      "Please consider re-formulating your problem so that it is always solvable or increasing the number of solver iterations.\n"
     ]
    },
    {
     "name": "stderr",
     "output_type": "stream",
     "text": [
      "\n",
      "  0%|          | 0/80 [00:00<?, ?it/s]"
     ]
    },
    {
     "name": "stdout",
     "output_type": "stream",
     "text": [
      "batch 003 / 005 | 1.01967\n"
     ]
    },
    {
     "name": "stderr",
     "output_type": "stream",
     "text": [
      " 19%|█▉        | 15/80 [00:20<01:27,  1.35s/it]"
     ]
    },
    {
     "name": "stdout",
     "output_type": "stream",
     "text": [
      "Please consider re-formulating your problem so that it is always solvable or increasing the number of solver iterations.\n"
     ]
    },
    {
     "name": "stderr",
     "output_type": "stream",
     "text": [
      "\n",
      "  0%|          | 0/80 [00:00<?, ?it/s]"
     ]
    },
    {
     "name": "stdout",
     "output_type": "stream",
     "text": [
      "batch 004 / 005 | 0.97183\n"
     ]
    },
    {
     "name": "stderr",
     "output_type": "stream",
     "text": [
      " 26%|██▋       | 21/80 [00:29<01:22,  1.40s/it]"
     ]
    },
    {
     "name": "stdout",
     "output_type": "stream",
     "text": [
      "Please consider re-formulating your problem so that it is always solvable or increasing the number of solver iterations.\n"
     ]
    },
    {
     "name": "stderr",
     "output_type": "stream",
     "text": [
      "\n",
      "  0%|          | 0/80 [00:00<?, ?it/s]"
     ]
    },
    {
     "name": "stdout",
     "output_type": "stream",
     "text": [
      "batch 005 / 005 | 0.82026\n"
     ]
    },
    {
     "name": "stderr",
     "output_type": "stream",
     "text": [
      " 26%|██▋       | 21/80 [01:04<03:02,  3.09s/it]\n",
      "  0%|          | 0/80 [00:00<?, ?it/s]"
     ]
    },
    {
     "name": "stdout",
     "output_type": "stream",
     "text": [
      "Please consider re-formulating your problem so that it is always solvable or increasing the number of solver iterations.\n",
      "002 | 0.10232\n"
     ]
    },
    {
     "name": "stderr",
     "output_type": "stream",
     "text": [
      " 34%|███▍      | 27/80 [00:33<01:06,  1.25s/it]"
     ]
    },
    {
     "name": "stdout",
     "output_type": "stream",
     "text": [
      "Please consider re-formulating your problem so that it is always solvable or increasing the number of solver iterations.\n"
     ]
    },
    {
     "name": "stderr",
     "output_type": "stream",
     "text": [
      "\n",
      "  0%|          | 0/80 [00:00<?, ?it/s]"
     ]
    },
    {
     "name": "stdout",
     "output_type": "stream",
     "text": [
      "batch 001 / 005 | 0.03431\n"
     ]
    },
    {
     "name": "stderr",
     "output_type": "stream",
     "text": [
      " 35%|███▌      | 28/80 [00:36<01:07,  1.31s/it]"
     ]
    },
    {
     "name": "stdout",
     "output_type": "stream",
     "text": [
      "Please consider re-formulating your problem so that it is always solvable or increasing the number of solver iterations.\n"
     ]
    },
    {
     "name": "stderr",
     "output_type": "stream",
     "text": [
      "\n",
      "  0%|          | 0/80 [00:00<?, ?it/s]"
     ]
    },
    {
     "name": "stdout",
     "output_type": "stream",
     "text": [
      "batch 002 / 005 | 0.03205\n"
     ]
    },
    {
     "name": "stderr",
     "output_type": "stream",
     "text": [
      " 30%|███       | 24/80 [00:30<01:10,  1.26s/it]"
     ]
    },
    {
     "name": "stdout",
     "output_type": "stream",
     "text": [
      "Please consider re-formulating your problem so that it is always solvable or increasing the number of solver iterations.\n"
     ]
    },
    {
     "name": "stderr",
     "output_type": "stream",
     "text": [
      "\n",
      "  0%|          | 0/80 [00:00<?, ?it/s]"
     ]
    },
    {
     "name": "stdout",
     "output_type": "stream",
     "text": [
      "batch 003 / 005 | 0.02680\n"
     ]
    },
    {
     "name": "stderr",
     "output_type": "stream",
     "text": [
      "100%|██████████| 80/80 [01:39<00:00,  1.24s/it]\n",
      "  0%|          | 0/80 [00:00<?, ?it/s]"
     ]
    },
    {
     "name": "stdout",
     "output_type": "stream",
     "text": [
      "batch 004 / 005 | 0.02025\n"
     ]
    },
    {
     "name": "stderr",
     "output_type": "stream",
     "text": [
      "100%|██████████| 80/80 [01:30<00:00,  1.13s/it]\n",
      "  0%|          | 0/80 [00:00<?, ?it/s]"
     ]
    },
    {
     "name": "stdout",
     "output_type": "stream",
     "text": [
      "batch 005 / 005 | 0.01621\n"
     ]
    },
    {
     "name": "stderr",
     "output_type": "stream",
     "text": [
      "100%|██████████| 80/80 [03:49<00:00,  2.87s/it]\n",
      "  0%|          | 0/80 [00:00<?, ?it/s]"
     ]
    },
    {
     "name": "stdout",
     "output_type": "stream",
     "text": [
      "003 | 0.00002\n"
     ]
    },
    {
     "name": "stderr",
     "output_type": "stream",
     "text": [
      "100%|██████████| 80/80 [01:37<00:00,  1.22s/it]\n",
      "  0%|          | 0/80 [00:00<?, ?it/s]"
     ]
    },
    {
     "name": "stdout",
     "output_type": "stream",
     "text": [
      "batch 001 / 005 | 0.00001\n"
     ]
    },
    {
     "name": "stderr",
     "output_type": "stream",
     "text": [
      "100%|██████████| 80/80 [01:32<00:00,  1.16s/it]\n",
      "  0%|          | 0/80 [00:00<?, ?it/s]"
     ]
    },
    {
     "name": "stdout",
     "output_type": "stream",
     "text": [
      "batch 002 / 005 | 0.00002\n"
     ]
    },
    {
     "name": "stderr",
     "output_type": "stream",
     "text": [
      "100%|██████████| 80/80 [01:34<00:00,  1.18s/it]\n",
      "  0%|          | 0/80 [00:00<?, ?it/s]"
     ]
    },
    {
     "name": "stdout",
     "output_type": "stream",
     "text": [
      "batch 003 / 005 | 0.00002\n"
     ]
    },
    {
     "name": "stderr",
     "output_type": "stream",
     "text": [
      "100%|██████████| 80/80 [01:25<00:00,  1.07s/it]\n",
      "  0%|          | 0/80 [00:00<?, ?it/s]"
     ]
    },
    {
     "name": "stdout",
     "output_type": "stream",
     "text": [
      "batch 004 / 005 | 0.00001\n"
     ]
    },
    {
     "name": "stderr",
     "output_type": "stream",
     "text": [
      "100%|██████████| 80/80 [01:25<00:00,  1.07s/it]\n",
      "  0%|          | 0/80 [00:00<?, ?it/s]"
     ]
    },
    {
     "name": "stdout",
     "output_type": "stream",
     "text": [
      "batch 005 / 005 | 0.00001\n"
     ]
    },
    {
     "name": "stderr",
     "output_type": "stream",
     "text": [
      "100%|██████████| 80/80 [03:36<00:00,  2.70s/it]\n",
      "  0%|          | 0/80 [00:00<?, ?it/s]"
     ]
    },
    {
     "name": "stdout",
     "output_type": "stream",
     "text": [
      "004 | 0.00001\n"
     ]
    },
    {
     "name": "stderr",
     "output_type": "stream",
     "text": [
      "100%|██████████| 80/80 [01:28<00:00,  1.11s/it]\n",
      "  0%|          | 0/80 [00:00<?, ?it/s]"
     ]
    },
    {
     "name": "stdout",
     "output_type": "stream",
     "text": [
      "batch 001 / 005 | 0.00001\n"
     ]
    },
    {
     "name": "stderr",
     "output_type": "stream",
     "text": [
      "100%|██████████| 80/80 [01:25<00:00,  1.06s/it]\n",
      "  0%|          | 0/80 [00:00<?, ?it/s]"
     ]
    },
    {
     "name": "stdout",
     "output_type": "stream",
     "text": [
      "batch 002 / 005 | 0.00001\n"
     ]
    },
    {
     "name": "stderr",
     "output_type": "stream",
     "text": [
      "100%|██████████| 80/80 [01:25<00:00,  1.07s/it]\n",
      "  0%|          | 0/80 [00:00<?, ?it/s]"
     ]
    },
    {
     "name": "stdout",
     "output_type": "stream",
     "text": [
      "batch 003 / 005 | 0.00001\n"
     ]
    },
    {
     "name": "stderr",
     "output_type": "stream",
     "text": [
      "100%|██████████| 80/80 [01:23<00:00,  1.04s/it]\n",
      "  0%|          | 0/80 [00:00<?, ?it/s]"
     ]
    },
    {
     "name": "stdout",
     "output_type": "stream",
     "text": [
      "batch 004 / 005 | 0.00002\n"
     ]
    },
    {
     "name": "stderr",
     "output_type": "stream",
     "text": [
      "100%|██████████| 80/80 [01:25<00:00,  1.07s/it]\n",
      "  0%|          | 0/80 [00:00<?, ?it/s]"
     ]
    },
    {
     "name": "stdout",
     "output_type": "stream",
     "text": [
      "batch 005 / 005 | 0.00003\n"
     ]
    },
    {
     "name": "stderr",
     "output_type": "stream",
     "text": [
      "100%|██████████| 80/80 [03:24<00:00,  2.56s/it]\n",
      "  0%|          | 0/80 [00:00<?, ?it/s]"
     ]
    },
    {
     "name": "stdout",
     "output_type": "stream",
     "text": [
      "005 | 0.00033\n"
     ]
    },
    {
     "name": "stderr",
     "output_type": "stream",
     "text": [
      "100%|██████████| 80/80 [01:15<00:00,  1.06it/s]\n",
      "  0%|          | 0/80 [00:00<?, ?it/s]"
     ]
    },
    {
     "name": "stdout",
     "output_type": "stream",
     "text": [
      "batch 001 / 005 | 0.00033\n"
     ]
    },
    {
     "name": "stderr",
     "output_type": "stream",
     "text": [
      "100%|██████████| 80/80 [01:37<00:00,  1.22s/it]\n",
      "  0%|          | 0/80 [00:00<?, ?it/s]"
     ]
    },
    {
     "name": "stdout",
     "output_type": "stream",
     "text": [
      "batch 002 / 005 | 0.00070\n"
     ]
    },
    {
     "name": "stderr",
     "output_type": "stream",
     "text": [
      "100%|██████████| 80/80 [01:31<00:00,  1.14s/it]\n",
      "  0%|          | 0/80 [00:00<?, ?it/s]"
     ]
    },
    {
     "name": "stdout",
     "output_type": "stream",
     "text": [
      "batch 003 / 005 | 0.00139\n"
     ]
    },
    {
     "name": "stderr",
     "output_type": "stream",
     "text": [
      "100%|██████████| 80/80 [01:19<00:00,  1.01it/s]\n",
      "  0%|          | 0/80 [00:00<?, ?it/s]"
     ]
    },
    {
     "name": "stdout",
     "output_type": "stream",
     "text": [
      "batch 004 / 005 | 0.00257\n"
     ]
    },
    {
     "name": "stderr",
     "output_type": "stream",
     "text": [
      "100%|██████████| 80/80 [01:13<00:00,  1.09it/s]\n",
      "  0%|          | 0/80 [00:00<?, ?it/s]"
     ]
    },
    {
     "name": "stdout",
     "output_type": "stream",
     "text": [
      "batch 005 / 005 | 0.00392\n"
     ]
    },
    {
     "name": "stderr",
     "output_type": "stream",
     "text": [
      "100%|██████████| 80/80 [03:13<00:00,  2.42s/it]\n",
      "  0%|          | 0/80 [00:00<?, ?it/s]"
     ]
    },
    {
     "name": "stdout",
     "output_type": "stream",
     "text": [
      "006 | 0.01254\n"
     ]
    },
    {
     "name": "stderr",
     "output_type": "stream",
     "text": [
      "100%|██████████| 80/80 [01:17<00:00,  1.03it/s]\n",
      "  0%|          | 0/80 [00:00<?, ?it/s]"
     ]
    },
    {
     "name": "stdout",
     "output_type": "stream",
     "text": [
      "batch 001 / 005 | 0.01059\n"
     ]
    },
    {
     "name": "stderr",
     "output_type": "stream",
     "text": [
      "100%|██████████| 80/80 [01:17<00:00,  1.03it/s]\n",
      "  0%|          | 0/80 [00:00<?, ?it/s]"
     ]
    },
    {
     "name": "stdout",
     "output_type": "stream",
     "text": [
      "batch 002 / 005 | 0.00984\n"
     ]
    },
    {
     "name": "stderr",
     "output_type": "stream",
     "text": [
      "100%|██████████| 80/80 [01:15<00:00,  1.05it/s]\n",
      "  0%|          | 0/80 [00:00<?, ?it/s]"
     ]
    },
    {
     "name": "stdout",
     "output_type": "stream",
     "text": [
      "batch 003 / 005 | 0.00832\n"
     ]
    },
    {
     "name": "stderr",
     "output_type": "stream",
     "text": [
      "100%|██████████| 80/80 [01:18<00:00,  1.02it/s]\n",
      "  0%|          | 0/80 [00:00<?, ?it/s]"
     ]
    },
    {
     "name": "stdout",
     "output_type": "stream",
     "text": [
      "batch 004 / 005 | 0.00689\n"
     ]
    },
    {
     "name": "stderr",
     "output_type": "stream",
     "text": [
      "100%|██████████| 80/80 [01:18<00:00,  1.02it/s]\n",
      "  0%|          | 0/80 [00:00<?, ?it/s]"
     ]
    },
    {
     "name": "stdout",
     "output_type": "stream",
     "text": [
      "batch 005 / 005 | 0.00576\n"
     ]
    },
    {
     "name": "stderr",
     "output_type": "stream",
     "text": [
      " 68%|██████▊   | 54/80 [02:17<01:06,  2.54s/it]\n",
      "  0%|          | 0/80 [00:00<?, ?it/s]"
     ]
    },
    {
     "name": "stdout",
     "output_type": "stream",
     "text": [
      "Please consider re-formulating your problem so that it is always solvable or increasing the number of solver iterations.\n",
      "007 | 0.00938\n"
     ]
    },
    {
     "name": "stderr",
     "output_type": "stream",
     "text": [
      "100%|██████████| 80/80 [01:22<00:00,  1.03s/it]\n",
      "  0%|          | 0/80 [00:00<?, ?it/s]"
     ]
    },
    {
     "name": "stdout",
     "output_type": "stream",
     "text": [
      "batch 001 / 005 | 0.00062\n"
     ]
    },
    {
     "name": "stderr",
     "output_type": "stream",
     "text": [
      "100%|██████████| 80/80 [01:24<00:00,  1.06s/it]\n",
      "  0%|          | 0/80 [00:00<?, ?it/s]"
     ]
    },
    {
     "name": "stdout",
     "output_type": "stream",
     "text": [
      "batch 002 / 005 | 0.00048\n"
     ]
    },
    {
     "name": "stderr",
     "output_type": "stream",
     "text": [
      "100%|██████████| 80/80 [01:28<00:00,  1.10s/it]\n",
      "  0%|          | 0/80 [00:00<?, ?it/s]"
     ]
    },
    {
     "name": "stdout",
     "output_type": "stream",
     "text": [
      "batch 003 / 005 | 0.00039\n"
     ]
    },
    {
     "name": "stderr",
     "output_type": "stream",
     "text": [
      "100%|██████████| 80/80 [01:18<00:00,  1.01it/s]\n",
      "  0%|          | 0/80 [00:00<?, ?it/s]"
     ]
    },
    {
     "name": "stdout",
     "output_type": "stream",
     "text": [
      "batch 004 / 005 | 0.00033\n"
     ]
    },
    {
     "name": "stderr",
     "output_type": "stream",
     "text": [
      "100%|██████████| 80/80 [01:28<00:00,  1.10s/it]\n",
      "  0%|          | 0/80 [00:00<?, ?it/s]"
     ]
    },
    {
     "name": "stdout",
     "output_type": "stream",
     "text": [
      "batch 005 / 005 | 0.00029\n"
     ]
    },
    {
     "name": "stderr",
     "output_type": "stream",
     "text": [
      "100%|██████████| 80/80 [03:28<00:00,  2.60s/it]\n",
      "  0%|          | 0/80 [00:00<?, ?it/s]"
     ]
    },
    {
     "name": "stdout",
     "output_type": "stream",
     "text": [
      "008 | 0.00018\n"
     ]
    },
    {
     "name": "stderr",
     "output_type": "stream",
     "text": [
      "100%|██████████| 80/80 [01:24<00:00,  1.06s/it]\n",
      "  0%|          | 0/80 [00:00<?, ?it/s]"
     ]
    },
    {
     "name": "stdout",
     "output_type": "stream",
     "text": [
      "batch 001 / 005 | 0.00019\n"
     ]
    },
    {
     "name": "stderr",
     "output_type": "stream",
     "text": [
      "100%|██████████| 80/80 [01:25<00:00,  1.07s/it]\n",
      "  0%|          | 0/80 [00:00<?, ?it/s]"
     ]
    },
    {
     "name": "stdout",
     "output_type": "stream",
     "text": [
      "batch 002 / 005 | 0.00023\n"
     ]
    },
    {
     "name": "stderr",
     "output_type": "stream",
     "text": [
      "100%|██████████| 80/80 [01:31<00:00,  1.14s/it]\n",
      "  0%|          | 0/80 [00:00<?, ?it/s]"
     ]
    },
    {
     "name": "stdout",
     "output_type": "stream",
     "text": [
      "batch 003 / 005 | 0.00028\n"
     ]
    },
    {
     "name": "stderr",
     "output_type": "stream",
     "text": [
      "100%|██████████| 80/80 [01:19<00:00,  1.00it/s]\n",
      "  0%|          | 0/80 [00:00<?, ?it/s]"
     ]
    },
    {
     "name": "stdout",
     "output_type": "stream",
     "text": [
      "batch 004 / 005 | 0.00038\n"
     ]
    },
    {
     "name": "stderr",
     "output_type": "stream",
     "text": [
      "100%|██████████| 80/80 [01:17<00:00,  1.03it/s]\n",
      "  0%|          | 0/80 [00:00<?, ?it/s]"
     ]
    },
    {
     "name": "stdout",
     "output_type": "stream",
     "text": [
      "batch 005 / 005 | 0.00051\n"
     ]
    },
    {
     "name": "stderr",
     "output_type": "stream",
     "text": [
      "100%|██████████| 80/80 [03:25<00:00,  2.56s/it]\n",
      "  0%|          | 0/80 [00:00<?, ?it/s]"
     ]
    },
    {
     "name": "stdout",
     "output_type": "stream",
     "text": [
      "009 | 0.00158\n"
     ]
    },
    {
     "name": "stderr",
     "output_type": "stream",
     "text": [
      "100%|██████████| 80/80 [01:19<00:00,  1.01it/s]\n",
      "  0%|          | 0/80 [00:00<?, ?it/s]"
     ]
    },
    {
     "name": "stdout",
     "output_type": "stream",
     "text": [
      "batch 001 / 005 | 0.00160\n"
     ]
    },
    {
     "name": "stderr",
     "output_type": "stream",
     "text": [
      "100%|██████████| 80/80 [01:18<00:00,  1.02it/s]\n",
      "  0%|          | 0/80 [00:00<?, ?it/s]"
     ]
    },
    {
     "name": "stdout",
     "output_type": "stream",
     "text": [
      "batch 002 / 005 | 0.00202\n"
     ]
    },
    {
     "name": "stderr",
     "output_type": "stream",
     "text": [
      "100%|██████████| 80/80 [01:13<00:00,  1.09it/s]\n",
      "  0%|          | 0/80 [00:00<?, ?it/s]"
     ]
    },
    {
     "name": "stdout",
     "output_type": "stream",
     "text": [
      "batch 003 / 005 | 0.00238\n"
     ]
    },
    {
     "name": "stderr",
     "output_type": "stream",
     "text": [
      "100%|██████████| 80/80 [01:18<00:00,  1.02it/s]\n",
      "  0%|          | 0/80 [00:00<?, ?it/s]"
     ]
    },
    {
     "name": "stdout",
     "output_type": "stream",
     "text": [
      "batch 004 / 005 | 0.00262\n"
     ]
    },
    {
     "name": "stderr",
     "output_type": "stream",
     "text": [
      "100%|██████████| 80/80 [01:20<00:00,  1.01s/it]\n",
      "  0%|          | 0/80 [00:00<?, ?it/s]"
     ]
    },
    {
     "name": "stdout",
     "output_type": "stream",
     "text": [
      "batch 005 / 005 | 0.00278\n"
     ]
    },
    {
     "name": "stderr",
     "output_type": "stream",
     "text": [
      "100%|██████████| 80/80 [03:28<00:00,  2.61s/it]\n",
      "  0%|          | 0/80 [00:00<?, ?it/s]"
     ]
    },
    {
     "name": "stdout",
     "output_type": "stream",
     "text": [
      "010 | 0.00319\n"
     ]
    },
    {
     "name": "stderr",
     "output_type": "stream",
     "text": [
      "100%|██████████| 80/80 [01:22<00:00,  1.03s/it]\n",
      "  0%|          | 0/80 [00:00<?, ?it/s]"
     ]
    },
    {
     "name": "stdout",
     "output_type": "stream",
     "text": [
      "batch 001 / 005 | 0.00325\n"
     ]
    },
    {
     "name": "stderr",
     "output_type": "stream",
     "text": [
      "100%|██████████| 80/80 [01:29<00:00,  1.11s/it]\n",
      "  0%|          | 0/80 [00:00<?, ?it/s]"
     ]
    },
    {
     "name": "stdout",
     "output_type": "stream",
     "text": [
      "batch 002 / 005 | 0.00293\n"
     ]
    },
    {
     "name": "stderr",
     "output_type": "stream",
     "text": [
      "100%|██████████| 80/80 [01:32<00:00,  1.16s/it]\n",
      "  0%|          | 0/80 [00:00<?, ?it/s]"
     ]
    },
    {
     "name": "stdout",
     "output_type": "stream",
     "text": [
      "batch 003 / 005 | 0.00262\n"
     ]
    },
    {
     "name": "stderr",
     "output_type": "stream",
     "text": [
      "100%|██████████| 80/80 [01:18<00:00,  1.03it/s]\n",
      "  0%|          | 0/80 [00:00<?, ?it/s]"
     ]
    },
    {
     "name": "stdout",
     "output_type": "stream",
     "text": [
      "batch 004 / 005 | 0.00231\n"
     ]
    },
    {
     "name": "stderr",
     "output_type": "stream",
     "text": [
      "100%|██████████| 80/80 [01:24<00:00,  1.05s/it]\n",
      "  0%|          | 0/80 [00:00<?, ?it/s]"
     ]
    },
    {
     "name": "stdout",
     "output_type": "stream",
     "text": [
      "batch 005 / 005 | 0.00207\n"
     ]
    },
    {
     "name": "stderr",
     "output_type": "stream",
     "text": [
      "100%|██████████| 80/80 [03:42<00:00,  2.79s/it]\n",
      "  0%|          | 0/80 [00:00<?, ?it/s]"
     ]
    },
    {
     "name": "stdout",
     "output_type": "stream",
     "text": [
      "011 | 0.00086\n"
     ]
    },
    {
     "name": "stderr",
     "output_type": "stream",
     "text": [
      "100%|██████████| 80/80 [01:24<00:00,  1.05s/it]\n",
      "  0%|          | 0/80 [00:00<?, ?it/s]"
     ]
    },
    {
     "name": "stdout",
     "output_type": "stream",
     "text": [
      "batch 001 / 005 | 0.00086\n"
     ]
    },
    {
     "name": "stderr",
     "output_type": "stream",
     "text": [
      "100%|██████████| 80/80 [01:33<00:00,  1.17s/it]\n",
      "  0%|          | 0/80 [00:00<?, ?it/s]"
     ]
    },
    {
     "name": "stdout",
     "output_type": "stream",
     "text": [
      "batch 002 / 005 | 0.00080\n"
     ]
    },
    {
     "name": "stderr",
     "output_type": "stream",
     "text": [
      "100%|██████████| 80/80 [01:21<00:00,  1.01s/it]\n",
      "  0%|          | 0/80 [00:00<?, ?it/s]"
     ]
    },
    {
     "name": "stdout",
     "output_type": "stream",
     "text": [
      "batch 003 / 005 | 0.00076\n"
     ]
    },
    {
     "name": "stderr",
     "output_type": "stream",
     "text": [
      "100%|██████████| 80/80 [01:20<00:00,  1.01s/it]\n",
      "  0%|          | 0/80 [00:00<?, ?it/s]"
     ]
    },
    {
     "name": "stdout",
     "output_type": "stream",
     "text": [
      "batch 004 / 005 | 0.00075\n"
     ]
    },
    {
     "name": "stderr",
     "output_type": "stream",
     "text": [
      "100%|██████████| 80/80 [01:23<00:00,  1.04s/it]\n",
      "  0%|          | 0/80 [00:00<?, ?it/s]"
     ]
    },
    {
     "name": "stdout",
     "output_type": "stream",
     "text": [
      "batch 005 / 005 | 0.00078\n"
     ]
    },
    {
     "name": "stderr",
     "output_type": "stream",
     "text": [
      "100%|██████████| 80/80 [03:50<00:00,  2.88s/it]\n",
      "  0%|          | 0/80 [00:00<?, ?it/s]"
     ]
    },
    {
     "name": "stdout",
     "output_type": "stream",
     "text": [
      "012 | 0.00093\n"
     ]
    },
    {
     "name": "stderr",
     "output_type": "stream",
     "text": [
      "100%|██████████| 80/80 [01:28<00:00,  1.11s/it]\n",
      "  0%|          | 0/80 [00:00<?, ?it/s]"
     ]
    },
    {
     "name": "stdout",
     "output_type": "stream",
     "text": [
      "batch 001 / 005 | 0.00096\n"
     ]
    },
    {
     "name": "stderr",
     "output_type": "stream",
     "text": [
      "100%|██████████| 80/80 [01:17<00:00,  1.04it/s]\n",
      "  0%|          | 0/80 [00:00<?, ?it/s]"
     ]
    },
    {
     "name": "stdout",
     "output_type": "stream",
     "text": [
      "batch 002 / 005 | 0.00105\n"
     ]
    },
    {
     "name": "stderr",
     "output_type": "stream",
     "text": [
      "100%|██████████| 80/80 [01:20<00:00,  1.01s/it]\n",
      "  0%|          | 0/80 [00:00<?, ?it/s]"
     ]
    },
    {
     "name": "stdout",
     "output_type": "stream",
     "text": [
      "batch 003 / 005 | 0.00108\n"
     ]
    },
    {
     "name": "stderr",
     "output_type": "stream",
     "text": [
      "100%|██████████| 80/80 [01:21<00:00,  1.01s/it]\n",
      "  0%|          | 0/80 [00:00<?, ?it/s]"
     ]
    },
    {
     "name": "stdout",
     "output_type": "stream",
     "text": [
      "batch 004 / 005 | 0.00116\n"
     ]
    },
    {
     "name": "stderr",
     "output_type": "stream",
     "text": [
      "100%|██████████| 80/80 [01:25<00:00,  1.07s/it]\n",
      "  0%|          | 0/80 [00:00<?, ?it/s]"
     ]
    },
    {
     "name": "stdout",
     "output_type": "stream",
     "text": [
      "batch 005 / 005 | 0.00125\n"
     ]
    },
    {
     "name": "stderr",
     "output_type": "stream",
     "text": [
      "100%|██████████| 80/80 [03:32<00:00,  2.66s/it]\n",
      "  0%|          | 0/80 [00:00<?, ?it/s]"
     ]
    },
    {
     "name": "stdout",
     "output_type": "stream",
     "text": [
      "013 | 0.00170\n"
     ]
    },
    {
     "name": "stderr",
     "output_type": "stream",
     "text": [
      "100%|██████████| 80/80 [01:28<00:00,  1.11s/it]\n",
      "  0%|          | 0/80 [00:00<?, ?it/s]"
     ]
    },
    {
     "name": "stdout",
     "output_type": "stream",
     "text": [
      "batch 001 / 005 | 0.00174\n"
     ]
    },
    {
     "name": "stderr",
     "output_type": "stream",
     "text": [
      "100%|██████████| 80/80 [01:17<00:00,  1.03it/s]\n",
      "  0%|          | 0/80 [00:00<?, ?it/s]"
     ]
    },
    {
     "name": "stdout",
     "output_type": "stream",
     "text": [
      "batch 002 / 005 | 0.00173\n"
     ]
    },
    {
     "name": "stderr",
     "output_type": "stream",
     "text": [
      "100%|██████████| 80/80 [01:15<00:00,  1.06it/s]\n",
      "  0%|          | 0/80 [00:00<?, ?it/s]"
     ]
    },
    {
     "name": "stdout",
     "output_type": "stream",
     "text": [
      "batch 003 / 005 | 0.00173\n"
     ]
    },
    {
     "name": "stderr",
     "output_type": "stream",
     "text": [
      "100%|██████████| 80/80 [01:30<00:00,  1.13s/it]\n",
      "  0%|          | 0/80 [00:00<?, ?it/s]"
     ]
    },
    {
     "name": "stdout",
     "output_type": "stream",
     "text": [
      "batch 004 / 005 | 0.00168\n"
     ]
    },
    {
     "name": "stderr",
     "output_type": "stream",
     "text": [
      "100%|██████████| 80/80 [01:19<00:00,  1.01it/s]\n",
      "  0%|          | 0/80 [00:00<?, ?it/s]"
     ]
    },
    {
     "name": "stdout",
     "output_type": "stream",
     "text": [
      "batch 005 / 005 | 0.00165\n"
     ]
    },
    {
     "name": "stderr",
     "output_type": "stream",
     "text": [
      "100%|██████████| 80/80 [03:26<00:00,  2.58s/it]\n",
      "  0%|          | 0/80 [00:00<?, ?it/s]"
     ]
    },
    {
     "name": "stdout",
     "output_type": "stream",
     "text": [
      "014 | 0.00144\n"
     ]
    },
    {
     "name": "stderr",
     "output_type": "stream",
     "text": [
      "100%|██████████| 80/80 [01:21<00:00,  1.02s/it]\n",
      "  0%|          | 0/80 [00:00<?, ?it/s]"
     ]
    },
    {
     "name": "stdout",
     "output_type": "stream",
     "text": [
      "batch 001 / 005 | 0.00153\n"
     ]
    },
    {
     "name": "stderr",
     "output_type": "stream",
     "text": [
      "100%|██████████| 80/80 [01:20<00:00,  1.01s/it]\n",
      "  0%|          | 0/80 [00:00<?, ?it/s]"
     ]
    },
    {
     "name": "stdout",
     "output_type": "stream",
     "text": [
      "batch 002 / 005 | 0.00144\n"
     ]
    },
    {
     "name": "stderr",
     "output_type": "stream",
     "text": [
      "100%|██████████| 80/80 [01:22<00:00,  1.03s/it]\n",
      "  0%|          | 0/80 [00:00<?, ?it/s]"
     ]
    },
    {
     "name": "stdout",
     "output_type": "stream",
     "text": [
      "batch 003 / 005 | 0.00137\n"
     ]
    },
    {
     "name": "stderr",
     "output_type": "stream",
     "text": [
      "100%|██████████| 80/80 [01:23<00:00,  1.05s/it]\n",
      "  0%|          | 0/80 [00:00<?, ?it/s]"
     ]
    },
    {
     "name": "stdout",
     "output_type": "stream",
     "text": [
      "batch 004 / 005 | 0.00133\n"
     ]
    },
    {
     "name": "stderr",
     "output_type": "stream",
     "text": [
      "100%|██████████| 80/80 [01:16<00:00,  1.05it/s]\n",
      "  0%|          | 0/80 [00:00<?, ?it/s]"
     ]
    },
    {
     "name": "stdout",
     "output_type": "stream",
     "text": [
      "batch 005 / 005 | 0.00131\n",
      "new lr: 0.05\n"
     ]
    },
    {
     "name": "stderr",
     "output_type": "stream",
     "text": [
      "100%|██████████| 80/80 [03:33<00:00,  2.66s/it]\n",
      "  0%|          | 0/80 [00:00<?, ?it/s]"
     ]
    },
    {
     "name": "stdout",
     "output_type": "stream",
     "text": [
      "015 | 0.00122\n"
     ]
    },
    {
     "name": "stderr",
     "output_type": "stream",
     "text": [
      "100%|██████████| 80/80 [01:29<00:00,  1.12s/it]\n",
      "  0%|          | 0/80 [00:00<?, ?it/s]"
     ]
    },
    {
     "name": "stdout",
     "output_type": "stream",
     "text": [
      "batch 001 / 005 | 0.00124\n"
     ]
    },
    {
     "name": "stderr",
     "output_type": "stream",
     "text": [
      "100%|██████████| 80/80 [01:16<00:00,  1.04it/s]\n",
      "  0%|          | 0/80 [00:00<?, ?it/s]"
     ]
    },
    {
     "name": "stdout",
     "output_type": "stream",
     "text": [
      "batch 002 / 005 | 0.00656\n"
     ]
    },
    {
     "name": "stderr",
     "output_type": "stream",
     "text": [
      "100%|██████████| 80/80 [01:19<00:00,  1.01it/s]\n",
      "  0%|          | 0/80 [00:00<?, ?it/s]"
     ]
    },
    {
     "name": "stdout",
     "output_type": "stream",
     "text": [
      "batch 003 / 005 | 0.00532\n"
     ]
    },
    {
     "name": "stderr",
     "output_type": "stream",
     "text": [
      "100%|██████████| 80/80 [01:20<00:00,  1.00s/it]\n",
      "  0%|          | 0/80 [00:00<?, ?it/s]"
     ]
    },
    {
     "name": "stdout",
     "output_type": "stream",
     "text": [
      "batch 004 / 005 | 0.00416\n"
     ]
    },
    {
     "name": "stderr",
     "output_type": "stream",
     "text": [
      "100%|██████████| 80/80 [01:25<00:00,  1.07s/it]\n",
      "  0%|          | 0/80 [00:00<?, ?it/s]"
     ]
    },
    {
     "name": "stdout",
     "output_type": "stream",
     "text": [
      "batch 005 / 005 | 0.00337\n"
     ]
    },
    {
     "name": "stderr",
     "output_type": "stream",
     "text": [
      "100%|██████████| 80/80 [03:26<00:00,  2.58s/it]\n",
      "  0%|          | 0/80 [00:00<?, ?it/s]"
     ]
    },
    {
     "name": "stdout",
     "output_type": "stream",
     "text": [
      "016 | 0.00013\n"
     ]
    },
    {
     "name": "stderr",
     "output_type": "stream",
     "text": [
      "100%|██████████| 80/80 [01:21<00:00,  1.02s/it]\n",
      "  0%|          | 0/80 [00:00<?, ?it/s]"
     ]
    },
    {
     "name": "stdout",
     "output_type": "stream",
     "text": [
      "batch 001 / 005 | 0.00013\n"
     ]
    },
    {
     "name": "stderr",
     "output_type": "stream",
     "text": [
      "100%|██████████| 80/80 [01:16<00:00,  1.04it/s]\n",
      "  0%|          | 0/80 [00:00<?, ?it/s]"
     ]
    },
    {
     "name": "stdout",
     "output_type": "stream",
     "text": [
      "batch 002 / 005 | 0.00013\n"
     ]
    },
    {
     "name": "stderr",
     "output_type": "stream",
     "text": [
      "100%|██████████| 80/80 [01:21<00:00,  1.01s/it]\n",
      "  0%|          | 0/80 [00:00<?, ?it/s]"
     ]
    },
    {
     "name": "stdout",
     "output_type": "stream",
     "text": [
      "batch 003 / 005 | 0.00014\n"
     ]
    },
    {
     "name": "stderr",
     "output_type": "stream",
     "text": [
      "100%|██████████| 80/80 [01:20<00:00,  1.00s/it]\n",
      "  0%|          | 0/80 [00:00<?, ?it/s]"
     ]
    },
    {
     "name": "stdout",
     "output_type": "stream",
     "text": [
      "batch 004 / 005 | 0.00016\n"
     ]
    },
    {
     "name": "stderr",
     "output_type": "stream",
     "text": [
      "100%|██████████| 80/80 [01:33<00:00,  1.17s/it]\n",
      "  0%|          | 0/80 [00:00<?, ?it/s]"
     ]
    },
    {
     "name": "stdout",
     "output_type": "stream",
     "text": [
      "batch 005 / 005 | 0.00022\n"
     ]
    },
    {
     "name": "stderr",
     "output_type": "stream",
     "text": [
      "100%|██████████| 80/80 [03:32<00:00,  2.66s/it]\n",
      "  0%|          | 0/80 [00:00<?, ?it/s]"
     ]
    },
    {
     "name": "stdout",
     "output_type": "stream",
     "text": [
      "017 | 0.00109\n"
     ]
    },
    {
     "name": "stderr",
     "output_type": "stream",
     "text": [
      "100%|██████████| 80/80 [01:23<00:00,  1.04s/it]\n",
      "  0%|          | 0/80 [00:00<?, ?it/s]"
     ]
    },
    {
     "name": "stdout",
     "output_type": "stream",
     "text": [
      "batch 001 / 005 | 0.00109\n"
     ]
    },
    {
     "name": "stderr",
     "output_type": "stream",
     "text": [
      "100%|██████████| 80/80 [01:20<00:00,  1.01s/it]\n",
      "  0%|          | 0/80 [00:00<?, ?it/s]"
     ]
    },
    {
     "name": "stdout",
     "output_type": "stream",
     "text": [
      "batch 002 / 005 | 0.00175\n"
     ]
    },
    {
     "name": "stderr",
     "output_type": "stream",
     "text": [
      "100%|██████████| 80/80 [01:26<00:00,  1.08s/it]\n",
      "  0%|          | 0/80 [00:00<?, ?it/s]"
     ]
    },
    {
     "name": "stdout",
     "output_type": "stream",
     "text": [
      "batch 003 / 005 | 0.00275\n"
     ]
    },
    {
     "name": "stderr",
     "output_type": "stream",
     "text": [
      "100%|██████████| 80/80 [01:23<00:00,  1.04s/it]\n",
      "  0%|          | 0/80 [00:00<?, ?it/s]"
     ]
    },
    {
     "name": "stdout",
     "output_type": "stream",
     "text": [
      "batch 004 / 005 | 0.00359\n"
     ]
    },
    {
     "name": "stderr",
     "output_type": "stream",
     "text": [
      "100%|██████████| 80/80 [01:23<00:00,  1.04s/it]\n",
      "  0%|          | 0/80 [00:00<?, ?it/s]"
     ]
    },
    {
     "name": "stdout",
     "output_type": "stream",
     "text": [
      "batch 005 / 005 | 0.00373\n"
     ]
    },
    {
     "name": "stderr",
     "output_type": "stream",
     "text": [
      "100%|██████████| 80/80 [03:36<00:00,  2.71s/it]\n",
      "  0%|          | 0/80 [00:00<?, ?it/s]"
     ]
    },
    {
     "name": "stdout",
     "output_type": "stream",
     "text": [
      "018 | 0.00230\n"
     ]
    },
    {
     "name": "stderr",
     "output_type": "stream",
     "text": [
      "100%|██████████| 80/80 [01:19<00:00,  1.00it/s]\n",
      "  0%|          | 0/80 [00:00<?, ?it/s]"
     ]
    },
    {
     "name": "stdout",
     "output_type": "stream",
     "text": [
      "batch 001 / 005 | 0.00239\n"
     ]
    },
    {
     "name": "stderr",
     "output_type": "stream",
     "text": [
      "100%|██████████| 80/80 [01:24<00:00,  1.06s/it]\n",
      "  0%|          | 0/80 [00:00<?, ?it/s]"
     ]
    },
    {
     "name": "stdout",
     "output_type": "stream",
     "text": [
      "batch 002 / 005 | 0.00177\n"
     ]
    },
    {
     "name": "stderr",
     "output_type": "stream",
     "text": [
      "100%|██████████| 80/80 [01:34<00:00,  1.18s/it]\n",
      "  0%|          | 0/80 [00:00<?, ?it/s]"
     ]
    },
    {
     "name": "stdout",
     "output_type": "stream",
     "text": [
      "batch 003 / 005 | 0.00138\n"
     ]
    },
    {
     "name": "stderr",
     "output_type": "stream",
     "text": [
      "100%|██████████| 80/80 [01:27<00:00,  1.09s/it]\n",
      "  0%|          | 0/80 [00:00<?, ?it/s]"
     ]
    },
    {
     "name": "stdout",
     "output_type": "stream",
     "text": [
      "batch 004 / 005 | 0.00115\n"
     ]
    },
    {
     "name": "stderr",
     "output_type": "stream",
     "text": [
      "100%|██████████| 80/80 [01:30<00:00,  1.13s/it]\n",
      "  0%|          | 0/80 [00:00<?, ?it/s]"
     ]
    },
    {
     "name": "stdout",
     "output_type": "stream",
     "text": [
      "batch 005 / 005 | 0.00099\n"
     ]
    },
    {
     "name": "stderr",
     "output_type": "stream",
     "text": [
      "100%|██████████| 80/80 [03:49<00:00,  2.86s/it]\n",
      "  0%|          | 0/80 [00:00<?, ?it/s]"
     ]
    },
    {
     "name": "stdout",
     "output_type": "stream",
     "text": [
      "019 | 0.00033\n"
     ]
    },
    {
     "name": "stderr",
     "output_type": "stream",
     "text": [
      "100%|██████████| 80/80 [01:35<00:00,  1.19s/it]\n",
      "  0%|          | 0/80 [00:00<?, ?it/s]"
     ]
    },
    {
     "name": "stdout",
     "output_type": "stream",
     "text": [
      "batch 001 / 005 | 0.00033\n"
     ]
    },
    {
     "name": "stderr",
     "output_type": "stream",
     "text": [
      "100%|██████████| 80/80 [01:34<00:00,  1.19s/it]\n",
      "  0%|          | 0/80 [00:00<?, ?it/s]"
     ]
    },
    {
     "name": "stdout",
     "output_type": "stream",
     "text": [
      "batch 002 / 005 | 0.00039\n"
     ]
    },
    {
     "name": "stderr",
     "output_type": "stream",
     "text": [
      "100%|██████████| 80/80 [01:23<00:00,  1.05s/it]\n",
      "  0%|          | 0/80 [00:00<?, ?it/s]"
     ]
    },
    {
     "name": "stdout",
     "output_type": "stream",
     "text": [
      "batch 003 / 005 | 0.00046\n"
     ]
    },
    {
     "name": "stderr",
     "output_type": "stream",
     "text": [
      "100%|██████████| 80/80 [01:27<00:00,  1.10s/it]\n",
      "  0%|          | 0/80 [00:00<?, ?it/s]"
     ]
    },
    {
     "name": "stdout",
     "output_type": "stream",
     "text": [
      "batch 004 / 005 | 0.00053\n"
     ]
    },
    {
     "name": "stderr",
     "output_type": "stream",
     "text": [
      "100%|██████████| 80/80 [01:16<00:00,  1.05it/s]\n",
      "  0%|          | 0/80 [00:00<?, ?it/s]"
     ]
    },
    {
     "name": "stdout",
     "output_type": "stream",
     "text": [
      "batch 005 / 005 | 0.00067\n"
     ]
    },
    {
     "name": "stderr",
     "output_type": "stream",
     "text": [
      "100%|██████████| 80/80 [03:25<00:00,  2.56s/it]\n",
      "  0%|          | 0/80 [00:00<?, ?it/s]"
     ]
    },
    {
     "name": "stdout",
     "output_type": "stream",
     "text": [
      "020 | 0.00187\n"
     ]
    },
    {
     "name": "stderr",
     "output_type": "stream",
     "text": [
      "100%|██████████| 80/80 [01:21<00:00,  1.02s/it]\n",
      "  0%|          | 0/80 [00:00<?, ?it/s]"
     ]
    },
    {
     "name": "stdout",
     "output_type": "stream",
     "text": [
      "batch 001 / 005 | 0.00190\n"
     ]
    },
    {
     "name": "stderr",
     "output_type": "stream",
     "text": [
      "100%|██████████| 80/80 [01:19<00:00,  1.01it/s]\n",
      "  0%|          | 0/80 [00:00<?, ?it/s]"
     ]
    },
    {
     "name": "stdout",
     "output_type": "stream",
     "text": [
      "batch 002 / 005 | 0.00221\n"
     ]
    },
    {
     "name": "stderr",
     "output_type": "stream",
     "text": [
      "100%|██████████| 80/80 [01:38<00:00,  1.23s/it]\n",
      "  0%|          | 0/80 [00:00<?, ?it/s]"
     ]
    },
    {
     "name": "stdout",
     "output_type": "stream",
     "text": [
      "batch 003 / 005 | 0.00239\n"
     ]
    },
    {
     "name": "stderr",
     "output_type": "stream",
     "text": [
      "100%|██████████| 80/80 [01:34<00:00,  1.18s/it]\n",
      "  0%|          | 0/80 [00:00<?, ?it/s]"
     ]
    },
    {
     "name": "stdout",
     "output_type": "stream",
     "text": [
      "batch 004 / 005 | 0.00244\n"
     ]
    },
    {
     "name": "stderr",
     "output_type": "stream",
     "text": [
      "100%|██████████| 80/80 [01:19<00:00,  1.01it/s]\n",
      "  0%|          | 0/80 [00:00<?, ?it/s]"
     ]
    },
    {
     "name": "stdout",
     "output_type": "stream",
     "text": [
      "batch 005 / 005 | 0.00242\n"
     ]
    },
    {
     "name": "stderr",
     "output_type": "stream",
     "text": [
      "100%|██████████| 80/80 [03:29<00:00,  2.62s/it]\n",
      "  0%|          | 0/80 [00:00<?, ?it/s]"
     ]
    },
    {
     "name": "stdout",
     "output_type": "stream",
     "text": [
      "021 | 0.00248\n"
     ]
    },
    {
     "name": "stderr",
     "output_type": "stream",
     "text": [
      "100%|██████████| 80/80 [01:22<00:00,  1.04s/it]\n",
      "  0%|          | 0/80 [00:00<?, ?it/s]"
     ]
    },
    {
     "name": "stdout",
     "output_type": "stream",
     "text": [
      "batch 001 / 005 | 0.00201\n"
     ]
    },
    {
     "name": "stderr",
     "output_type": "stream",
     "text": [
      "100%|██████████| 80/80 [01:27<00:00,  1.10s/it]\n",
      "  0%|          | 0/80 [00:00<?, ?it/s]"
     ]
    },
    {
     "name": "stdout",
     "output_type": "stream",
     "text": [
      "batch 002 / 005 | 0.00186\n"
     ]
    },
    {
     "name": "stderr",
     "output_type": "stream",
     "text": [
      "100%|██████████| 80/80 [01:32<00:00,  1.15s/it]\n",
      "  0%|          | 0/80 [00:00<?, ?it/s]"
     ]
    },
    {
     "name": "stdout",
     "output_type": "stream",
     "text": [
      "batch 003 / 005 | 0.00171\n"
     ]
    },
    {
     "name": "stderr",
     "output_type": "stream",
     "text": [
      "100%|██████████| 80/80 [01:26<00:00,  1.08s/it]\n",
      "  0%|          | 0/80 [00:00<?, ?it/s]"
     ]
    },
    {
     "name": "stdout",
     "output_type": "stream",
     "text": [
      "batch 004 / 005 | 0.00159\n"
     ]
    },
    {
     "name": "stderr",
     "output_type": "stream",
     "text": [
      "100%|██████████| 80/80 [01:20<00:00,  1.01s/it]\n",
      "  0%|          | 0/80 [00:00<?, ?it/s]"
     ]
    },
    {
     "name": "stdout",
     "output_type": "stream",
     "text": [
      "batch 005 / 005 | 0.00147\n"
     ]
    },
    {
     "name": "stderr",
     "output_type": "stream",
     "text": [
      "100%|██████████| 80/80 [03:41<00:00,  2.76s/it]\n",
      "  0%|          | 0/80 [00:00<?, ?it/s]"
     ]
    },
    {
     "name": "stdout",
     "output_type": "stream",
     "text": [
      "022 | 0.00075\n"
     ]
    },
    {
     "name": "stderr",
     "output_type": "stream",
     "text": [
      "100%|██████████| 80/80 [01:18<00:00,  1.01it/s]\n",
      "  0%|          | 0/80 [00:00<?, ?it/s]"
     ]
    },
    {
     "name": "stdout",
     "output_type": "stream",
     "text": [
      "batch 001 / 005 | 0.00076\n"
     ]
    },
    {
     "name": "stderr",
     "output_type": "stream",
     "text": [
      "100%|██████████| 80/80 [01:28<00:00,  1.10s/it]\n",
      "  0%|          | 0/80 [00:00<?, ?it/s]"
     ]
    },
    {
     "name": "stdout",
     "output_type": "stream",
     "text": [
      "batch 002 / 005 | 0.00073\n"
     ]
    },
    {
     "name": "stderr",
     "output_type": "stream",
     "text": [
      "100%|██████████| 80/80 [01:25<00:00,  1.07s/it]\n",
      "  0%|          | 0/80 [00:00<?, ?it/s]"
     ]
    },
    {
     "name": "stdout",
     "output_type": "stream",
     "text": [
      "batch 003 / 005 | 0.00072\n"
     ]
    },
    {
     "name": "stderr",
     "output_type": "stream",
     "text": [
      "100%|██████████| 80/80 [01:25<00:00,  1.06s/it]\n",
      "  0%|          | 0/80 [00:00<?, ?it/s]"
     ]
    },
    {
     "name": "stdout",
     "output_type": "stream",
     "text": [
      "batch 004 / 005 | 0.00076\n"
     ]
    },
    {
     "name": "stderr",
     "output_type": "stream",
     "text": [
      "100%|██████████| 80/80 [01:19<00:00,  1.00it/s]\n",
      "  0%|          | 0/80 [00:00<?, ?it/s]"
     ]
    },
    {
     "name": "stdout",
     "output_type": "stream",
     "text": [
      "batch 005 / 005 | 0.00084\n"
     ]
    },
    {
     "name": "stderr",
     "output_type": "stream",
     "text": [
      "100%|██████████| 80/80 [03:22<00:00,  2.53s/it]\n",
      "  0%|          | 0/80 [00:00<?, ?it/s]"
     ]
    },
    {
     "name": "stdout",
     "output_type": "stream",
     "text": [
      "023 | 0.00139\n"
     ]
    },
    {
     "name": "stderr",
     "output_type": "stream",
     "text": [
      "100%|██████████| 80/80 [01:29<00:00,  1.11s/it]\n",
      "  0%|          | 0/80 [00:00<?, ?it/s]"
     ]
    },
    {
     "name": "stdout",
     "output_type": "stream",
     "text": [
      "batch 001 / 005 | 0.00143\n"
     ]
    },
    {
     "name": "stderr",
     "output_type": "stream",
     "text": [
      "100%|██████████| 80/80 [01:31<00:00,  1.15s/it]\n",
      "  0%|          | 0/80 [00:00<?, ?it/s]"
     ]
    },
    {
     "name": "stdout",
     "output_type": "stream",
     "text": [
      "batch 002 / 005 | 0.00152\n"
     ]
    },
    {
     "name": "stderr",
     "output_type": "stream",
     "text": [
      "100%|██████████| 80/80 [01:22<00:00,  1.03s/it]\n",
      "  0%|          | 0/80 [00:00<?, ?it/s]"
     ]
    },
    {
     "name": "stdout",
     "output_type": "stream",
     "text": [
      "batch 003 / 005 | 0.00154\n"
     ]
    },
    {
     "name": "stderr",
     "output_type": "stream",
     "text": [
      "100%|██████████| 80/80 [01:21<00:00,  1.02s/it]\n",
      "  0%|          | 0/80 [00:00<?, ?it/s]"
     ]
    },
    {
     "name": "stdout",
     "output_type": "stream",
     "text": [
      "batch 004 / 005 | 0.00152\n"
     ]
    },
    {
     "name": "stderr",
     "output_type": "stream",
     "text": [
      "100%|██████████| 80/80 [01:25<00:00,  1.06s/it]\n",
      "  0%|          | 0/80 [00:00<?, ?it/s]"
     ]
    },
    {
     "name": "stdout",
     "output_type": "stream",
     "text": [
      "batch 005 / 005 | 0.00153\n"
     ]
    },
    {
     "name": "stderr",
     "output_type": "stream",
     "text": [
      "  5%|▌         | 4/80 [00:11<03:38,  2.88s/it]\n",
      "  0%|          | 0/80 [00:00<?, ?it/s]"
     ]
    },
    {
     "name": "stdout",
     "output_type": "stream",
     "text": [
      "Please consider re-formulating your problem so that it is always solvable or increasing the number of solver iterations.\n",
      "024 | 0.62561\n"
     ]
    },
    {
     "name": "stderr",
     "output_type": "stream",
     "text": [
      "100%|██████████| 80/80 [01:23<00:00,  1.04s/it]\n",
      "  0%|          | 0/80 [00:00<?, ?it/s]"
     ]
    },
    {
     "name": "stdout",
     "output_type": "stream",
     "text": [
      "batch 001 / 005 | 0.00171\n"
     ]
    },
    {
     "name": "stderr",
     "output_type": "stream",
     "text": [
      "100%|██████████| 80/80 [01:18<00:00,  1.03it/s]\n",
      "  0%|          | 0/80 [00:00<?, ?it/s]"
     ]
    },
    {
     "name": "stdout",
     "output_type": "stream",
     "text": [
      "batch 002 / 005 | 0.00170\n"
     ]
    },
    {
     "name": "stderr",
     "output_type": "stream",
     "text": [
      "100%|██████████| 80/80 [01:28<00:00,  1.10s/it]\n",
      "  0%|          | 0/80 [00:00<?, ?it/s]"
     ]
    },
    {
     "name": "stdout",
     "output_type": "stream",
     "text": [
      "batch 003 / 005 | 0.00170\n"
     ]
    },
    {
     "name": "stderr",
     "output_type": "stream",
     "text": [
      "100%|██████████| 80/80 [01:29<00:00,  1.12s/it]\n",
      "  0%|          | 0/80 [00:00<?, ?it/s]"
     ]
    },
    {
     "name": "stdout",
     "output_type": "stream",
     "text": [
      "batch 004 / 005 | 0.00168\n"
     ]
    },
    {
     "name": "stderr",
     "output_type": "stream",
     "text": [
      "100%|██████████| 80/80 [01:23<00:00,  1.04s/it]\n",
      "  0%|          | 0/80 [00:00<?, ?it/s]"
     ]
    },
    {
     "name": "stdout",
     "output_type": "stream",
     "text": [
      "batch 005 / 005 | 0.00166\n"
     ]
    },
    {
     "name": "stderr",
     "output_type": "stream",
     "text": [
      "100%|██████████| 80/80 [03:31<00:00,  2.64s/it]\n",
      "  0%|          | 0/80 [00:00<?, ?it/s]"
     ]
    },
    {
     "name": "stdout",
     "output_type": "stream",
     "text": [
      "025 | 0.00144\n"
     ]
    },
    {
     "name": "stderr",
     "output_type": "stream",
     "text": [
      "100%|██████████| 80/80 [01:22<00:00,  1.04s/it]\n",
      "  0%|          | 0/80 [00:00<?, ?it/s]"
     ]
    },
    {
     "name": "stdout",
     "output_type": "stream",
     "text": [
      "batch 001 / 005 | 0.00143\n"
     ]
    },
    {
     "name": "stderr",
     "output_type": "stream",
     "text": [
      "100%|██████████| 80/80 [01:25<00:00,  1.07s/it]\n",
      "  0%|          | 0/80 [00:00<?, ?it/s]"
     ]
    },
    {
     "name": "stdout",
     "output_type": "stream",
     "text": [
      "batch 002 / 005 | 0.00144\n"
     ]
    },
    {
     "name": "stderr",
     "output_type": "stream",
     "text": [
      "100%|██████████| 80/80 [01:27<00:00,  1.09s/it]\n",
      "  0%|          | 0/80 [00:00<?, ?it/s]"
     ]
    },
    {
     "name": "stdout",
     "output_type": "stream",
     "text": [
      "batch 003 / 005 | 0.00139\n"
     ]
    },
    {
     "name": "stderr",
     "output_type": "stream",
     "text": [
      "100%|██████████| 80/80 [01:22<00:00,  1.03s/it]\n",
      "  0%|          | 0/80 [00:00<?, ?it/s]"
     ]
    },
    {
     "name": "stdout",
     "output_type": "stream",
     "text": [
      "batch 004 / 005 | 0.00134\n"
     ]
    },
    {
     "name": "stderr",
     "output_type": "stream",
     "text": [
      "100%|██████████| 80/80 [01:20<00:00,  1.01s/it]\n",
      "  0%|          | 0/80 [00:00<?, ?it/s]"
     ]
    },
    {
     "name": "stdout",
     "output_type": "stream",
     "text": [
      "batch 005 / 005 | 0.00129\n"
     ]
    },
    {
     "name": "stderr",
     "output_type": "stream",
     "text": [
      "100%|██████████| 80/80 [03:22<00:00,  2.53s/it]\n",
      "  0%|          | 0/80 [00:00<?, ?it/s]"
     ]
    },
    {
     "name": "stdout",
     "output_type": "stream",
     "text": [
      "026 | 0.00114\n"
     ]
    },
    {
     "name": "stderr",
     "output_type": "stream",
     "text": [
      "100%|██████████| 80/80 [01:22<00:00,  1.03s/it]\n",
      "  0%|          | 0/80 [00:00<?, ?it/s]"
     ]
    },
    {
     "name": "stdout",
     "output_type": "stream",
     "text": [
      "batch 001 / 005 | 0.00116\n"
     ]
    },
    {
     "name": "stderr",
     "output_type": "stream",
     "text": [
      "100%|██████████| 80/80 [01:21<00:00,  1.02s/it]\n",
      "  0%|          | 0/80 [00:00<?, ?it/s]"
     ]
    },
    {
     "name": "stdout",
     "output_type": "stream",
     "text": [
      "batch 002 / 005 | 0.00116\n"
     ]
    },
    {
     "name": "stderr",
     "output_type": "stream",
     "text": [
      "100%|██████████| 80/80 [01:27<00:00,  1.09s/it]\n",
      "  0%|          | 0/80 [00:00<?, ?it/s]"
     ]
    },
    {
     "name": "stdout",
     "output_type": "stream",
     "text": [
      "batch 003 / 005 | 0.00123\n"
     ]
    },
    {
     "name": "stderr",
     "output_type": "stream",
     "text": [
      "100%|██████████| 80/80 [01:25<00:00,  1.07s/it]\n",
      "  0%|          | 0/80 [00:00<?, ?it/s]"
     ]
    },
    {
     "name": "stdout",
     "output_type": "stream",
     "text": [
      "batch 004 / 005 | 0.00134\n"
     ]
    },
    {
     "name": "stderr",
     "output_type": "stream",
     "text": [
      "100%|██████████| 80/80 [01:20<00:00,  1.01s/it]\n",
      "  0%|          | 0/80 [00:00<?, ?it/s]"
     ]
    },
    {
     "name": "stdout",
     "output_type": "stream",
     "text": [
      "batch 005 / 005 | 0.00138\n"
     ]
    },
    {
     "name": "stderr",
     "output_type": "stream",
     "text": [
      "100%|██████████| 80/80 [03:21<00:00,  2.52s/it]\n",
      "  0%|          | 0/80 [00:00<?, ?it/s]"
     ]
    },
    {
     "name": "stdout",
     "output_type": "stream",
     "text": [
      "027 | 0.00141\n"
     ]
    },
    {
     "name": "stderr",
     "output_type": "stream",
     "text": [
      "100%|██████████| 80/80 [01:20<00:00,  1.00s/it]\n",
      "  0%|          | 0/80 [00:00<?, ?it/s]"
     ]
    },
    {
     "name": "stdout",
     "output_type": "stream",
     "text": [
      "batch 001 / 005 | 0.00136\n"
     ]
    },
    {
     "name": "stderr",
     "output_type": "stream",
     "text": [
      "100%|██████████| 80/80 [01:19<00:00,  1.00it/s]\n",
      "  0%|          | 0/80 [00:00<?, ?it/s]"
     ]
    },
    {
     "name": "stdout",
     "output_type": "stream",
     "text": [
      "batch 002 / 005 | 0.00134\n"
     ]
    },
    {
     "name": "stderr",
     "output_type": "stream",
     "text": [
      "100%|██████████| 80/80 [01:27<00:00,  1.09s/it]\n",
      "  0%|          | 0/80 [00:00<?, ?it/s]"
     ]
    },
    {
     "name": "stdout",
     "output_type": "stream",
     "text": [
      "batch 003 / 005 | 0.00125\n"
     ]
    },
    {
     "name": "stderr",
     "output_type": "stream",
     "text": [
      "100%|██████████| 80/80 [01:19<00:00,  1.01it/s]\n",
      "  0%|          | 0/80 [00:00<?, ?it/s]"
     ]
    },
    {
     "name": "stdout",
     "output_type": "stream",
     "text": [
      "batch 004 / 005 | 0.00117\n"
     ]
    },
    {
     "name": "stderr",
     "output_type": "stream",
     "text": [
      "100%|██████████| 80/80 [01:22<00:00,  1.03s/it]\n",
      "  0%|          | 0/80 [00:00<?, ?it/s]"
     ]
    },
    {
     "name": "stdout",
     "output_type": "stream",
     "text": [
      "batch 005 / 005 | 0.00117\n"
     ]
    },
    {
     "name": "stderr",
     "output_type": "stream",
     "text": [
      "100%|██████████| 80/80 [03:22<00:00,  2.53s/it]\n",
      "  0%|          | 0/80 [00:00<?, ?it/s]"
     ]
    },
    {
     "name": "stdout",
     "output_type": "stream",
     "text": [
      "028 | 0.00126\n"
     ]
    },
    {
     "name": "stderr",
     "output_type": "stream",
     "text": [
      "100%|██████████| 80/80 [01:19<00:00,  1.01it/s]\n",
      "  0%|          | 0/80 [00:00<?, ?it/s]"
     ]
    },
    {
     "name": "stdout",
     "output_type": "stream",
     "text": [
      "batch 001 / 005 | 0.00128\n"
     ]
    },
    {
     "name": "stderr",
     "output_type": "stream",
     "text": [
      "100%|██████████| 80/80 [01:24<00:00,  1.05s/it]\n",
      "  0%|          | 0/80 [00:00<?, ?it/s]"
     ]
    },
    {
     "name": "stdout",
     "output_type": "stream",
     "text": [
      "batch 002 / 005 | 0.00149\n"
     ]
    },
    {
     "name": "stderr",
     "output_type": "stream",
     "text": [
      "100%|██████████| 80/80 [01:21<00:00,  1.02s/it]\n",
      "  0%|          | 0/80 [00:00<?, ?it/s]"
     ]
    },
    {
     "name": "stdout",
     "output_type": "stream",
     "text": [
      "batch 003 / 005 | 0.00159\n"
     ]
    },
    {
     "name": "stderr",
     "output_type": "stream",
     "text": [
      "100%|██████████| 80/80 [01:27<00:00,  1.09s/it]\n",
      "  0%|          | 0/80 [00:00<?, ?it/s]"
     ]
    },
    {
     "name": "stdout",
     "output_type": "stream",
     "text": [
      "batch 004 / 005 | 0.00164\n"
     ]
    },
    {
     "name": "stderr",
     "output_type": "stream",
     "text": [
      "100%|██████████| 80/80 [01:25<00:00,  1.07s/it]\n",
      "  0%|          | 0/80 [00:00<?, ?it/s]"
     ]
    },
    {
     "name": "stdout",
     "output_type": "stream",
     "text": [
      "batch 005 / 005 | 0.00168\n"
     ]
    },
    {
     "name": "stderr",
     "output_type": "stream",
     "text": [
      "100%|██████████| 80/80 [03:26<00:00,  2.59s/it]\n",
      "  0%|          | 0/80 [00:00<?, ?it/s]"
     ]
    },
    {
     "name": "stdout",
     "output_type": "stream",
     "text": [
      "029 | 0.00156\n"
     ]
    },
    {
     "name": "stderr",
     "output_type": "stream",
     "text": [
      "100%|██████████| 80/80 [01:25<00:00,  1.07s/it]\n",
      "  0%|          | 0/80 [00:00<?, ?it/s]"
     ]
    },
    {
     "name": "stdout",
     "output_type": "stream",
     "text": [
      "batch 001 / 005 | 0.00157\n"
     ]
    },
    {
     "name": "stderr",
     "output_type": "stream",
     "text": [
      "100%|██████████| 80/80 [01:29<00:00,  1.11s/it]\n",
      "  0%|          | 0/80 [00:00<?, ?it/s]"
     ]
    },
    {
     "name": "stdout",
     "output_type": "stream",
     "text": [
      "batch 002 / 005 | 0.00152\n"
     ]
    },
    {
     "name": "stderr",
     "output_type": "stream",
     "text": [
      "100%|██████████| 80/80 [01:25<00:00,  1.06s/it]\n",
      "  0%|          | 0/80 [00:00<?, ?it/s]"
     ]
    },
    {
     "name": "stdout",
     "output_type": "stream",
     "text": [
      "batch 003 / 005 | 0.00138\n"
     ]
    },
    {
     "name": "stderr",
     "output_type": "stream",
     "text": [
      "100%|██████████| 80/80 [01:23<00:00,  1.05s/it]\n",
      "  0%|          | 0/80 [00:00<?, ?it/s]"
     ]
    },
    {
     "name": "stdout",
     "output_type": "stream",
     "text": [
      "batch 004 / 005 | 0.00127\n"
     ]
    },
    {
     "name": "stderr",
     "output_type": "stream",
     "text": [
      "100%|██████████| 80/80 [01:24<00:00,  1.05s/it]\n",
      "  0%|          | 0/80 [00:00<?, ?it/s]"
     ]
    },
    {
     "name": "stdout",
     "output_type": "stream",
     "text": [
      "batch 005 / 005 | 0.00122\n",
      "new lr: 0.025\n"
     ]
    },
    {
     "name": "stderr",
     "output_type": "stream",
     "text": [
      "100%|██████████| 80/80 [03:42<00:00,  2.78s/it]\n",
      "  0%|          | 0/80 [00:00<?, ?it/s]"
     ]
    },
    {
     "name": "stdout",
     "output_type": "stream",
     "text": [
      "030 | 0.00094\n"
     ]
    },
    {
     "name": "stderr",
     "output_type": "stream",
     "text": [
      "100%|██████████| 80/80 [01:32<00:00,  1.16s/it]\n",
      "  0%|          | 0/80 [00:00<?, ?it/s]"
     ]
    },
    {
     "name": "stdout",
     "output_type": "stream",
     "text": [
      "batch 001 / 005 | 0.00097\n"
     ]
    },
    {
     "name": "stderr",
     "output_type": "stream",
     "text": [
      "100%|██████████| 80/80 [01:21<00:00,  1.02s/it]\n",
      "  0%|          | 0/80 [00:00<?, ?it/s]"
     ]
    },
    {
     "name": "stdout",
     "output_type": "stream",
     "text": [
      "batch 002 / 005 | 0.00201\n"
     ]
    },
    {
     "name": "stderr",
     "output_type": "stream",
     "text": [
      "100%|██████████| 80/80 [01:31<00:00,  1.14s/it]\n",
      "  0%|          | 0/80 [00:00<?, ?it/s]"
     ]
    },
    {
     "name": "stdout",
     "output_type": "stream",
     "text": [
      "batch 003 / 005 | 0.00225\n"
     ]
    },
    {
     "name": "stderr",
     "output_type": "stream",
     "text": [
      "100%|██████████| 80/80 [01:26<00:00,  1.08s/it]\n",
      "  0%|          | 0/80 [00:00<?, ?it/s]"
     ]
    },
    {
     "name": "stdout",
     "output_type": "stream",
     "text": [
      "batch 004 / 005 | 0.00204\n"
     ]
    },
    {
     "name": "stderr",
     "output_type": "stream",
     "text": [
      "100%|██████████| 80/80 [01:32<00:00,  1.15s/it]\n"
     ]
    },
    {
     "name": "stdout",
     "output_type": "stream",
     "text": [
      "batch 005 / 005 | 0.00176\n"
     ]
    }
   ],
   "source": [
    "val_losses_d, train_losses_d ,param_updates_d = fit(lambda L,P: loss_d(L,P,sqrtalpha,beta), [sqrtalpha], L, P_d, Lval, Pval_d,\n",
    "                                                    opt=torch.optim.Adam, opt_kwargs={\"lr\": 1e-1},\n",
    "                                                    batch_size=20, epochs=epochs, verbose=True)"
   ]
  },
  {
   "cell_type": "code",
   "execution_count": 23,
   "metadata": {},
   "outputs": [
    {
     "name": "stderr",
     "output_type": "stream",
     "text": [
      " 10%|█         | 8/80 [00:24<03:44,  3.12s/it]\n",
      "  0%|          | 0/80 [00:00<?, ?it/s]"
     ]
    },
    {
     "name": "stdout",
     "output_type": "stream",
     "text": [
      "Please consider re-formulating your problem so that it is always solvable or increasing the number of solver iterations.\n"
     ]
    },
    {
     "name": "stderr",
     "output_type": "stream",
     "text": [
      " 26%|██▋       | 21/80 [01:12<03:23,  3.46s/it]\n",
      "  0%|          | 0/80 [00:00<?, ?it/s]"
     ]
    },
    {
     "name": "stdout",
     "output_type": "stream",
     "text": [
      "Please consider re-formulating your problem so that it is always solvable or increasing the number of solver iterations.\n"
     ]
    },
    {
     "name": "stderr",
     "output_type": "stream",
     "text": [
      "100%|██████████| 80/80 [04:13<00:00,  3.17s/it]\n",
      "100%|██████████| 80/80 [03:59<00:00,  2.99s/it]\n",
      "100%|██████████| 80/80 [03:41<00:00,  2.77s/it]\n",
      "100%|██████████| 80/80 [03:34<00:00,  2.68s/it]\n",
      " 68%|██████▊   | 54/80 [02:31<01:12,  2.80s/it]"
     ]
    },
    {
     "name": "stdout",
     "output_type": "stream",
     "text": [
      "Please consider re-formulating your problem so that it is always solvable or increasing the number of solver iterations.\n"
     ]
    },
    {
     "name": "stderr",
     "output_type": "stream",
     "text": [
      "\n",
      "100%|██████████| 80/80 [03:46<00:00,  2.83s/it]\n",
      "100%|██████████| 80/80 [03:58<00:00,  2.98s/it]\n",
      "100%|██████████| 80/80 [03:25<00:00,  2.57s/it]\n",
      "100%|██████████| 80/80 [03:43<00:00,  2.80s/it]\n",
      "100%|██████████| 80/80 [03:29<00:00,  2.62s/it]\n",
      "100%|██████████| 80/80 [03:50<00:00,  2.88s/it]\n",
      "100%|██████████| 80/80 [04:10<00:00,  3.14s/it]\n",
      "100%|██████████| 80/80 [03:38<00:00,  2.73s/it]\n",
      "100%|██████████| 80/80 [03:46<00:00,  2.83s/it]\n",
      "100%|██████████| 80/80 [03:39<00:00,  2.74s/it]\n",
      "100%|██████████| 80/80 [03:27<00:00,  2.59s/it]\n",
      "100%|██████████| 80/80 [03:28<00:00,  2.61s/it]\n",
      "100%|██████████| 80/80 [03:29<00:00,  2.61s/it]\n",
      "100%|██████████| 80/80 [03:35<00:00,  2.69s/it]\n",
      "100%|██████████| 80/80 [03:49<00:00,  2.86s/it]\n",
      "100%|██████████| 80/80 [03:44<00:00,  2.80s/it]\n",
      "  5%|▌         | 4/80 [00:12<03:52,  3.07s/it]"
     ]
    },
    {
     "name": "stdout",
     "output_type": "stream",
     "text": [
      "Please consider re-formulating your problem so that it is always solvable or increasing the number of solver iterations.\n"
     ]
    },
    {
     "name": "stderr",
     "output_type": "stream",
     "text": [
      "\n",
      "100%|██████████| 80/80 [03:41<00:00,  2.76s/it]\n",
      "100%|██████████| 80/80 [03:47<00:00,  2.85s/it]\n",
      "100%|██████████| 80/80 [03:40<00:00,  2.75s/it]\n",
      "100%|██████████| 80/80 [03:41<00:00,  2.76s/it]\n",
      "100%|██████████| 80/80 [03:48<00:00,  2.85s/it]\n",
      "100%|██████████| 80/80 [03:49<00:00,  2.87s/it]\n",
      "100%|██████████| 80/80 [03:49<00:00,  2.86s/it]\n"
     ]
    }
   ],
   "source": [
    "N = Lval.shape[0]\n",
    "obj_vals_d = np.zeros(epochs)\n",
    "for epoch in range(epochs):\n",
    "    sqrtalpha_temp = param_updates_d[epoch,0]\n",
    "    P_gen = admm(Lval, sqrtalpha_temp.repeat(N), beta_true.repeat(N), layers)[0][0,:,0]\n",
    "    obj_vals_d[epoch] = f_gen(P_gen.detach().numpy(), sqrtalpha_temp.detach().numpy(), beta_true).value\n",
    "\n",
    "P_untrained_d = layer(param_updates_nd[0,0], beta_true, Lval[0,:], solver_args={\"solve_method\":'ECOS'})[0][0,:,:]\n",
    "P_trained_d = admm(Lval, param_updates_d[-1,0].repeat(N), beta_true.repeat(N), layers)[0][0,:,:]"
   ]
  },
  {
   "cell_type": "code",
   "execution_count": 24,
   "metadata": {},
   "outputs": [
    {
     "data": {
      "image/png": "[encoded data removed]",
      "text/plain": [
       "<Figure size 432x288 with 1 Axes>"
      ]
     },
     "metadata": {
      "needs_background": "light"
     },
     "output_type": "display_data"
    },
    {
     "data": {
      "image/png": "[encoded data removed]",
      "text/plain": [
       "<Figure size 432x288 with 1 Axes>"
      ]
     },
     "metadata": {
      "needs_background": "light"
     },
     "output_type": "display_data"
    },
    {
     "data": {
      "image/png": "[encoded data removed]",
      "text/plain": [
       "<Figure size 432x288 with 1 Axes>"
      ]
     },
     "metadata": {
      "needs_background": "light"
     },
     "output_type": "display_data"
    },
    {
     "data": {
      "image/png": "[encoded data removed]",
      "text/plain": [
       "<Figure size 432x288 with 1 Axes>"
      ]
     },
     "metadata": {
      "needs_background": "light"
     },
     "output_type": "display_data"
    },
    {
     "data": {
      "image/png": "[encoded data removed]",
      "text/plain": [
       "<Figure size 432x288 with 1 Axes>"
      ]
     },
     "metadata": {
      "needs_background": "light"
     },
     "output_type": "display_data"
    }
   ],
   "source": [
    "plot_results(val_losses_d, train_losses_d, param_updates_d, obj_vals_d, sqrtalpha_true, beta_true, P_untrained_d, P_trained_d, Pval_d, 'd')"
   ]
  },
  {
   "cell_type": "code",
   "execution_count": null,
   "metadata": {},
   "outputs": [],
   "source": []
  }
 ],
 "metadata": {
  "kernelspec": {
   "display_name": "Python 3",
   "language": "python",
   "name": "python3"
  },
  "language_info": {
   "codemirror_mode": {
    "name": "ipython",
    "version": 3
   },
   "file_extension": ".py",
   "mimetype": "text/x-python",
   "name": "python",
   "nbconvert_exporter": "python",
   "pygments_lexer": "ipython3",
   "version": "3.8.5"
  }
 },
 "nbformat": 4,
 "nbformat_minor": 4
}
