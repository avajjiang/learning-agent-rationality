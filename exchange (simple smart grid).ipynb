{
 "cells": [
  {
   "cell_type": "code",
   "execution_count": 142,
   "metadata": {},
   "outputs": [],
   "source": [
    "import numpy as np\n",
    "import cvxpy as cp\n",
    "import matplotlib.pyplot as plt\n",
    "import torch\n",
    "import cvxpylayers\n",
    "from cvxpylayers.torch import CvxpyLayer\n",
    "from tqdm import trange, tqdm\n",
    "from time import sleep\n",
    "from algorithms import fit\n",
    "from utils import latexify\n",
    "\n",
    "torch.set_default_dtype(torch.float32)\n",
    "torch.manual_seed(0)\n",
    "latexify()"
   ]
  },
  {
   "cell_type": "code",
   "execution_count": 2,
   "metadata": {},
   "outputs": [],
   "source": [
    "# if torch.cuda.is_available():  \n",
    "#     print('cuda available')\n",
    "#     dev = \"cuda:0\" \n",
    "# else:  \n",
    "#     dev = \"cpu\"  \n",
    "# device = torch.device(dev)"
   ]
  },
  {
   "cell_type": "markdown",
   "metadata": {},
   "source": [
    "# helper functions"
   ]
  },
  {
   "cell_type": "code",
   "execution_count": 217,
   "metadata": {},
   "outputs": [],
   "source": [
    "def plot_results(val_losses, train_losses, param_updates, obj_vals, sqrtalpha_true, beta_true, P_untrained, P_trained, P_true, dist):\n",
    "    epochs = len(val_losses)\n",
    "    \n",
    "    # loss by epoch\n",
    "    plt.figure(figsize=(6,4))\n",
    "    plt.plot(val_losses, 'k', label='val')\n",
    "    plt.plot([np.mean(tl) for tl in train_losses], 'k--', label='train')\n",
    "    plt.xlabel('epoch')\n",
    "    plt.ylabel('loss')\n",
    "#     plt.title('Validation and training loss by epoch')\n",
    "    plt.yscale('log')\n",
    "    plt.legend()\n",
    "    plt.savefig('figures/grid2/loss_%s.pdf'%dist)\n",
    "\n",
    "    # alpha updates by epoch\n",
    "    plt.figure(figsize=(6,4))\n",
    "    plt.plot(param_updates[:,0].detach().numpy(), 'k', label='$\\sqrt{\\\\alpha}$')\n",
    "    plt.hlines(sqrtalpha_true, 0, epochs, colors='k', linestyles='dashed', label='$\\sqrt{\\\\alpha^\\mathrm{true}}$')\n",
    "    plt.xlabel('epoch')\n",
    "    plt.ylabel('$\\sqrt{\\\\alpha}$')\n",
    "#     plt.title('$\\sqrt{\\\\alpha}$ updates by epoch')\n",
    "    plt.legend()\n",
    "    plt.savefig('figures/grid2/sqrtalpha_%s.pdf'%dist)\n",
    "\n",
    "    # generator objective value by epoch\n",
    "    plt.figure(figsize=(6,4))\n",
    "    plt.plot(obj_vals, 'k', label='train')\n",
    "    plt.hlines(f_gen(P_true[0,:,0], sqrtalpha_true, beta_true).value, 0, epochs-1, colors='k', linestyles='dashed', label='true')\n",
    "#     plt.title('Generator local cost function by epoch')\n",
    "    plt.xlabel('epoch')\n",
    "    plt.ylabel('cost')\n",
    "    plt.legend()\n",
    "    plt.savefig('figures/grid2/objval_%s.pdf'%dist)\n",
    "\n",
    "    # balance over time\n",
    "    plt.figure(figsize=(6,4))\n",
    "    plt.plot(np.sum(P_untrained.detach().numpy(), axis=1), linestyle='dotted', label='untrained')\n",
    "    plt.plot(np.sum(P_trained.detach().numpy(), axis=1), label='trained')\n",
    "    plt.plot(torch.sum(P_true[0,:,:], axis=1), '--', label='true')\n",
    "#     plt.title('Balance over time')\n",
    "    plt.xlabel('$t$')\n",
    "    plt.ylabel('balance')\n",
    "    lower,upper = -7e-7,7e-7\n",
    "    if dist=='d':\n",
    "        lower,upper = -2e-6,2e-6 \n",
    "    plt.ylim((lower,upper))\n",
    "    plt.legend()\n",
    "    plt.savefig('figures/grid2/balance_%s.pdf'%dist)"
   ]
  },
  {
   "cell_type": "markdown",
   "metadata": {},
   "source": [
    "# setup"
   ]
  },
  {
   "cell_type": "code",
   "execution_count": 141,
   "metadata": {},
   "outputs": [],
   "source": [
    "T = 20\n",
    "M = 3\n",
    "#0.01,50,50,10,10\n",
    "pmin, pmax = 0, 10\n",
    "Q, C, D = 5,1,1"
   ]
  },
  {
   "cell_type": "code",
   "execution_count": 54,
   "metadata": {},
   "outputs": [],
   "source": [
    "# generator that can't be powered off (for simplicity and convexity)\n",
    "def f_gen(p_gen,sqrt_alpha,beta):\n",
    "    return cp.sum_squares(sqrt_alpha*p_gen) - beta*cp.sum(p_gen)\n",
    "\n",
    "def c_gen(p_gen):\n",
    "    constraints = [-p_gen >= pmin,\n",
    "                   -p_gen <= pmax\n",
    "                  ]\n",
    "    return constraints"
   ]
  },
  {
   "cell_type": "code",
   "execution_count": 55,
   "metadata": {},
   "outputs": [],
   "source": [
    "# load (fixed)\n",
    "def f_load(p_load):\n",
    "    return 0\n",
    "\n",
    "def c_load(p_load,l):\n",
    "    constraints = [p_load == l]\n",
    "    return constraints"
   ]
  },
  {
   "cell_type": "code",
   "execution_count": 56,
   "metadata": {},
   "outputs": [],
   "source": [
    "# storage device\n",
    "def f_bat(p_bat):\n",
    "    return 0\n",
    "\n",
    "def c_bat(p_bat):\n",
    "    q = cp.cumsum(p_bat)\n",
    "    constraints = [p_bat >= -D,\n",
    "                   p_bat <= C,\n",
    "                   q >= 0,\n",
    "                   q <= Q,\n",
    "                  ]\n",
    "    return constraints"
   ]
  },
  {
   "cell_type": "markdown",
   "metadata": {},
   "source": [
    "# method 1: centralized"
   ]
  },
  {
   "cell_type": "code",
   "execution_count": 143,
   "metadata": {},
   "outputs": [],
   "source": [
    "# set up variables and parameters\n",
    "sqrt_alpha = cp.Parameter()\n",
    "beta = cp.Parameter()\n",
    "l = cp.Parameter(T)\n",
    "p = cp.Variable((T,M))\n",
    "    \n",
    "# set up objective\n",
    "objective = f_gen(p[:,0],sqrt_alpha,beta)\n",
    "constraints = [c for c in c_gen(p[:,0])] + [c for c in c_load(p[:,1],l)] + [c for c in c_bat(p[:,2])] + [cp.sum(p,axis=1)==0]\n",
    "prob = cp.Problem(cp.Minimize(objective),constraints)\n",
    "\n",
    "# convert into pytorch layer\n",
    "layer = CvxpyLayer(prob, [sqrt_alpha,beta,l], [p])"
   ]
  },
  {
   "cell_type": "markdown",
   "metadata": {},
   "source": [
    "## forward pass"
   ]
  },
  {
   "cell_type": "code",
   "execution_count": 144,
   "metadata": {},
   "outputs": [
    {
     "name": "stdout",
     "output_type": "stream",
     "text": [
      "sqrtalpha_true:  tensor([0.3868])\n",
      "beta_true:  tensor([0.8841])\n"
     ]
    }
   ],
   "source": [
    "# get data\n",
    "def get_data_nd(N, T, sqrtalpha, beta):\n",
    "    L = torch.randint(3,10,size=(N,T))\n",
    "    L = L.float()\n",
    "    sqrtalpha = sqrtalpha.repeat(N)\n",
    "    beta = beta.repeat(N)\n",
    "    P = layer(sqrtalpha,beta,L,solver_args={\"solve_method\":'ECOS'})[0]\n",
    "\n",
    "    return L,P\n",
    "\n",
    "alphamin = 0.1\n",
    "alphamax = 0.2\n",
    "alpha_true = (alphamax-alphamin)*torch.rand(1) + alphamin\n",
    "sqrtalpha_true = torch.sqrt(alpha_true)\n",
    "print('sqrtalpha_true: ', sqrtalpha_true)\n",
    "\n",
    "betamin = 0.5\n",
    "betamax = 1\n",
    "beta_true = (betamax-betamin)*torch.rand(1) + betamin\n",
    "print('beta_true: ', beta_true)\n",
    "\n",
    "L, P_nd = get_data_nd(100, T, sqrtalpha_true, beta_true)\n",
    "Lval, Pval_nd = get_data_nd(50, T, sqrtalpha_true, beta_true)"
   ]
  },
  {
   "cell_type": "markdown",
   "metadata": {},
   "source": [
    "## backward pass"
   ]
  },
  {
   "cell_type": "code",
   "execution_count": 154,
   "metadata": {},
   "outputs": [
    {
     "name": "stdout",
     "output_type": "stream",
     "text": [
      "tensor([1.4888])\n"
     ]
    }
   ],
   "source": [
    "l1_loss = torch.nn.L1Loss()\n",
    "torch.manual_seed(0)\n",
    "sqrtalpha = 3*torch.rand(1)\n",
    "print(sqrtalpha)\n",
    "beta = beta_true\n",
    "sqrtalpha.requires_grad_(True)\n",
    "\n",
    "def loss_nd(L,P,sqrtalpha,beta):\n",
    "    N = L.shape[0]\n",
    "    sqrtalpha_batch = sqrtalpha.repeat(N)\n",
    "    beta_batch = beta.repeat(N)\n",
    "    return l1_loss(layer(sqrtalpha_batch, beta_batch, L, solver_args={\"solve_method\":'ECOS'})[0],P)"
   ]
  },
  {
   "cell_type": "code",
   "execution_count": 155,
   "metadata": {
    "scrolled": false
   },
   "outputs": [
    {
     "name": "stdout",
     "output_type": "stream",
     "text": [
      "001 | 0.00014\n",
      "batch 001 / 005 | 0.00014\n",
      "batch 002 / 005 | 0.00014\n",
      "batch 003 / 005 | 0.00013\n",
      "batch 004 / 005 | 0.00013\n",
      "batch 005 / 005 | 0.00013\n",
      "002 | 0.00013\n",
      "batch 001 / 005 | 0.00013\n",
      "batch 002 / 005 | 0.00012\n",
      "batch 003 / 005 | 0.00012\n",
      "batch 004 / 005 | 0.00011\n",
      "batch 005 / 005 | 0.00011\n",
      "003 | 0.00011\n",
      "batch 001 / 005 | 0.00009\n",
      "batch 002 / 005 | 0.00010\n",
      "batch 003 / 005 | 0.00010\n",
      "batch 004 / 005 | 0.00010\n",
      "batch 005 / 005 | 0.00009\n",
      "004 | 0.00009\n",
      "batch 001 / 005 | 0.00008\n",
      "batch 002 / 005 | 0.00007\n",
      "batch 003 / 005 | 0.00008\n",
      "batch 004 / 005 | 0.00009\n",
      "batch 005 / 005 | 0.00009\n",
      "005 | 0.00008\n",
      "batch 001 / 005 | 0.00008\n",
      "batch 002 / 005 | 0.00007\n",
      "batch 003 / 005 | 0.00007\n",
      "batch 004 / 005 | 0.00006\n",
      "batch 005 / 005 | 0.00005\n",
      "006 | 0.00003\n",
      "batch 001 / 005 | 0.00005\n",
      "batch 002 / 005 | 0.00004\n",
      "batch 003 / 005 | 0.00003\n",
      "batch 004 / 005 | 0.00004\n",
      "batch 005 / 005 | 0.00004\n",
      "007 | 0.00004\n",
      "batch 001 / 005 | 0.00007\n",
      "batch 002 / 005 | 0.00007\n",
      "batch 003 / 005 | 0.00006\n",
      "batch 004 / 005 | 0.00005\n",
      "batch 005 / 005 | 0.00005\n",
      "008 | 0.00005\n",
      "batch 001 / 005 | 0.00005\n",
      "batch 002 / 005 | 0.00009\n",
      "batch 003 / 005 | 0.00008\n",
      "batch 004 / 005 | 0.00007\n",
      "batch 005 / 005 | 0.00006\n",
      "009 | 0.00004\n",
      "batch 001 / 005 | 0.00004\n",
      "batch 002 / 005 | 0.00003\n",
      "batch 003 / 005 | 0.00004\n",
      "batch 004 / 005 | 0.00004\n",
      "batch 005 / 005 | 0.00004\n",
      "010 | 0.00004\n",
      "batch 001 / 005 | 0.00004\n",
      "batch 002 / 005 | 0.00005\n",
      "batch 003 / 005 | 0.00005\n",
      "batch 004 / 005 | 0.00005\n",
      "batch 005 / 005 | 0.00005\n",
      "011 | 0.00005\n",
      "batch 001 / 005 | 0.00005\n",
      "batch 002 / 005 | 0.00005\n",
      "batch 003 / 005 | 0.00004\n",
      "batch 004 / 005 | 0.00004\n",
      "batch 005 / 005 | 0.00004\n",
      "012 | 0.00004\n",
      "batch 001 / 005 | 0.00005\n",
      "batch 002 / 005 | 0.00004\n",
      "batch 003 / 005 | 0.00005\n",
      "batch 004 / 005 | 0.00004\n",
      "batch 005 / 005 | 0.00005\n",
      "013 | 0.00005\n",
      "batch 001 / 005 | 0.00005\n",
      "batch 002 / 005 | 0.00005\n",
      "batch 003 / 005 | 0.00005\n",
      "batch 004 / 005 | 0.00005\n",
      "batch 005 / 005 | 0.00005\n",
      "014 | 0.00004\n",
      "batch 001 / 005 | 0.00004\n",
      "batch 002 / 005 | 0.00005\n",
      "batch 003 / 005 | 0.00005\n",
      "batch 004 / 005 | 0.00005\n",
      "batch 005 / 005 | 0.00005\n",
      "new lr: 0.025\n",
      "015 | 0.00005\n",
      "batch 001 / 005 | 0.00004\n",
      "batch 002 / 005 | 0.00005\n",
      "batch 003 / 005 | 0.00005\n",
      "batch 004 / 005 | 0.00005\n",
      "batch 005 / 005 | 0.00005\n",
      "016 | 0.00004\n",
      "batch 001 / 005 | 0.00003\n",
      "batch 002 / 005 | 0.00004\n",
      "batch 003 / 005 | 0.00004\n",
      "batch 004 / 005 | 0.00005\n",
      "batch 005 / 005 | 0.00005\n",
      "017 | 0.00004\n",
      "batch 001 / 005 | 0.00007\n",
      "batch 002 / 005 | 0.00006\n",
      "batch 003 / 005 | 0.00005\n",
      "batch 004 / 005 | 0.00005\n",
      "batch 005 / 005 | 0.00005\n",
      "018 | 0.00004\n",
      "batch 001 / 005 | 0.00006\n",
      "batch 002 / 005 | 0.00005\n",
      "batch 003 / 005 | 0.00005\n",
      "batch 004 / 005 | 0.00005\n",
      "batch 005 / 005 | 0.00005\n",
      "019 | 0.00004\n",
      "batch 001 / 005 | 0.00006\n",
      "batch 002 / 005 | 0.00005\n",
      "batch 003 / 005 | 0.00006\n",
      "batch 004 / 005 | 0.00005\n",
      "batch 005 / 005 | 0.00005\n",
      "020 | 0.00005\n",
      "batch 001 / 005 | 0.00005\n",
      "batch 002 / 005 | 0.00005\n",
      "batch 003 / 005 | 0.00005\n",
      "batch 004 / 005 | 0.00005\n",
      "batch 005 / 005 | 0.00005\n",
      "021 | 0.00004\n",
      "batch 001 / 005 | 0.00003\n",
      "batch 002 / 005 | 0.00006\n",
      "batch 003 / 005 | 0.00006\n",
      "batch 004 / 005 | 0.00005\n",
      "batch 005 / 005 | 0.00005\n",
      "022 | 0.00004\n",
      "batch 001 / 005 | 0.00005\n",
      "batch 002 / 005 | 0.00005\n",
      "batch 003 / 005 | 0.00005\n",
      "batch 004 / 005 | 0.00005\n",
      "batch 005 / 005 | 0.00005\n",
      "023 | 0.00004\n",
      "batch 001 / 005 | 0.00004\n",
      "batch 002 / 005 | 0.00004\n",
      "batch 003 / 005 | 0.00004\n",
      "batch 004 / 005 | 0.00005\n",
      "batch 005 / 005 | 0.00005\n",
      "024 | 0.00005\n",
      "batch 001 / 005 | 0.00004\n",
      "batch 002 / 005 | 0.00005\n",
      "batch 003 / 005 | 0.00005\n",
      "batch 004 / 005 | 0.00005\n",
      "batch 005 / 005 | 0.00005\n",
      "025 | 0.00004\n",
      "batch 001 / 005 | 0.00005\n",
      "batch 002 / 005 | 0.00005\n",
      "batch 003 / 005 | 0.00005\n",
      "batch 004 / 005 | 0.00005\n",
      "batch 005 / 005 | 0.00005\n",
      "026 | 0.00004\n",
      "batch 001 / 005 | 0.00005\n",
      "batch 002 / 005 | 0.00005\n",
      "batch 003 / 005 | 0.00005\n",
      "batch 004 / 005 | 0.00005\n",
      "batch 005 / 005 | 0.00005\n",
      "027 | 0.00004\n",
      "batch 001 / 005 | 0.00004\n",
      "batch 002 / 005 | 0.00004\n",
      "batch 003 / 005 | 0.00004\n",
      "batch 004 / 005 | 0.00004\n",
      "batch 005 / 005 | 0.00005\n",
      "028 | 0.00005\n",
      "batch 001 / 005 | 0.00003\n",
      "batch 002 / 005 | 0.00004\n",
      "batch 003 / 005 | 0.00004\n",
      "batch 004 / 005 | 0.00005\n",
      "batch 005 / 005 | 0.00005\n",
      "029 | 0.00005\n",
      "batch 001 / 005 | 0.00004\n",
      "batch 002 / 005 | 0.00005\n",
      "batch 003 / 005 | 0.00005\n",
      "batch 004 / 005 | 0.00005\n",
      "batch 005 / 005 | 0.00005\n",
      "new lr: 0.0125\n",
      "030 | 0.00004\n",
      "batch 001 / 005 | 0.00004\n",
      "batch 002 / 005 | 0.00004\n",
      "batch 003 / 005 | 0.00005\n",
      "batch 004 / 005 | 0.00005\n",
      "batch 005 / 005 | 0.00005\n"
     ]
    }
   ],
   "source": [
    "epochs = 30\n",
    "val_losses_nd, train_losses_nd, param_updates_nd = fit(lambda L,P: loss_nd(L,P,sqrtalpha,beta), [sqrtalpha], L, P_nd, Lval, Pval_nd,\n",
    "                                                       opt=torch.optim.Adam, opt_kwargs={\"lr\": 5e-2},\n",
    "                                                       batch_size=20, epochs=epochs, verbose=True)"
   ]
  },
  {
   "cell_type": "code",
   "execution_count": 156,
   "metadata": {},
   "outputs": [],
   "source": [
    "N = Lval.shape[0]\n",
    "obj_vals_nd = np.zeros(epochs)\n",
    "for epoch in range(epochs):\n",
    "    sqrtalpha_temp = param_updates_nd[epoch,0]\n",
    "    P_gen_temp = layer(sqrtalpha_temp, beta_true, Lval[0,:], solver_args={\"solve_method\":'ECOS'})[0][0,:,0]\n",
    "    obj_vals_nd[epoch] = f_gen(P_gen_temp.detach().numpy(), sqrtalpha_temp.detach().numpy(), beta_true).value\n",
    "    \n",
    "P_untrained_nd = layer(param_updates_nd[0,0], beta_true, Lval[0,:], solver_args={\"solve_method\":'ECOS'})[0][0,:,:]\n",
    "P_trained_nd = layer(param_updates_nd[-1,0], beta_true, Lval[0,:], solver_args={\"solve_method\":'ECOS'})[0][0,:,:]"
   ]
  },
  {
   "cell_type": "code",
   "execution_count": 218,
   "metadata": {},
   "outputs": [
    {
     "data": {
      "image/png": "[encoded data removed]",
      "text/plain": [
       "<Figure size 432x288 with 1 Axes>"
      ]
     },
     "metadata": {
      "needs_background": "light"
     },
     "output_type": "display_data"
    },
    {
     "data": {
      "image/png": "[encoded data removed]",
      "text/plain": [
       "<Figure size 432x288 with 1 Axes>"
      ]
     },
     "metadata": {
      "needs_background": "light"
     },
     "output_type": "display_data"
    },
    {
     "data": {
      "image/png": "[encoded data removed]",
      "text/plain": [
       "<Figure size 432x288 with 1 Axes>"
      ]
     },
     "metadata": {
      "needs_background": "light"
     },
     "output_type": "display_data"
    },
    {
     "data": {
      "image/png": "[encoded data removed]",
      "text/plain": [
       "<Figure size 432x288 with 1 Axes>"
      ]
     },
     "metadata": {
      "needs_background": "light"
     },
     "output_type": "display_data"
    }
   ],
   "source": [
    "plot_results(val_losses_nd, train_losses_nd, param_updates_nd, obj_vals_nd, sqrtalpha_true, beta_true, P_untrained_nd, P_trained_nd, Pval_nd, 'nd')"
   ]
  },
  {
   "cell_type": "code",
   "execution_count": 226,
   "metadata": {},
   "outputs": [
    {
     "name": "stdout",
     "output_type": "stream",
     "text": [
      "final sqrt(alpha) estimate:  0.15679824\n",
      "true sqrt(alpha):  0.38681477\n",
      "final objval estimate:  115.23710545778425\n",
      "true objval:  202.40317754321705\n"
     ]
    }
   ],
   "source": [
    "# results\n",
    "print('final sqrt(alpha) estimate: ', param_updates_nd[-1,:].detach().numpy()[0])\n",
    "print('true sqrt(alpha): ', sqrtalpha_true.detach().numpy()[0])\n",
    "print('final objval estimate: ', obj_vals_nd[-1])\n",
    "print('true objval: ', f_gen(Pval_nd[0,:,0], sqrtalpha_true, beta_true).value[0])"
   ]
  },
  {
   "cell_type": "markdown",
   "metadata": {},
   "source": [
    "# method 2: distributed"
   ]
  },
  {
   "cell_type": "code",
   "execution_count": 162,
   "metadata": {},
   "outputs": [],
   "source": [
    "QUIET    = 1\n",
    "MAX_ITER = 100\n",
    "rho = 1"
   ]
  },
  {
   "cell_type": "code",
   "execution_count": 171,
   "metadata": {},
   "outputs": [],
   "source": [
    "pvar = [cp.Variable(T)]*2\n",
    "d = cp.Parameter(T)\n",
    "v = cp.Parameter(T)\n",
    "sqrt_alpha = cp.Parameter()\n",
    "beta = cp.Parameter()\n",
    "obj = [f_gen(pvar[0],sqrt_alpha,beta) + rho/2*cp.sum_squares(v - pvar[0]),\n",
    "       rho/2*cp.sum_squares(v - pvar[1])]\n",
    "prox = [cp.Problem(cp.Minimize(obj[0]), c_gen(pvar[0])),\n",
    "        cp.Problem(cp.Minimize(obj[1]), c_bat(pvar[1]))]\n",
    "layers = [CvxpyLayer(prox[0],[v,sqrt_alpha,beta],[pvar[0]]),\n",
    "          CvxpyLayer(prox[1],[v],[pvar[1]])]"
   ]
  },
  {
   "cell_type": "code",
   "execution_count": 180,
   "metadata": {},
   "outputs": [],
   "source": [
    "def admm(L,sqrtalpha,beta,layers):\n",
    "    N,T = L.shape\n",
    "    \n",
    "    P = torch.zeros((N,T,M))\n",
    "    P[:,:,1] = L\n",
    "    u = torch.zeros((N,T,M))\n",
    "    r_norm = torch.zeros((N,MAX_ITER))\n",
    "    s_norm = torch.zeros((N,MAX_ITER))\n",
    "\n",
    "    for k in tqdm(range(MAX_ITER)):\n",
    "        P_old = P\n",
    "        Pbar_old = torch.mean(P_old,axis=2,keepdim=True)\n",
    "        \n",
    "        # p-update\n",
    "        try:\n",
    "            P[:,:,0] = layers[0](P[:,:,0] - torch.mean(P,axis=2) - u[:,:,0],sqrtalpha,beta,solver_args={'solve_method': 'ECOS'})[0]   # generator\n",
    "        except:\n",
    "            break\n",
    "        try:\n",
    "            P[:,:,2] = layers[1](P[:,:,2] - torch.mean(P,axis=2) - u[:,:,2],solver_args={'solve_method': 'ECOS'})[0]                  # battery \n",
    "        except:\n",
    "            break\n",
    "        \n",
    "        Pbar = torch.mean(P,axis=2,keepdim=True)\n",
    "\n",
    "        # u-update\n",
    "        u += Pbar\n",
    "        \n",
    "        # progress tracking\n",
    "        r_norm[:,k] = torch.flatten(torch.linalg.norm(Pbar,dim=1))\n",
    "        s_norm[:,k] = torch.flatten(torch.linalg.norm(torch.reshape((P - Pbar) - (P_old - Pbar_old),(N,T*M)),dim=1))\n",
    "        \n",
    "    return P,r_norm,s_norm"
   ]
  },
  {
   "cell_type": "markdown",
   "metadata": {},
   "source": [
    "## forward pass"
   ]
  },
  {
   "cell_type": "code",
   "execution_count": 173,
   "metadata": {},
   "outputs": [
    {
     "name": "stderr",
     "output_type": "stream",
     "text": [
      "100%|██████████| 100/100 [01:40<00:00,  1.01s/it]\n",
      "100%|██████████| 100/100 [00:50<00:00,  1.98it/s]\n"
     ]
    }
   ],
   "source": [
    "def get_data_d(L, sqrtalpha, beta):\n",
    "    N = L.shape[0]\n",
    "    P,r_norm,s_norm = admm(L, sqrtalpha.repeat(N), beta.repeat(N), layers)\n",
    "\n",
    "    return P,r_norm,s_norm\n",
    "\n",
    "P_d, r_norm, s_norm = get_data_d(L, sqrtalpha_true, beta_true)\n",
    "Pval_d, r_normval, s_normval = get_data_d(Lval, sqrtalpha_true, beta_true)"
   ]
  },
  {
   "cell_type": "code",
   "execution_count": 199,
   "metadata": {},
   "outputs": [
    {
     "data": {
      "image/png": "[encoded data removed]",
      "text/plain": [
       "<Figure size 432x288 with 1 Axes>"
      ]
     },
     "metadata": {
      "needs_background": "light"
     },
     "output_type": "display_data"
    },
    {
     "data": {
      "image/png": "[encoded data removed]",
      "text/plain": [
       "<Figure size 432x288 with 1 Axes>"
      ]
     },
     "metadata": {
      "needs_background": "light"
     },
     "output_type": "display_data"
    },
    {
     "data": {
      "image/png": "[encoded data removed]",
      "text/plain": [
       "<Figure size 432x288 with 1 Axes>"
      ]
     },
     "metadata": {
      "needs_background": "light"
     },
     "output_type": "display_data"
    }
   ],
   "source": [
    "# compare results for each device\n",
    "plt.figure(figsize=(6,4))\n",
    "plt.plot(P_d[0,:,0] - P_nd[0,:,0], label='generator')\n",
    "plt.plot(P_d[0,:,1] - P_nd[0,:,1], '--', label='load')\n",
    "plt.plot(P_d[0,:,2] - P_nd[0,:,2], linestyle='dotted', label='battery')\n",
    "# plt.title('Difference between $p$ values calculated using ADMM and centralized methods')\n",
    "plt.xlabel('$t$')\n",
    "plt.ylabel('difference')\n",
    "plt.legend()\n",
    "plt.ylim((-1e-3,1e-3))\n",
    "plt.savefig('figures/grid2/fp_comp.pdf')\n",
    "\n",
    "# primal residual tracking \n",
    "plt.figure(figsize=(6,4))\n",
    "plt.plot(r_normval[0,:], 'k')\n",
    "plt.yscale('log')\n",
    "# plt.title('Primal residual norms by iteration')\n",
    "plt.xlabel('$k$')\n",
    "plt.ylabel('primal residual norm')\n",
    "plt.savefig('figures/grid2/fp_rnorm.pdf')\n",
    "\n",
    "# dual residual tracking\n",
    "plt.figure(figsize=(6,4))\n",
    "plt.plot(s_normval[0,:], 'k')\n",
    "plt.yscale('log')\n",
    "# plt.title('Dual residual norms by iteration')\n",
    "plt.xlabel('$k$')\n",
    "plt.ylabel('dual residual norm')\n",
    "plt.savefig('figures/grid2/fp_snorm.pdf')"
   ]
  },
  {
   "cell_type": "markdown",
   "metadata": {},
   "source": [
    "# backward pass"
   ]
  },
  {
   "cell_type": "code",
   "execution_count": 190,
   "metadata": {},
   "outputs": [
    {
     "name": "stdout",
     "output_type": "stream",
     "text": [
      "tensor([1.4888])\n"
     ]
    }
   ],
   "source": [
    "l1_loss = torch.nn.L1Loss()\n",
    "torch.manual_seed(0)\n",
    "sqrtalpha = 3*torch.rand(1)\n",
    "print(sqrtalpha)\n",
    "beta = beta_true\n",
    "sqrtalpha.requires_grad_(True)\n",
    "\n",
    "def loss_d(L,P,sqrtalpha,beta):\n",
    "    N = L.shape[0]\n",
    "    return l1_loss(admm(L, sqrtalpha.repeat(N), beta.repeat(N), layers)[0],P)"
   ]
  },
  {
   "cell_type": "code",
   "execution_count": 191,
   "metadata": {
    "scrolled": true
   },
   "outputs": [
    {
     "name": "stderr",
     "output_type": "stream",
     "text": [
      "  4%|▍         | 4/100 [00:05<02:06,  1.32s/it]\n",
      "  0%|          | 0/100 [00:00<?, ?it/s]"
     ]
    },
    {
     "name": "stdout",
     "output_type": "stream",
     "text": [
      "Please consider re-formulating your problem so that it is always solvable or increasing the number of solver iterations.\n",
      "001 | 1.45362\n"
     ]
    },
    {
     "name": "stderr",
     "output_type": "stream",
     "text": [
      "  4%|▍         | 4/100 [00:02<00:49,  1.93it/s]"
     ]
    },
    {
     "name": "stdout",
     "output_type": "stream",
     "text": [
      "Please consider re-formulating your problem so that it is always solvable or increasing the number of solver iterations.\n"
     ]
    },
    {
     "name": "stderr",
     "output_type": "stream",
     "text": [
      "\n",
      "  0%|          | 0/100 [00:00<?, ?it/s]"
     ]
    },
    {
     "name": "stdout",
     "output_type": "stream",
     "text": [
      "batch 001 / 005 | 1.46982\n"
     ]
    },
    {
     "name": "stderr",
     "output_type": "stream",
     "text": [
      "  6%|▌         | 6/100 [00:02<00:42,  2.21it/s]"
     ]
    },
    {
     "name": "stdout",
     "output_type": "stream",
     "text": [
      "Please consider re-formulating your problem so that it is always solvable or increasing the number of solver iterations.\n"
     ]
    },
    {
     "name": "stderr",
     "output_type": "stream",
     "text": [
      "\n",
      "  0%|          | 0/100 [00:00<?, ?it/s]"
     ]
    },
    {
     "name": "stdout",
     "output_type": "stream",
     "text": [
      "batch 002 / 005 | 1.33621\n"
     ]
    },
    {
     "name": "stderr",
     "output_type": "stream",
     "text": [
      "  5%|▌         | 5/100 [00:05<01:41,  1.07s/it]"
     ]
    },
    {
     "name": "stdout",
     "output_type": "stream",
     "text": [
      "Please consider re-formulating your problem so that it is always solvable or increasing the number of solver iterations.\n"
     ]
    },
    {
     "name": "stderr",
     "output_type": "stream",
     "text": [
      "\n",
      "  0%|          | 0/100 [00:00<?, ?it/s]"
     ]
    },
    {
     "name": "stdout",
     "output_type": "stream",
     "text": [
      "batch 003 / 005 | 1.32442\n"
     ]
    },
    {
     "name": "stderr",
     "output_type": "stream",
     "text": [
      "  5%|▌         | 5/100 [00:01<00:36,  2.58it/s]"
     ]
    },
    {
     "name": "stdout",
     "output_type": "stream",
     "text": [
      "Please consider re-formulating your problem so that it is always solvable or increasing the number of solver iterations.\n"
     ]
    },
    {
     "name": "stderr",
     "output_type": "stream",
     "text": [
      "\n",
      "  0%|          | 0/100 [00:00<?, ?it/s]"
     ]
    },
    {
     "name": "stdout",
     "output_type": "stream",
     "text": [
      "batch 004 / 005 | 1.30222\n"
     ]
    },
    {
     "name": "stderr",
     "output_type": "stream",
     "text": [
      "  5%|▌         | 5/100 [00:01<00:32,  2.93it/s]"
     ]
    },
    {
     "name": "stdout",
     "output_type": "stream",
     "text": [
      "Please consider re-formulating your problem so that it is always solvable or increasing the number of solver iterations.\n"
     ]
    },
    {
     "name": "stderr",
     "output_type": "stream",
     "text": [
      "\n",
      "  0%|          | 0/100 [00:00<?, ?it/s]"
     ]
    },
    {
     "name": "stdout",
     "output_type": "stream",
     "text": [
      "batch 005 / 005 | 1.28441\n"
     ]
    },
    {
     "name": "stderr",
     "output_type": "stream",
     "text": [
      "  6%|▌         | 6/100 [00:04<01:13,  1.27it/s]\n",
      "  0%|          | 0/100 [00:00<?, ?it/s]"
     ]
    },
    {
     "name": "stdout",
     "output_type": "stream",
     "text": [
      "Please consider re-formulating your problem so that it is always solvable or increasing the number of solver iterations.\n",
      "002 | 1.03093\n"
     ]
    },
    {
     "name": "stderr",
     "output_type": "stream",
     "text": [
      "  6%|▌         | 6/100 [00:02<00:34,  2.73it/s]"
     ]
    },
    {
     "name": "stdout",
     "output_type": "stream",
     "text": [
      "Please consider re-formulating your problem so that it is always solvable or increasing the number of solver iterations.\n"
     ]
    },
    {
     "name": "stderr",
     "output_type": "stream",
     "text": [
      "\n",
      "  0%|          | 0/100 [00:00<?, ?it/s]"
     ]
    },
    {
     "name": "stdout",
     "output_type": "stream",
     "text": [
      "batch 001 / 005 | 1.05089\n"
     ]
    },
    {
     "name": "stderr",
     "output_type": "stream",
     "text": [
      "  4%|▍         | 4/100 [00:01<00:27,  3.53it/s]\n"
     ]
    },
    {
     "name": "stdout",
     "output_type": "stream",
     "text": [
      "Please consider re-formulating your problem so that it is always solvable or increasing the number of solver iterations.\n"
     ]
    },
    {
     "name": "stderr",
     "output_type": "stream",
     "text": [
      "\r",
      "  0%|          | 0/100 [00:00<?, ?it/s]"
     ]
    },
    {
     "name": "stdout",
     "output_type": "stream",
     "text": [
      "batch 002 / 005 | 1.22445\n"
     ]
    },
    {
     "name": "stderr",
     "output_type": "stream",
     "text": [
      "  5%|▌         | 5/100 [00:01<00:30,  3.10it/s]"
     ]
    },
    {
     "name": "stdout",
     "output_type": "stream",
     "text": [
      "Please consider re-formulating your problem so that it is always solvable or increasing the number of solver iterations.\n"
     ]
    },
    {
     "name": "stderr",
     "output_type": "stream",
     "text": [
      "\n",
      "  0%|          | 0/100 [00:00<?, ?it/s]"
     ]
    },
    {
     "name": "stdout",
     "output_type": "stream",
     "text": [
      "batch 003 / 005 | 1.15879\n"
     ]
    },
    {
     "name": "stderr",
     "output_type": "stream",
     "text": [
      "  8%|▊         | 8/100 [00:02<00:27,  3.35it/s]"
     ]
    },
    {
     "name": "stdout",
     "output_type": "stream",
     "text": [
      "Please consider re-formulating your problem so that it is always solvable or increasing the number of solver iterations.\n"
     ]
    },
    {
     "name": "stderr",
     "output_type": "stream",
     "text": [
      "\n",
      "  0%|          | 0/100 [00:00<?, ?it/s]"
     ]
    },
    {
     "name": "stdout",
     "output_type": "stream",
     "text": [
      "batch 004 / 005 | 1.03031\n"
     ]
    },
    {
     "name": "stderr",
     "output_type": "stream",
     "text": [
      "  6%|▌         | 6/100 [00:01<00:26,  3.57it/s]"
     ]
    },
    {
     "name": "stdout",
     "output_type": "stream",
     "text": [
      "Please consider re-formulating your problem so that it is always solvable or increasing the number of solver iterations.\n"
     ]
    },
    {
     "name": "stderr",
     "output_type": "stream",
     "text": [
      "\n",
      "  0%|          | 0/100 [00:00<?, ?it/s]"
     ]
    },
    {
     "name": "stdout",
     "output_type": "stream",
     "text": [
      "batch 005 / 005 | 0.98221\n"
     ]
    },
    {
     "name": "stderr",
     "output_type": "stream",
     "text": [
      "  5%|▌         | 5/100 [00:03<00:59,  1.59it/s]\n",
      "  1%|          | 1/100 [00:00<00:19,  5.13it/s]"
     ]
    },
    {
     "name": "stdout",
     "output_type": "stream",
     "text": [
      "Please consider re-formulating your problem so that it is always solvable or increasing the number of solver iterations.\n",
      "003 | 0.84541\n"
     ]
    },
    {
     "name": "stderr",
     "output_type": "stream",
     "text": [
      "  5%|▌         | 5/100 [00:01<00:23,  4.09it/s]"
     ]
    },
    {
     "name": "stdout",
     "output_type": "stream",
     "text": [
      "Please consider re-formulating your problem so that it is always solvable or increasing the number of solver iterations.\n"
     ]
    },
    {
     "name": "stderr",
     "output_type": "stream",
     "text": [
      "\n",
      "  0%|          | 0/100 [00:00<?, ?it/s]"
     ]
    },
    {
     "name": "stdout",
     "output_type": "stream",
     "text": [
      "batch 001 / 005 | 0.85877\n"
     ]
    },
    {
     "name": "stderr",
     "output_type": "stream",
     "text": [
      "  7%|▋         | 7/100 [00:02<00:28,  3.29it/s]"
     ]
    },
    {
     "name": "stdout",
     "output_type": "stream",
     "text": [
      "Please consider re-formulating your problem so that it is always solvable or increasing the number of solver iterations.\n"
     ]
    },
    {
     "name": "stderr",
     "output_type": "stream",
     "text": [
      "\n",
      "  0%|          | 0/100 [00:00<?, ?it/s]"
     ]
    },
    {
     "name": "stdout",
     "output_type": "stream",
     "text": [
      "batch 002 / 005 | 0.69481\n"
     ]
    },
    {
     "name": "stderr",
     "output_type": "stream",
     "text": [
      "  8%|▊         | 8/100 [00:02<00:32,  2.82it/s]"
     ]
    },
    {
     "name": "stdout",
     "output_type": "stream",
     "text": [
      "Please consider re-formulating your problem so that it is always solvable or increasing the number of solver iterations.\n"
     ]
    },
    {
     "name": "stderr",
     "output_type": "stream",
     "text": [
      "\n",
      "  0%|          | 0/100 [00:00<?, ?it/s]"
     ]
    },
    {
     "name": "stdout",
     "output_type": "stream",
     "text": [
      "batch 003 / 005 | 0.58258\n"
     ]
    },
    {
     "name": "stderr",
     "output_type": "stream",
     "text": [
      "  7%|▋         | 7/100 [00:01<00:25,  3.60it/s]"
     ]
    },
    {
     "name": "stdout",
     "output_type": "stream",
     "text": [
      "Please consider re-formulating your problem so that it is always solvable or increasing the number of solver iterations.\n"
     ]
    },
    {
     "name": "stderr",
     "output_type": "stream",
     "text": [
      "\n",
      "  1%|          | 1/100 [00:00<00:19,  5.11it/s]"
     ]
    },
    {
     "name": "stdout",
     "output_type": "stream",
     "text": [
      "batch 004 / 005 | 0.52885\n"
     ]
    },
    {
     "name": "stderr",
     "output_type": "stream",
     "text": [
      " 10%|█         | 10/100 [00:02<00:23,  3.79it/s]"
     ]
    },
    {
     "name": "stdout",
     "output_type": "stream",
     "text": [
      "Please consider re-formulating your problem so that it is always solvable or increasing the number of solver iterations.\n"
     ]
    },
    {
     "name": "stderr",
     "output_type": "stream",
     "text": [
      "\n",
      "  0%|          | 0/100 [00:00<?, ?it/s]"
     ]
    },
    {
     "name": "stdout",
     "output_type": "stream",
     "text": [
      "batch 005 / 005 | 0.44580\n"
     ]
    },
    {
     "name": "stderr",
     "output_type": "stream",
     "text": [
      " 15%|█▌        | 15/100 [00:07<00:44,  1.90it/s]\n",
      "  1%|          | 1/100 [00:00<00:18,  5.42it/s]"
     ]
    },
    {
     "name": "stdout",
     "output_type": "stream",
     "text": [
      "Please consider re-formulating your problem so that it is always solvable or increasing the number of solver iterations.\n",
      "004 | 0.01007\n"
     ]
    },
    {
     "name": "stderr",
     "output_type": "stream",
     "text": [
      " 10%|█         | 10/100 [00:02<00:23,  3.79it/s]"
     ]
    },
    {
     "name": "stdout",
     "output_type": "stream",
     "text": [
      "Please consider re-formulating your problem so that it is always solvable or increasing the number of solver iterations.\n"
     ]
    },
    {
     "name": "stderr",
     "output_type": "stream",
     "text": [
      "\n",
      "  0%|          | 0/100 [00:00<?, ?it/s]"
     ]
    },
    {
     "name": "stdout",
     "output_type": "stream",
     "text": [
      "batch 001 / 005 | 0.06730\n"
     ]
    },
    {
     "name": "stderr",
     "output_type": "stream",
     "text": [
      "100%|██████████| 100/100 [00:37<00:00,  2.67it/s]\n",
      "  0%|          | 0/100 [00:00<?, ?it/s]"
     ]
    },
    {
     "name": "stdout",
     "output_type": "stream",
     "text": [
      "batch 002 / 005 | 0.03370\n"
     ]
    },
    {
     "name": "stderr",
     "output_type": "stream",
     "text": [
      "100%|██████████| 100/100 [00:32<00:00,  3.08it/s]\n",
      "  0%|          | 0/100 [00:00<?, ?it/s]"
     ]
    },
    {
     "name": "stdout",
     "output_type": "stream",
     "text": [
      "batch 003 / 005 | 0.02250\n"
     ]
    },
    {
     "name": "stderr",
     "output_type": "stream",
     "text": [
      "100%|██████████| 100/100 [00:20<00:00,  4.76it/s]\n",
      "  0%|          | 0/100 [00:00<?, ?it/s]"
     ]
    },
    {
     "name": "stdout",
     "output_type": "stream",
     "text": [
      "batch 004 / 005 | 0.01691\n"
     ]
    },
    {
     "name": "stderr",
     "output_type": "stream",
     "text": [
      "100%|██████████| 100/100 [00:19<00:00,  5.13it/s]\n",
      "  0%|          | 0/100 [00:00<?, ?it/s]"
     ]
    },
    {
     "name": "stdout",
     "output_type": "stream",
     "text": [
      "batch 005 / 005 | 0.01355\n"
     ]
    },
    {
     "name": "stderr",
     "output_type": "stream",
     "text": [
      "100%|██████████| 100/100 [00:46<00:00,  2.15it/s]\n",
      "  1%|          | 1/100 [00:00<00:17,  5.62it/s]"
     ]
    },
    {
     "name": "stdout",
     "output_type": "stream",
     "text": [
      "005 | 0.00012\n"
     ]
    },
    {
     "name": "stderr",
     "output_type": "stream",
     "text": [
      "100%|██████████| 100/100 [00:17<00:00,  5.64it/s]\n",
      "  1%|          | 1/100 [00:00<00:17,  5.55it/s]"
     ]
    },
    {
     "name": "stdout",
     "output_type": "stream",
     "text": [
      "batch 001 / 005 | 0.00017\n"
     ]
    },
    {
     "name": "stderr",
     "output_type": "stream",
     "text": [
      "100%|██████████| 100/100 [00:18<00:00,  5.51it/s]\n",
      "  0%|          | 0/100 [00:00<?, ?it/s]"
     ]
    },
    {
     "name": "stdout",
     "output_type": "stream",
     "text": [
      "batch 002 / 005 | 0.00016\n"
     ]
    },
    {
     "name": "stderr",
     "output_type": "stream",
     "text": [
      "100%|██████████| 100/100 [00:17<00:00,  5.65it/s]\n",
      "  1%|          | 1/100 [00:00<00:17,  5.70it/s]"
     ]
    },
    {
     "name": "stdout",
     "output_type": "stream",
     "text": [
      "batch 003 / 005 | 0.00014\n"
     ]
    },
    {
     "name": "stderr",
     "output_type": "stream",
     "text": [
      "100%|██████████| 100/100 [00:17<00:00,  5.88it/s]\n",
      "  1%|          | 1/100 [00:00<00:19,  5.01it/s]"
     ]
    },
    {
     "name": "stdout",
     "output_type": "stream",
     "text": [
      "batch 004 / 005 | 0.00015\n"
     ]
    },
    {
     "name": "stderr",
     "output_type": "stream",
     "text": [
      "100%|██████████| 100/100 [00:22<00:00,  4.45it/s]\n",
      "  0%|          | 0/100 [00:00<?, ?it/s]"
     ]
    },
    {
     "name": "stdout",
     "output_type": "stream",
     "text": [
      "batch 005 / 005 | 0.00012\n"
     ]
    },
    {
     "name": "stderr",
     "output_type": "stream",
     "text": [
      "100%|██████████| 100/100 [00:47<00:00,  2.09it/s]\n",
      "  0%|          | 0/100 [00:00<?, ?it/s]"
     ]
    },
    {
     "name": "stdout",
     "output_type": "stream",
     "text": [
      "006 | 0.00008\n"
     ]
    },
    {
     "name": "stderr",
     "output_type": "stream",
     "text": [
      "100%|██████████| 100/100 [00:19<00:00,  5.18it/s]\n",
      "  1%|          | 1/100 [00:00<00:19,  5.18it/s]"
     ]
    },
    {
     "name": "stdout",
     "output_type": "stream",
     "text": [
      "batch 001 / 005 | 0.00008\n"
     ]
    },
    {
     "name": "stderr",
     "output_type": "stream",
     "text": [
      "100%|██████████| 100/100 [00:18<00:00,  5.38it/s]\n",
      "  1%|          | 1/100 [00:00<00:19,  5.07it/s]"
     ]
    },
    {
     "name": "stdout",
     "output_type": "stream",
     "text": [
      "batch 002 / 005 | 0.00009\n"
     ]
    },
    {
     "name": "stderr",
     "output_type": "stream",
     "text": [
      "100%|██████████| 100/100 [00:17<00:00,  5.88it/s]\n",
      "  1%|          | 1/100 [00:00<00:17,  5.54it/s]"
     ]
    },
    {
     "name": "stdout",
     "output_type": "stream",
     "text": [
      "batch 003 / 005 | 0.00009\n"
     ]
    },
    {
     "name": "stderr",
     "output_type": "stream",
     "text": [
      "100%|██████████| 100/100 [00:17<00:00,  5.86it/s]\n",
      "  1%|          | 1/100 [00:00<00:18,  5.44it/s]"
     ]
    },
    {
     "name": "stdout",
     "output_type": "stream",
     "text": [
      "batch 004 / 005 | 0.00009\n"
     ]
    },
    {
     "name": "stderr",
     "output_type": "stream",
     "text": [
      "100%|██████████| 100/100 [00:17<00:00,  5.66it/s]\n",
      "  0%|          | 0/100 [00:00<?, ?it/s]"
     ]
    },
    {
     "name": "stdout",
     "output_type": "stream",
     "text": [
      "batch 005 / 005 | 0.00009\n"
     ]
    },
    {
     "name": "stderr",
     "output_type": "stream",
     "text": [
      "100%|██████████| 100/100 [00:46<00:00,  2.15it/s]\n",
      "  1%|          | 1/100 [00:00<00:17,  5.71it/s]"
     ]
    },
    {
     "name": "stdout",
     "output_type": "stream",
     "text": [
      "007 | 0.00008\n"
     ]
    },
    {
     "name": "stderr",
     "output_type": "stream",
     "text": [
      "100%|██████████| 100/100 [00:17<00:00,  5.64it/s]\n",
      "  1%|          | 1/100 [00:00<00:17,  5.77it/s]"
     ]
    },
    {
     "name": "stdout",
     "output_type": "stream",
     "text": [
      "batch 001 / 005 | 0.00013\n"
     ]
    },
    {
     "name": "stderr",
     "output_type": "stream",
     "text": [
      "100%|██████████| 100/100 [00:16<00:00,  6.05it/s]\n",
      "  1%|          | 1/100 [00:00<00:17,  5.74it/s]"
     ]
    },
    {
     "name": "stdout",
     "output_type": "stream",
     "text": [
      "batch 002 / 005 | 0.00011\n"
     ]
    },
    {
     "name": "stderr",
     "output_type": "stream",
     "text": [
      "100%|██████████| 100/100 [00:17<00:00,  5.65it/s]\n",
      "  0%|          | 0/100 [00:00<?, ?it/s]"
     ]
    },
    {
     "name": "stdout",
     "output_type": "stream",
     "text": [
      "batch 003 / 005 | 0.00011\n"
     ]
    },
    {
     "name": "stderr",
     "output_type": "stream",
     "text": [
      "100%|██████████| 100/100 [00:16<00:00,  5.98it/s]\n",
      "  1%|          | 1/100 [00:00<00:17,  5.82it/s]"
     ]
    },
    {
     "name": "stdout",
     "output_type": "stream",
     "text": [
      "batch 004 / 005 | 0.00011\n"
     ]
    },
    {
     "name": "stderr",
     "output_type": "stream",
     "text": [
      "100%|██████████| 100/100 [00:16<00:00,  6.07it/s]\n",
      "  0%|          | 0/100 [00:00<?, ?it/s]"
     ]
    },
    {
     "name": "stdout",
     "output_type": "stream",
     "text": [
      "batch 005 / 005 | 0.00011\n"
     ]
    },
    {
     "name": "stderr",
     "output_type": "stream",
     "text": [
      "100%|██████████| 100/100 [00:47<00:00,  2.12it/s]\n",
      "  1%|          | 1/100 [00:00<00:16,  5.83it/s]"
     ]
    },
    {
     "name": "stdout",
     "output_type": "stream",
     "text": [
      "008 | 0.00011\n"
     ]
    },
    {
     "name": "stderr",
     "output_type": "stream",
     "text": [
      "100%|██████████| 100/100 [00:17<00:00,  5.69it/s]\n",
      "  0%|          | 0/100 [00:00<?, ?it/s]"
     ]
    },
    {
     "name": "stdout",
     "output_type": "stream",
     "text": [
      "batch 001 / 005 | 0.00012\n"
     ]
    },
    {
     "name": "stderr",
     "output_type": "stream",
     "text": [
      "100%|██████████| 100/100 [00:17<00:00,  5.81it/s]\n",
      "  1%|          | 1/100 [00:00<00:17,  5.66it/s]"
     ]
    },
    {
     "name": "stdout",
     "output_type": "stream",
     "text": [
      "batch 002 / 005 | 0.00013\n"
     ]
    },
    {
     "name": "stderr",
     "output_type": "stream",
     "text": [
      "100%|██████████| 100/100 [00:16<00:00,  5.91it/s]\n",
      "  1%|          | 1/100 [00:00<00:18,  5.44it/s]"
     ]
    },
    {
     "name": "stdout",
     "output_type": "stream",
     "text": [
      "batch 003 / 005 | 0.00016\n"
     ]
    },
    {
     "name": "stderr",
     "output_type": "stream",
     "text": [
      "100%|██████████| 100/100 [00:16<00:00,  6.04it/s]\n",
      "  1%|          | 1/100 [00:00<00:17,  5.73it/s]"
     ]
    },
    {
     "name": "stdout",
     "output_type": "stream",
     "text": [
      "batch 004 / 005 | 0.00020\n"
     ]
    },
    {
     "name": "stderr",
     "output_type": "stream",
     "text": [
      "100%|██████████| 100/100 [00:16<00:00,  6.00it/s]\n",
      "  0%|          | 0/100 [00:00<?, ?it/s]"
     ]
    },
    {
     "name": "stdout",
     "output_type": "stream",
     "text": [
      "batch 005 / 005 | 0.00025\n"
     ]
    },
    {
     "name": "stderr",
     "output_type": "stream",
     "text": [
      "100%|██████████| 100/100 [00:45<00:00,  2.20it/s]\n",
      "  1%|          | 1/100 [00:00<00:17,  5.53it/s]"
     ]
    },
    {
     "name": "stdout",
     "output_type": "stream",
     "text": [
      "009 | 0.00052\n"
     ]
    },
    {
     "name": "stderr",
     "output_type": "stream",
     "text": [
      "100%|██████████| 100/100 [00:17<00:00,  5.82it/s]\n",
      "  1%|          | 1/100 [00:00<00:17,  5.73it/s]"
     ]
    },
    {
     "name": "stdout",
     "output_type": "stream",
     "text": [
      "batch 001 / 005 | 0.00056\n"
     ]
    },
    {
     "name": "stderr",
     "output_type": "stream",
     "text": [
      "100%|██████████| 100/100 [00:16<00:00,  6.04it/s]\n",
      "  1%|          | 1/100 [00:00<00:19,  5.02it/s]"
     ]
    },
    {
     "name": "stdout",
     "output_type": "stream",
     "text": [
      "batch 002 / 005 | 0.00061\n"
     ]
    },
    {
     "name": "stderr",
     "output_type": "stream",
     "text": [
      "100%|██████████| 100/100 [00:16<00:00,  5.91it/s]\n",
      "  1%|          | 1/100 [00:00<00:17,  5.72it/s]"
     ]
    },
    {
     "name": "stdout",
     "output_type": "stream",
     "text": [
      "batch 003 / 005 | 0.00067\n"
     ]
    },
    {
     "name": "stderr",
     "output_type": "stream",
     "text": [
      "100%|██████████| 100/100 [00:17<00:00,  5.85it/s]\n",
      "  1%|          | 1/100 [00:00<00:17,  5.51it/s]"
     ]
    },
    {
     "name": "stdout",
     "output_type": "stream",
     "text": [
      "batch 004 / 005 | 0.00076\n"
     ]
    },
    {
     "name": "stderr",
     "output_type": "stream",
     "text": [
      "100%|██████████| 100/100 [00:17<00:00,  5.58it/s]\n",
      "  0%|          | 0/100 [00:00<?, ?it/s]"
     ]
    },
    {
     "name": "stdout",
     "output_type": "stream",
     "text": [
      "batch 005 / 005 | 0.00080\n"
     ]
    },
    {
     "name": "stderr",
     "output_type": "stream",
     "text": [
      "100%|██████████| 100/100 [00:46<00:00,  2.16it/s]\n",
      "  1%|          | 1/100 [00:00<00:19,  5.09it/s]"
     ]
    },
    {
     "name": "stdout",
     "output_type": "stream",
     "text": [
      "010 | 0.00112\n"
     ]
    },
    {
     "name": "stderr",
     "output_type": "stream",
     "text": [
      "100%|██████████| 100/100 [00:17<00:00,  5.77it/s]\n",
      "  1%|          | 1/100 [00:00<00:17,  5.54it/s]"
     ]
    },
    {
     "name": "stdout",
     "output_type": "stream",
     "text": [
      "batch 001 / 005 | 0.00115\n"
     ]
    },
    {
     "name": "stderr",
     "output_type": "stream",
     "text": [
      "100%|██████████| 100/100 [00:16<00:00,  5.89it/s]\n",
      "  1%|          | 1/100 [00:00<00:18,  5.29it/s]"
     ]
    },
    {
     "name": "stdout",
     "output_type": "stream",
     "text": [
      "batch 002 / 005 | 0.00118\n"
     ]
    },
    {
     "name": "stderr",
     "output_type": "stream",
     "text": [
      "100%|██████████| 100/100 [00:17<00:00,  5.76it/s]\n",
      "  0%|          | 0/100 [00:00<?, ?it/s]"
     ]
    },
    {
     "name": "stdout",
     "output_type": "stream",
     "text": [
      "batch 003 / 005 | 0.00120\n"
     ]
    },
    {
     "name": "stderr",
     "output_type": "stream",
     "text": [
      "100%|██████████| 100/100 [00:16<00:00,  5.98it/s]\n",
      "  1%|          | 1/100 [00:00<00:18,  5.24it/s]"
     ]
    },
    {
     "name": "stdout",
     "output_type": "stream",
     "text": [
      "batch 004 / 005 | 0.00123\n"
     ]
    },
    {
     "name": "stderr",
     "output_type": "stream",
     "text": [
      "100%|██████████| 100/100 [00:16<00:00,  6.09it/s]\n",
      "  0%|          | 0/100 [00:00<?, ?it/s]"
     ]
    },
    {
     "name": "stdout",
     "output_type": "stream",
     "text": [
      "batch 005 / 005 | 0.00125\n"
     ]
    },
    {
     "name": "stderr",
     "output_type": "stream",
     "text": [
      "100%|██████████| 100/100 [00:46<00:00,  2.15it/s]\n",
      "  1%|          | 1/100 [00:00<00:17,  5.81it/s]"
     ]
    },
    {
     "name": "stdout",
     "output_type": "stream",
     "text": [
      "011 | 0.00121\n"
     ]
    },
    {
     "name": "stderr",
     "output_type": "stream",
     "text": [
      "100%|██████████| 100/100 [00:17<00:00,  5.61it/s]\n",
      "  1%|          | 1/100 [00:00<00:17,  5.74it/s]"
     ]
    },
    {
     "name": "stdout",
     "output_type": "stream",
     "text": [
      "batch 001 / 005 | 0.00126\n"
     ]
    },
    {
     "name": "stderr",
     "output_type": "stream",
     "text": [
      "100%|██████████| 100/100 [00:16<00:00,  5.95it/s]\n",
      "  1%|          | 1/100 [00:00<00:17,  5.68it/s]"
     ]
    },
    {
     "name": "stdout",
     "output_type": "stream",
     "text": [
      "batch 002 / 005 | 0.00113\n"
     ]
    },
    {
     "name": "stderr",
     "output_type": "stream",
     "text": [
      "100%|██████████| 100/100 [00:16<00:00,  5.99it/s]\n",
      "  1%|          | 1/100 [00:00<00:17,  5.56it/s]"
     ]
    },
    {
     "name": "stdout",
     "output_type": "stream",
     "text": [
      "batch 003 / 005 | 0.00114\n"
     ]
    },
    {
     "name": "stderr",
     "output_type": "stream",
     "text": [
      "100%|██████████| 100/100 [00:17<00:00,  5.73it/s]\n",
      "  1%|          | 1/100 [00:00<00:17,  5.60it/s]"
     ]
    },
    {
     "name": "stdout",
     "output_type": "stream",
     "text": [
      "batch 004 / 005 | 0.00117\n"
     ]
    },
    {
     "name": "stderr",
     "output_type": "stream",
     "text": [
      "100%|██████████| 100/100 [00:16<00:00,  6.00it/s]\n",
      "  0%|          | 0/100 [00:00<?, ?it/s]"
     ]
    },
    {
     "name": "stdout",
     "output_type": "stream",
     "text": [
      "batch 005 / 005 | 0.00111\n"
     ]
    },
    {
     "name": "stderr",
     "output_type": "stream",
     "text": [
      "100%|██████████| 100/100 [00:45<00:00,  2.20it/s]\n",
      "  1%|          | 1/100 [00:00<00:18,  5.45it/s]"
     ]
    },
    {
     "name": "stdout",
     "output_type": "stream",
     "text": [
      "012 | 0.00084\n"
     ]
    },
    {
     "name": "stderr",
     "output_type": "stream",
     "text": [
      "100%|██████████| 100/100 [00:17<00:00,  5.83it/s]\n",
      "  1%|          | 1/100 [00:00<00:16,  5.83it/s]"
     ]
    },
    {
     "name": "stdout",
     "output_type": "stream",
     "text": [
      "batch 001 / 005 | 0.00090\n"
     ]
    },
    {
     "name": "stderr",
     "output_type": "stream",
     "text": [
      "100%|██████████| 100/100 [00:16<00:00,  6.07it/s]\n",
      "  0%|          | 0/100 [00:00<?, ?it/s]"
     ]
    },
    {
     "name": "stdout",
     "output_type": "stream",
     "text": [
      "batch 002 / 005 | 0.00090\n"
     ]
    },
    {
     "name": "stderr",
     "output_type": "stream",
     "text": [
      "100%|██████████| 100/100 [00:17<00:00,  5.84it/s]\n",
      "  1%|          | 1/100 [00:00<00:17,  5.71it/s]"
     ]
    },
    {
     "name": "stdout",
     "output_type": "stream",
     "text": [
      "batch 003 / 005 | 0.00082\n"
     ]
    },
    {
     "name": "stderr",
     "output_type": "stream",
     "text": [
      "100%|██████████| 100/100 [00:16<00:00,  6.03it/s]\n",
      "  1%|          | 1/100 [00:00<00:17,  5.68it/s]"
     ]
    },
    {
     "name": "stdout",
     "output_type": "stream",
     "text": [
      "batch 004 / 005 | 0.00076\n"
     ]
    },
    {
     "name": "stderr",
     "output_type": "stream",
     "text": [
      "100%|██████████| 100/100 [00:17<00:00,  5.86it/s]\n",
      "  0%|          | 0/100 [00:00<?, ?it/s]"
     ]
    },
    {
     "name": "stdout",
     "output_type": "stream",
     "text": [
      "batch 005 / 005 | 0.00071\n"
     ]
    },
    {
     "name": "stderr",
     "output_type": "stream",
     "text": [
      "100%|██████████| 100/100 [00:44<00:00,  2.23it/s]\n",
      "  1%|          | 1/100 [00:00<00:16,  5.93it/s]"
     ]
    },
    {
     "name": "stdout",
     "output_type": "stream",
     "text": [
      "013 | 0.00045\n"
     ]
    },
    {
     "name": "stderr",
     "output_type": "stream",
     "text": [
      "100%|██████████| 100/100 [00:20<00:00,  4.88it/s]\n",
      "  1%|          | 1/100 [00:00<00:17,  5.62it/s]"
     ]
    },
    {
     "name": "stdout",
     "output_type": "stream",
     "text": [
      "batch 001 / 005 | 0.00048\n"
     ]
    },
    {
     "name": "stderr",
     "output_type": "stream",
     "text": [
      "100%|██████████| 100/100 [00:16<00:00,  6.04it/s]\n",
      "  1%|          | 1/100 [00:00<00:17,  5.78it/s]"
     ]
    },
    {
     "name": "stdout",
     "output_type": "stream",
     "text": [
      "batch 002 / 005 | 0.00044\n"
     ]
    },
    {
     "name": "stderr",
     "output_type": "stream",
     "text": [
      "100%|██████████| 100/100 [00:17<00:00,  5.61it/s]\n",
      "  0%|          | 0/100 [00:00<?, ?it/s]"
     ]
    },
    {
     "name": "stdout",
     "output_type": "stream",
     "text": [
      "batch 003 / 005 | 0.00041\n"
     ]
    },
    {
     "name": "stderr",
     "output_type": "stream",
     "text": [
      "100%|██████████| 100/100 [00:17<00:00,  5.63it/s]\n",
      "  1%|          | 1/100 [00:00<00:17,  5.52it/s]"
     ]
    },
    {
     "name": "stdout",
     "output_type": "stream",
     "text": [
      "batch 004 / 005 | 0.00039\n"
     ]
    },
    {
     "name": "stderr",
     "output_type": "stream",
     "text": [
      "100%|██████████| 100/100 [00:17<00:00,  5.65it/s]\n",
      "  0%|          | 0/100 [00:00<?, ?it/s]"
     ]
    },
    {
     "name": "stdout",
     "output_type": "stream",
     "text": [
      "batch 005 / 005 | 0.00037\n"
     ]
    },
    {
     "name": "stderr",
     "output_type": "stream",
     "text": [
      "100%|██████████| 100/100 [00:45<00:00,  2.20it/s]\n",
      "  1%|          | 1/100 [00:00<00:16,  5.91it/s]"
     ]
    },
    {
     "name": "stdout",
     "output_type": "stream",
     "text": [
      "014 | 0.00024\n"
     ]
    },
    {
     "name": "stderr",
     "output_type": "stream",
     "text": [
      "100%|██████████| 100/100 [00:16<00:00,  6.24it/s]\n",
      "  1%|          | 1/100 [00:00<00:17,  5.79it/s]"
     ]
    },
    {
     "name": "stdout",
     "output_type": "stream",
     "text": [
      "batch 001 / 005 | 0.00029\n"
     ]
    },
    {
     "name": "stderr",
     "output_type": "stream",
     "text": [
      "100%|██████████| 100/100 [00:17<00:00,  5.78it/s]\n",
      "  1%|          | 1/100 [00:00<00:18,  5.42it/s]"
     ]
    },
    {
     "name": "stdout",
     "output_type": "stream",
     "text": [
      "batch 002 / 005 | 0.00027\n"
     ]
    },
    {
     "name": "stderr",
     "output_type": "stream",
     "text": [
      "100%|██████████| 100/100 [00:17<00:00,  5.88it/s]\n",
      "  1%|          | 1/100 [00:00<00:17,  5.71it/s]"
     ]
    },
    {
     "name": "stdout",
     "output_type": "stream",
     "text": [
      "batch 003 / 005 | 0.00025\n"
     ]
    },
    {
     "name": "stderr",
     "output_type": "stream",
     "text": [
      "100%|██████████| 100/100 [00:16<00:00,  6.14it/s]\n",
      "  1%|          | 1/100 [00:00<00:18,  5.28it/s]"
     ]
    },
    {
     "name": "stdout",
     "output_type": "stream",
     "text": [
      "batch 004 / 005 | 0.00023\n"
     ]
    },
    {
     "name": "stderr",
     "output_type": "stream",
     "text": [
      "100%|██████████| 100/100 [00:17<00:00,  5.82it/s]\n",
      "  0%|          | 0/100 [00:00<?, ?it/s]"
     ]
    },
    {
     "name": "stdout",
     "output_type": "stream",
     "text": [
      "batch 005 / 005 | 0.00022\n",
      "new lr: 0.025\n"
     ]
    },
    {
     "name": "stderr",
     "output_type": "stream",
     "text": [
      "100%|██████████| 100/100 [00:45<00:00,  2.21it/s]\n",
      "  1%|          | 1/100 [00:00<00:19,  5.20it/s]"
     ]
    },
    {
     "name": "stdout",
     "output_type": "stream",
     "text": [
      "015 | 0.00015\n"
     ]
    },
    {
     "name": "stderr",
     "output_type": "stream",
     "text": [
      "100%|██████████| 100/100 [00:17<00:00,  5.76it/s]\n",
      "  1%|          | 1/100 [00:00<00:17,  5.80it/s]"
     ]
    },
    {
     "name": "stdout",
     "output_type": "stream",
     "text": [
      "batch 001 / 005 | 0.00015\n"
     ]
    },
    {
     "name": "stderr",
     "output_type": "stream",
     "text": [
      "100%|██████████| 100/100 [00:16<00:00,  6.18it/s]\n",
      "  1%|          | 1/100 [00:00<00:17,  5.56it/s]"
     ]
    },
    {
     "name": "stdout",
     "output_type": "stream",
     "text": [
      "batch 002 / 005 | 0.00013\n"
     ]
    },
    {
     "name": "stderr",
     "output_type": "stream",
     "text": [
      "100%|██████████| 100/100 [00:16<00:00,  5.92it/s]\n",
      "  1%|          | 1/100 [00:00<00:18,  5.40it/s]"
     ]
    },
    {
     "name": "stdout",
     "output_type": "stream",
     "text": [
      "batch 003 / 005 | 0.00012\n"
     ]
    },
    {
     "name": "stderr",
     "output_type": "stream",
     "text": [
      "100%|██████████| 100/100 [00:17<00:00,  5.87it/s]\n",
      "  1%|          | 1/100 [00:00<00:17,  5.74it/s]"
     ]
    },
    {
     "name": "stdout",
     "output_type": "stream",
     "text": [
      "batch 004 / 005 | 0.00012\n"
     ]
    },
    {
     "name": "stderr",
     "output_type": "stream",
     "text": [
      "100%|██████████| 100/100 [00:16<00:00,  6.10it/s]\n",
      "  0%|          | 0/100 [00:00<?, ?it/s]"
     ]
    },
    {
     "name": "stdout",
     "output_type": "stream",
     "text": [
      "batch 005 / 005 | 0.00011\n"
     ]
    },
    {
     "name": "stderr",
     "output_type": "stream",
     "text": [
      "100%|██████████| 100/100 [00:46<00:00,  2.15it/s]\n",
      "  1%|          | 1/100 [00:00<00:16,  5.91it/s]"
     ]
    },
    {
     "name": "stdout",
     "output_type": "stream",
     "text": [
      "016 | 0.00008\n"
     ]
    },
    {
     "name": "stderr",
     "output_type": "stream",
     "text": [
      "100%|██████████| 100/100 [00:17<00:00,  5.81it/s]\n",
      "  1%|          | 1/100 [00:00<00:17,  5.55it/s]"
     ]
    },
    {
     "name": "stdout",
     "output_type": "stream",
     "text": [
      "batch 001 / 005 | 0.00011\n"
     ]
    },
    {
     "name": "stderr",
     "output_type": "stream",
     "text": [
      "100%|██████████| 100/100 [00:17<00:00,  5.78it/s]\n",
      "  1%|          | 1/100 [00:00<00:17,  5.67it/s]"
     ]
    },
    {
     "name": "stdout",
     "output_type": "stream",
     "text": [
      "batch 002 / 005 | 0.00011\n"
     ]
    },
    {
     "name": "stderr",
     "output_type": "stream",
     "text": [
      "100%|██████████| 100/100 [00:17<00:00,  5.71it/s]\n",
      "  1%|          | 1/100 [00:00<00:17,  5.64it/s]"
     ]
    },
    {
     "name": "stdout",
     "output_type": "stream",
     "text": [
      "batch 003 / 005 | 0.00010\n"
     ]
    },
    {
     "name": "stderr",
     "output_type": "stream",
     "text": [
      "100%|██████████| 100/100 [00:16<00:00,  5.97it/s]\n",
      "  0%|          | 0/100 [00:00<?, ?it/s]"
     ]
    },
    {
     "name": "stdout",
     "output_type": "stream",
     "text": [
      "batch 004 / 005 | 0.00010\n"
     ]
    },
    {
     "name": "stderr",
     "output_type": "stream",
     "text": [
      "100%|██████████| 100/100 [00:17<00:00,  5.78it/s]\n",
      "  0%|          | 0/100 [00:00<?, ?it/s]"
     ]
    },
    {
     "name": "stdout",
     "output_type": "stream",
     "text": [
      "batch 005 / 005 | 0.00010\n"
     ]
    },
    {
     "name": "stderr",
     "output_type": "stream",
     "text": [
      "100%|██████████| 100/100 [00:44<00:00,  2.23it/s]\n",
      "  1%|          | 1/100 [00:00<00:18,  5.26it/s]"
     ]
    },
    {
     "name": "stdout",
     "output_type": "stream",
     "text": [
      "017 | 0.00007\n"
     ]
    },
    {
     "name": "stderr",
     "output_type": "stream",
     "text": [
      "100%|██████████| 100/100 [00:17<00:00,  5.59it/s]\n",
      "  1%|          | 1/100 [00:00<00:17,  5.78it/s]"
     ]
    },
    {
     "name": "stdout",
     "output_type": "stream",
     "text": [
      "batch 001 / 005 | 0.00012\n"
     ]
    },
    {
     "name": "stderr",
     "output_type": "stream",
     "text": [
      "100%|██████████| 100/100 [00:17<00:00,  5.66it/s]\n",
      "  1%|          | 1/100 [00:00<00:17,  5.79it/s]"
     ]
    },
    {
     "name": "stdout",
     "output_type": "stream",
     "text": [
      "batch 002 / 005 | 0.00010\n"
     ]
    },
    {
     "name": "stderr",
     "output_type": "stream",
     "text": [
      "100%|██████████| 100/100 [00:16<00:00,  6.01it/s]\n",
      "  1%|          | 1/100 [00:00<00:17,  5.65it/s]"
     ]
    },
    {
     "name": "stdout",
     "output_type": "stream",
     "text": [
      "batch 003 / 005 | 0.00010\n"
     ]
    },
    {
     "name": "stderr",
     "output_type": "stream",
     "text": [
      "100%|██████████| 100/100 [00:17<00:00,  5.76it/s]\n",
      "  1%|          | 1/100 [00:00<00:17,  5.52it/s]"
     ]
    },
    {
     "name": "stdout",
     "output_type": "stream",
     "text": [
      "batch 004 / 005 | 0.00010\n"
     ]
    },
    {
     "name": "stderr",
     "output_type": "stream",
     "text": [
      "100%|██████████| 100/100 [00:18<00:00,  5.49it/s]\n",
      "  0%|          | 0/100 [00:00<?, ?it/s]"
     ]
    },
    {
     "name": "stdout",
     "output_type": "stream",
     "text": [
      "batch 005 / 005 | 0.00010\n"
     ]
    },
    {
     "name": "stderr",
     "output_type": "stream",
     "text": [
      "100%|██████████| 100/100 [00:44<00:00,  2.23it/s]\n",
      "  1%|          | 1/100 [00:00<00:17,  5.76it/s]"
     ]
    },
    {
     "name": "stdout",
     "output_type": "stream",
     "text": [
      "018 | 0.00009\n"
     ]
    },
    {
     "name": "stderr",
     "output_type": "stream",
     "text": [
      "100%|██████████| 100/100 [00:16<00:00,  5.90it/s]\n",
      "  1%|          | 1/100 [00:00<00:17,  5.75it/s]"
     ]
    },
    {
     "name": "stdout",
     "output_type": "stream",
     "text": [
      "batch 001 / 005 | 0.00008\n"
     ]
    },
    {
     "name": "stderr",
     "output_type": "stream",
     "text": [
      "100%|██████████| 100/100 [00:17<00:00,  5.67it/s]\n",
      "  1%|          | 1/100 [00:00<00:17,  5.59it/s]"
     ]
    },
    {
     "name": "stdout",
     "output_type": "stream",
     "text": [
      "batch 002 / 005 | 0.00010\n"
     ]
    },
    {
     "name": "stderr",
     "output_type": "stream",
     "text": [
      "100%|██████████| 100/100 [00:16<00:00,  5.89it/s]\n",
      "  1%|          | 1/100 [00:00<00:17,  5.55it/s]"
     ]
    },
    {
     "name": "stdout",
     "output_type": "stream",
     "text": [
      "batch 003 / 005 | 0.00010\n"
     ]
    },
    {
     "name": "stderr",
     "output_type": "stream",
     "text": [
      "100%|██████████| 100/100 [00:16<00:00,  5.97it/s]\n",
      "  1%|          | 1/100 [00:00<00:16,  5.86it/s]"
     ]
    },
    {
     "name": "stdout",
     "output_type": "stream",
     "text": [
      "batch 004 / 005 | 0.00011\n"
     ]
    },
    {
     "name": "stderr",
     "output_type": "stream",
     "text": [
      "100%|██████████| 100/100 [00:17<00:00,  5.85it/s]\n",
      "  0%|          | 0/100 [00:00<?, ?it/s]"
     ]
    },
    {
     "name": "stdout",
     "output_type": "stream",
     "text": [
      "batch 005 / 005 | 0.00011\n"
     ]
    },
    {
     "name": "stderr",
     "output_type": "stream",
     "text": [
      "100%|██████████| 100/100 [00:45<00:00,  2.20it/s]\n",
      "  1%|          | 1/100 [00:00<00:17,  5.56it/s]"
     ]
    },
    {
     "name": "stdout",
     "output_type": "stream",
     "text": [
      "019 | 0.00009\n"
     ]
    },
    {
     "name": "stderr",
     "output_type": "stream",
     "text": [
      "100%|██████████| 100/100 [00:17<00:00,  5.84it/s]\n",
      "  1%|          | 1/100 [00:00<00:17,  5.51it/s]"
     ]
    },
    {
     "name": "stdout",
     "output_type": "stream",
     "text": [
      "batch 001 / 005 | 0.00012\n"
     ]
    },
    {
     "name": "stderr",
     "output_type": "stream",
     "text": [
      "100%|██████████| 100/100 [00:16<00:00,  6.02it/s]\n",
      "  1%|          | 1/100 [00:00<00:17,  5.71it/s]"
     ]
    },
    {
     "name": "stdout",
     "output_type": "stream",
     "text": [
      "batch 002 / 005 | 0.00009\n"
     ]
    },
    {
     "name": "stderr",
     "output_type": "stream",
     "text": [
      "100%|██████████| 100/100 [00:18<00:00,  5.47it/s]\n",
      "  1%|          | 1/100 [00:00<00:18,  5.32it/s]"
     ]
    },
    {
     "name": "stdout",
     "output_type": "stream",
     "text": [
      "batch 003 / 005 | 0.00009\n"
     ]
    },
    {
     "name": "stderr",
     "output_type": "stream",
     "text": [
      "100%|██████████| 100/100 [00:18<00:00,  5.46it/s]\n",
      "  1%|          | 1/100 [00:00<00:18,  5.46it/s]"
     ]
    },
    {
     "name": "stdout",
     "output_type": "stream",
     "text": [
      "batch 004 / 005 | 0.00011\n"
     ]
    },
    {
     "name": "stderr",
     "output_type": "stream",
     "text": [
      "100%|██████████| 100/100 [00:18<00:00,  5.50it/s]\n",
      "  0%|          | 0/100 [00:00<?, ?it/s]"
     ]
    },
    {
     "name": "stdout",
     "output_type": "stream",
     "text": [
      "batch 005 / 005 | 0.00011\n"
     ]
    },
    {
     "name": "stderr",
     "output_type": "stream",
     "text": [
      "100%|██████████| 100/100 [00:47<00:00,  2.10it/s]\n",
      "  0%|          | 0/100 [00:00<?, ?it/s]"
     ]
    },
    {
     "name": "stdout",
     "output_type": "stream",
     "text": [
      "020 | 0.00009\n"
     ]
    },
    {
     "name": "stderr",
     "output_type": "stream",
     "text": [
      "100%|██████████| 100/100 [00:25<00:00,  3.93it/s]\n",
      "  1%|          | 1/100 [00:00<00:19,  5.05it/s]"
     ]
    },
    {
     "name": "stdout",
     "output_type": "stream",
     "text": [
      "batch 001 / 005 | 0.00012\n"
     ]
    },
    {
     "name": "stderr",
     "output_type": "stream",
     "text": [
      "100%|██████████| 100/100 [00:26<00:00,  3.74it/s]\n",
      "  1%|          | 1/100 [00:00<00:17,  5.76it/s]"
     ]
    },
    {
     "name": "stdout",
     "output_type": "stream",
     "text": [
      "batch 002 / 005 | 0.00010\n"
     ]
    },
    {
     "name": "stderr",
     "output_type": "stream",
     "text": [
      "100%|██████████| 100/100 [00:19<00:00,  5.13it/s]\n",
      "  1%|          | 1/100 [00:00<00:18,  5.49it/s]"
     ]
    },
    {
     "name": "stdout",
     "output_type": "stream",
     "text": [
      "batch 003 / 005 | 0.00011\n"
     ]
    },
    {
     "name": "stderr",
     "output_type": "stream",
     "text": [
      "100%|██████████| 100/100 [00:18<00:00,  5.39it/s]\n",
      "  1%|          | 1/100 [00:00<00:18,  5.42it/s]"
     ]
    },
    {
     "name": "stdout",
     "output_type": "stream",
     "text": [
      "batch 004 / 005 | 0.00010\n"
     ]
    },
    {
     "name": "stderr",
     "output_type": "stream",
     "text": [
      "100%|██████████| 100/100 [00:17<00:00,  5.61it/s]\n",
      "  0%|          | 0/100 [00:00<?, ?it/s]"
     ]
    },
    {
     "name": "stdout",
     "output_type": "stream",
     "text": [
      "batch 005 / 005 | 0.00010\n"
     ]
    },
    {
     "name": "stderr",
     "output_type": "stream",
     "text": [
      "100%|██████████| 100/100 [00:46<00:00,  2.13it/s]\n",
      "  1%|          | 1/100 [00:00<00:16,  5.89it/s]"
     ]
    },
    {
     "name": "stdout",
     "output_type": "stream",
     "text": [
      "021 | 0.00009\n"
     ]
    },
    {
     "name": "stderr",
     "output_type": "stream",
     "text": [
      "100%|██████████| 100/100 [00:18<00:00,  5.46it/s]\n",
      "  1%|          | 1/100 [00:00<00:18,  5.30it/s]"
     ]
    },
    {
     "name": "stdout",
     "output_type": "stream",
     "text": [
      "batch 001 / 005 | 0.00007\n"
     ]
    },
    {
     "name": "stderr",
     "output_type": "stream",
     "text": [
      "100%|██████████| 100/100 [00:19<00:00,  5.03it/s]\n",
      "  1%|          | 1/100 [00:00<00:18,  5.29it/s]"
     ]
    },
    {
     "name": "stdout",
     "output_type": "stream",
     "text": [
      "batch 002 / 005 | 0.00008\n"
     ]
    },
    {
     "name": "stderr",
     "output_type": "stream",
     "text": [
      "100%|██████████| 100/100 [00:17<00:00,  5.62it/s]\n",
      "  1%|          | 1/100 [00:00<00:18,  5.33it/s]"
     ]
    },
    {
     "name": "stdout",
     "output_type": "stream",
     "text": [
      "batch 003 / 005 | 0.00009\n"
     ]
    },
    {
     "name": "stderr",
     "output_type": "stream",
     "text": [
      "100%|██████████| 100/100 [00:17<00:00,  5.59it/s]\n",
      "  1%|          | 1/100 [00:00<00:19,  5.03it/s]"
     ]
    },
    {
     "name": "stdout",
     "output_type": "stream",
     "text": [
      "batch 004 / 005 | 0.00010\n"
     ]
    },
    {
     "name": "stderr",
     "output_type": "stream",
     "text": [
      "100%|██████████| 100/100 [00:18<00:00,  5.51it/s]\n",
      "  0%|          | 0/100 [00:00<?, ?it/s]"
     ]
    },
    {
     "name": "stdout",
     "output_type": "stream",
     "text": [
      "batch 005 / 005 | 0.00009\n"
     ]
    },
    {
     "name": "stderr",
     "output_type": "stream",
     "text": [
      "100%|██████████| 100/100 [00:47<00:00,  2.11it/s]\n",
      "  0%|          | 0/100 [00:00<?, ?it/s]"
     ]
    },
    {
     "name": "stdout",
     "output_type": "stream",
     "text": [
      "022 | 0.00009\n"
     ]
    },
    {
     "name": "stderr",
     "output_type": "stream",
     "text": [
      "100%|██████████| 100/100 [00:20<00:00,  4.78it/s]\n",
      "  0%|          | 0/100 [00:00<?, ?it/s]"
     ]
    },
    {
     "name": "stdout",
     "output_type": "stream",
     "text": [
      "batch 001 / 005 | 0.00011\n"
     ]
    },
    {
     "name": "stderr",
     "output_type": "stream",
     "text": [
      "100%|██████████| 100/100 [00:21<00:00,  4.73it/s]\n",
      "  1%|          | 1/100 [00:00<00:19,  5.09it/s]"
     ]
    },
    {
     "name": "stdout",
     "output_type": "stream",
     "text": [
      "batch 002 / 005 | 0.00011\n"
     ]
    },
    {
     "name": "stderr",
     "output_type": "stream",
     "text": [
      "100%|██████████| 100/100 [00:17<00:00,  5.60it/s]\n",
      "  0%|          | 0/100 [00:00<?, ?it/s]"
     ]
    },
    {
     "name": "stdout",
     "output_type": "stream",
     "text": [
      "batch 003 / 005 | 0.00009\n"
     ]
    },
    {
     "name": "stderr",
     "output_type": "stream",
     "text": [
      "100%|██████████| 100/100 [00:17<00:00,  5.74it/s]\n",
      "  1%|          | 1/100 [00:00<00:17,  5.58it/s]"
     ]
    },
    {
     "name": "stdout",
     "output_type": "stream",
     "text": [
      "batch 004 / 005 | 0.00010\n"
     ]
    },
    {
     "name": "stderr",
     "output_type": "stream",
     "text": [
      "100%|██████████| 100/100 [00:17<00:00,  5.81it/s]\n",
      "  0%|          | 0/100 [00:00<?, ?it/s]"
     ]
    },
    {
     "name": "stdout",
     "output_type": "stream",
     "text": [
      "batch 005 / 005 | 0.00010\n"
     ]
    },
    {
     "name": "stderr",
     "output_type": "stream",
     "text": [
      "100%|██████████| 100/100 [00:44<00:00,  2.24it/s]\n",
      "  1%|          | 1/100 [00:00<00:18,  5.38it/s]"
     ]
    },
    {
     "name": "stdout",
     "output_type": "stream",
     "text": [
      "023 | 0.00009\n"
     ]
    },
    {
     "name": "stderr",
     "output_type": "stream",
     "text": [
      "100%|██████████| 100/100 [00:16<00:00,  5.99it/s]\n",
      "  1%|          | 1/100 [00:00<00:19,  5.07it/s]"
     ]
    },
    {
     "name": "stdout",
     "output_type": "stream",
     "text": [
      "batch 001 / 005 | 0.00011\n"
     ]
    },
    {
     "name": "stderr",
     "output_type": "stream",
     "text": [
      "100%|██████████| 100/100 [00:16<00:00,  6.00it/s]\n",
      "  1%|          | 1/100 [00:00<00:18,  5.23it/s]"
     ]
    },
    {
     "name": "stdout",
     "output_type": "stream",
     "text": [
      "batch 002 / 005 | 0.00011\n"
     ]
    },
    {
     "name": "stderr",
     "output_type": "stream",
     "text": [
      "100%|██████████| 100/100 [00:16<00:00,  5.96it/s]\n",
      "  1%|          | 1/100 [00:00<00:17,  5.59it/s]"
     ]
    },
    {
     "name": "stdout",
     "output_type": "stream",
     "text": [
      "batch 003 / 005 | 0.00010\n"
     ]
    },
    {
     "name": "stderr",
     "output_type": "stream",
     "text": [
      "100%|██████████| 100/100 [00:16<00:00,  6.06it/s]\n",
      "  1%|          | 1/100 [00:00<00:17,  5.54it/s]"
     ]
    },
    {
     "name": "stdout",
     "output_type": "stream",
     "text": [
      "batch 004 / 005 | 0.00010\n"
     ]
    },
    {
     "name": "stderr",
     "output_type": "stream",
     "text": [
      "100%|██████████| 100/100 [00:16<00:00,  6.04it/s]\n",
      "  0%|          | 0/100 [00:00<?, ?it/s]"
     ]
    },
    {
     "name": "stdout",
     "output_type": "stream",
     "text": [
      "batch 005 / 005 | 0.00010\n"
     ]
    },
    {
     "name": "stderr",
     "output_type": "stream",
     "text": [
      "100%|██████████| 100/100 [00:44<00:00,  2.25it/s]\n",
      "  1%|          | 1/100 [00:00<00:17,  5.65it/s]"
     ]
    },
    {
     "name": "stdout",
     "output_type": "stream",
     "text": [
      "024 | 0.00009\n"
     ]
    },
    {
     "name": "stderr",
     "output_type": "stream",
     "text": [
      "100%|██████████| 100/100 [00:16<00:00,  6.03it/s]\n",
      "  1%|          | 1/100 [00:00<00:18,  5.43it/s]"
     ]
    },
    {
     "name": "stdout",
     "output_type": "stream",
     "text": [
      "batch 001 / 005 | 0.00013\n"
     ]
    },
    {
     "name": "stderr",
     "output_type": "stream",
     "text": [
      "100%|██████████| 100/100 [00:16<00:00,  6.08it/s]\n",
      "  1%|          | 1/100 [00:00<00:17,  5.56it/s]"
     ]
    },
    {
     "name": "stdout",
     "output_type": "stream",
     "text": [
      "batch 002 / 005 | 0.00010\n"
     ]
    },
    {
     "name": "stderr",
     "output_type": "stream",
     "text": [
      "100%|██████████| 100/100 [00:16<00:00,  5.98it/s]\n",
      "  1%|          | 1/100 [00:00<00:19,  5.19it/s]"
     ]
    },
    {
     "name": "stdout",
     "output_type": "stream",
     "text": [
      "batch 003 / 005 | 0.00012\n"
     ]
    },
    {
     "name": "stderr",
     "output_type": "stream",
     "text": [
      "100%|██████████| 100/100 [00:16<00:00,  6.07it/s]\n",
      "  1%|          | 1/100 [00:00<00:18,  5.35it/s]"
     ]
    },
    {
     "name": "stdout",
     "output_type": "stream",
     "text": [
      "batch 004 / 005 | 0.00010\n"
     ]
    },
    {
     "name": "stderr",
     "output_type": "stream",
     "text": [
      "100%|██████████| 100/100 [00:16<00:00,  5.98it/s]\n",
      "  0%|          | 0/100 [00:00<?, ?it/s]"
     ]
    },
    {
     "name": "stdout",
     "output_type": "stream",
     "text": [
      "batch 005 / 005 | 0.00010\n"
     ]
    },
    {
     "name": "stderr",
     "output_type": "stream",
     "text": [
      "100%|██████████| 100/100 [00:44<00:00,  2.25it/s]\n",
      "  1%|          | 1/100 [00:00<00:17,  5.65it/s]"
     ]
    },
    {
     "name": "stdout",
     "output_type": "stream",
     "text": [
      "025 | 0.00009\n"
     ]
    },
    {
     "name": "stderr",
     "output_type": "stream",
     "text": [
      "100%|██████████| 100/100 [00:16<00:00,  6.00it/s]\n",
      "  0%|          | 0/100 [00:00<?, ?it/s]"
     ]
    },
    {
     "name": "stdout",
     "output_type": "stream",
     "text": [
      "batch 001 / 005 | 0.00007\n"
     ]
    },
    {
     "name": "stderr",
     "output_type": "stream",
     "text": [
      "100%|██████████| 100/100 [00:16<00:00,  6.11it/s]\n",
      "  1%|          | 1/100 [00:00<00:18,  5.28it/s]"
     ]
    },
    {
     "name": "stdout",
     "output_type": "stream",
     "text": [
      "batch 002 / 005 | 0.00009\n"
     ]
    },
    {
     "name": "stderr",
     "output_type": "stream",
     "text": [
      "100%|██████████| 100/100 [00:16<00:00,  5.97it/s]\n",
      "  1%|          | 1/100 [00:00<00:17,  5.56it/s]"
     ]
    },
    {
     "name": "stdout",
     "output_type": "stream",
     "text": [
      "batch 003 / 005 | 0.00009\n"
     ]
    },
    {
     "name": "stderr",
     "output_type": "stream",
     "text": [
      "100%|██████████| 100/100 [00:16<00:00,  6.04it/s]\n",
      "  1%|          | 1/100 [00:00<00:17,  5.59it/s]"
     ]
    },
    {
     "name": "stdout",
     "output_type": "stream",
     "text": [
      "batch 004 / 005 | 0.00009\n"
     ]
    },
    {
     "name": "stderr",
     "output_type": "stream",
     "text": [
      "100%|██████████| 100/100 [00:16<00:00,  6.12it/s]\n",
      "  0%|          | 0/100 [00:00<?, ?it/s]"
     ]
    },
    {
     "name": "stdout",
     "output_type": "stream",
     "text": [
      "batch 005 / 005 | 0.00010\n"
     ]
    },
    {
     "name": "stderr",
     "output_type": "stream",
     "text": [
      "100%|██████████| 100/100 [00:46<00:00,  2.13it/s]\n",
      "  1%|          | 1/100 [00:00<00:17,  5.64it/s]"
     ]
    },
    {
     "name": "stdout",
     "output_type": "stream",
     "text": [
      "026 | 0.00009\n"
     ]
    },
    {
     "name": "stderr",
     "output_type": "stream",
     "text": [
      "100%|██████████| 100/100 [00:17<00:00,  5.83it/s]\n",
      "  1%|          | 1/100 [00:00<00:19,  5.15it/s]"
     ]
    },
    {
     "name": "stdout",
     "output_type": "stream",
     "text": [
      "batch 001 / 005 | 0.00009\n"
     ]
    },
    {
     "name": "stderr",
     "output_type": "stream",
     "text": [
      "100%|██████████| 100/100 [00:20<00:00,  4.80it/s]\n",
      "  0%|          | 0/100 [00:00<?, ?it/s]"
     ]
    },
    {
     "name": "stdout",
     "output_type": "stream",
     "text": [
      "batch 002 / 005 | 0.00008\n"
     ]
    },
    {
     "name": "stderr",
     "output_type": "stream",
     "text": [
      "100%|██████████| 100/100 [00:19<00:00,  5.22it/s]\n",
      "  0%|          | 0/100 [00:00<?, ?it/s]"
     ]
    },
    {
     "name": "stdout",
     "output_type": "stream",
     "text": [
      "batch 003 / 005 | 0.00009\n"
     ]
    },
    {
     "name": "stderr",
     "output_type": "stream",
     "text": [
      "100%|██████████| 100/100 [00:20<00:00,  4.97it/s]\n",
      "  1%|          | 1/100 [00:00<00:18,  5.40it/s]"
     ]
    },
    {
     "name": "stdout",
     "output_type": "stream",
     "text": [
      "batch 004 / 005 | 0.00009\n"
     ]
    },
    {
     "name": "stderr",
     "output_type": "stream",
     "text": [
      "100%|██████████| 100/100 [00:19<00:00,  5.12it/s]\n",
      "  0%|          | 0/100 [00:00<?, ?it/s]"
     ]
    },
    {
     "name": "stdout",
     "output_type": "stream",
     "text": [
      "batch 005 / 005 | 0.00010\n"
     ]
    },
    {
     "name": "stderr",
     "output_type": "stream",
     "text": [
      "100%|██████████| 100/100 [00:45<00:00,  2.21it/s]\n",
      "  1%|          | 1/100 [00:00<00:17,  5.62it/s]"
     ]
    },
    {
     "name": "stdout",
     "output_type": "stream",
     "text": [
      "027 | 0.00009\n"
     ]
    },
    {
     "name": "stderr",
     "output_type": "stream",
     "text": [
      "100%|██████████| 100/100 [00:18<00:00,  5.44it/s]\n",
      "  1%|          | 1/100 [00:00<00:17,  5.50it/s]"
     ]
    },
    {
     "name": "stdout",
     "output_type": "stream",
     "text": [
      "batch 001 / 005 | 0.00012\n"
     ]
    },
    {
     "name": "stderr",
     "output_type": "stream",
     "text": [
      "100%|██████████| 100/100 [00:18<00:00,  5.55it/s]\n",
      "  1%|          | 1/100 [00:00<00:17,  5.59it/s]"
     ]
    },
    {
     "name": "stdout",
     "output_type": "stream",
     "text": [
      "batch 002 / 005 | 0.00010\n"
     ]
    },
    {
     "name": "stderr",
     "output_type": "stream",
     "text": [
      "100%|██████████| 100/100 [00:17<00:00,  5.78it/s]\n",
      "  1%|          | 1/100 [00:00<00:18,  5.32it/s]"
     ]
    },
    {
     "name": "stdout",
     "output_type": "stream",
     "text": [
      "batch 003 / 005 | 0.00010\n"
     ]
    },
    {
     "name": "stderr",
     "output_type": "stream",
     "text": [
      "100%|██████████| 100/100 [00:17<00:00,  5.76it/s]\n",
      "  1%|          | 1/100 [00:00<00:17,  5.52it/s]"
     ]
    },
    {
     "name": "stdout",
     "output_type": "stream",
     "text": [
      "batch 004 / 005 | 0.00010\n"
     ]
    },
    {
     "name": "stderr",
     "output_type": "stream",
     "text": [
      "100%|██████████| 100/100 [00:17<00:00,  5.78it/s]\n",
      "  0%|          | 0/100 [00:00<?, ?it/s]"
     ]
    },
    {
     "name": "stdout",
     "output_type": "stream",
     "text": [
      "batch 005 / 005 | 0.00010\n"
     ]
    },
    {
     "name": "stderr",
     "output_type": "stream",
     "text": [
      "100%|██████████| 100/100 [00:46<00:00,  2.15it/s]\n",
      "  1%|          | 1/100 [00:00<00:17,  5.72it/s]"
     ]
    },
    {
     "name": "stdout",
     "output_type": "stream",
     "text": [
      "028 | 0.00010\n"
     ]
    },
    {
     "name": "stderr",
     "output_type": "stream",
     "text": [
      "100%|██████████| 100/100 [00:20<00:00,  4.78it/s]\n",
      "  0%|          | 0/100 [00:00<?, ?it/s]"
     ]
    },
    {
     "name": "stdout",
     "output_type": "stream",
     "text": [
      "batch 001 / 005 | 0.00007\n"
     ]
    },
    {
     "name": "stderr",
     "output_type": "stream",
     "text": [
      "100%|██████████| 100/100 [00:19<00:00,  5.16it/s]\n",
      "  0%|          | 0/100 [00:00<?, ?it/s]"
     ]
    },
    {
     "name": "stdout",
     "output_type": "stream",
     "text": [
      "batch 002 / 005 | 0.00008\n"
     ]
    },
    {
     "name": "stderr",
     "output_type": "stream",
     "text": [
      "100%|██████████| 100/100 [00:19<00:00,  5.10it/s]\n",
      "  1%|          | 1/100 [00:00<00:19,  5.09it/s]"
     ]
    },
    {
     "name": "stdout",
     "output_type": "stream",
     "text": [
      "batch 003 / 005 | 0.00010\n"
     ]
    },
    {
     "name": "stderr",
     "output_type": "stream",
     "text": [
      "100%|██████████| 100/100 [00:18<00:00,  5.27it/s]\n",
      "  0%|          | 0/100 [00:00<?, ?it/s]"
     ]
    },
    {
     "name": "stdout",
     "output_type": "stream",
     "text": [
      "batch 004 / 005 | 0.00009\n"
     ]
    },
    {
     "name": "stderr",
     "output_type": "stream",
     "text": [
      "100%|██████████| 100/100 [00:19<00:00,  5.10it/s]\n",
      "  0%|          | 0/100 [00:00<?, ?it/s]"
     ]
    },
    {
     "name": "stdout",
     "output_type": "stream",
     "text": [
      "batch 005 / 005 | 0.00010\n"
     ]
    },
    {
     "name": "stderr",
     "output_type": "stream",
     "text": [
      "100%|██████████| 100/100 [00:45<00:00,  2.22it/s]\n",
      "  1%|          | 1/100 [00:00<00:18,  5.46it/s]"
     ]
    },
    {
     "name": "stdout",
     "output_type": "stream",
     "text": [
      "029 | 0.00009\n"
     ]
    },
    {
     "name": "stderr",
     "output_type": "stream",
     "text": [
      "100%|██████████| 100/100 [00:18<00:00,  5.45it/s]\n",
      "  0%|          | 0/100 [00:00<?, ?it/s]"
     ]
    },
    {
     "name": "stdout",
     "output_type": "stream",
     "text": [
      "batch 001 / 005 | 0.00009\n"
     ]
    },
    {
     "name": "stderr",
     "output_type": "stream",
     "text": [
      "100%|██████████| 100/100 [00:18<00:00,  5.42it/s]\n",
      "  1%|          | 1/100 [00:00<00:19,  4.96it/s]"
     ]
    },
    {
     "name": "stdout",
     "output_type": "stream",
     "text": [
      "batch 002 / 005 | 0.00010\n"
     ]
    },
    {
     "name": "stderr",
     "output_type": "stream",
     "text": [
      "100%|██████████| 100/100 [00:17<00:00,  5.70it/s]\n",
      "  1%|          | 1/100 [00:00<00:17,  5.62it/s]"
     ]
    },
    {
     "name": "stdout",
     "output_type": "stream",
     "text": [
      "batch 003 / 005 | 0.00010\n"
     ]
    },
    {
     "name": "stderr",
     "output_type": "stream",
     "text": [
      "100%|██████████| 100/100 [00:18<00:00,  5.38it/s]\n",
      "  1%|          | 1/100 [00:00<00:18,  5.42it/s]"
     ]
    },
    {
     "name": "stdout",
     "output_type": "stream",
     "text": [
      "batch 004 / 005 | 0.00010\n"
     ]
    },
    {
     "name": "stderr",
     "output_type": "stream",
     "text": [
      "100%|██████████| 100/100 [00:17<00:00,  5.75it/s]\n",
      "  0%|          | 0/100 [00:00<?, ?it/s]"
     ]
    },
    {
     "name": "stdout",
     "output_type": "stream",
     "text": [
      "batch 005 / 005 | 0.00010\n",
      "new lr: 0.0125\n"
     ]
    },
    {
     "name": "stderr",
     "output_type": "stream",
     "text": [
      "100%|██████████| 100/100 [00:45<00:00,  2.18it/s]\n",
      "  1%|          | 1/100 [00:00<00:17,  5.77it/s]"
     ]
    },
    {
     "name": "stdout",
     "output_type": "stream",
     "text": [
      "030 | 0.00009\n"
     ]
    },
    {
     "name": "stderr",
     "output_type": "stream",
     "text": [
      "100%|██████████| 100/100 [00:17<00:00,  5.73it/s]\n",
      "  0%|          | 0/100 [00:00<?, ?it/s]"
     ]
    },
    {
     "name": "stdout",
     "output_type": "stream",
     "text": [
      "batch 001 / 005 | 0.00009\n"
     ]
    },
    {
     "name": "stderr",
     "output_type": "stream",
     "text": [
      "100%|██████████| 100/100 [00:18<00:00,  5.41it/s]\n",
      "  1%|          | 1/100 [00:00<00:18,  5.24it/s]"
     ]
    },
    {
     "name": "stdout",
     "output_type": "stream",
     "text": [
      "batch 002 / 005 | 0.00011\n"
     ]
    },
    {
     "name": "stderr",
     "output_type": "stream",
     "text": [
      "100%|██████████| 100/100 [00:18<00:00,  5.51it/s]\n",
      "  0%|          | 0/100 [00:00<?, ?it/s]"
     ]
    },
    {
     "name": "stdout",
     "output_type": "stream",
     "text": [
      "batch 003 / 005 | 0.00011\n"
     ]
    },
    {
     "name": "stderr",
     "output_type": "stream",
     "text": [
      "100%|██████████| 100/100 [00:18<00:00,  5.43it/s]\n",
      "  1%|          | 1/100 [00:00<00:19,  5.00it/s]"
     ]
    },
    {
     "name": "stdout",
     "output_type": "stream",
     "text": [
      "batch 004 / 005 | 0.00010\n"
     ]
    },
    {
     "name": "stderr",
     "output_type": "stream",
     "text": [
      "100%|██████████| 100/100 [00:17<00:00,  5.73it/s]\n"
     ]
    },
    {
     "name": "stdout",
     "output_type": "stream",
     "text": [
      "batch 005 / 005 | 0.00010\n"
     ]
    }
   ],
   "source": [
    "val_losses_d, train_losses_d ,param_updates_d = fit(lambda L,P: loss_d(L,P,sqrtalpha,beta), [sqrtalpha], L, P_d, Lval, Pval_d,\n",
    "                                                    opt=torch.optim.Adam, opt_kwargs={\"lr\": 5e-2},\n",
    "                                                    batch_size=20, epochs=epochs, verbose=True)"
   ]
  },
  {
   "cell_type": "code",
   "execution_count": 200,
   "metadata": {},
   "outputs": [],
   "source": [
    "obj_vals_d2 = np.zeros(epochs)\n",
    "for epoch in range(epochs):\n",
    "    sqrtalpha_temp = param_updates_d[epoch,0]\n",
    "    P_gen = layer(sqrtalpha_temp, beta_true, Lval[0,:], solver_args={\"solve_method\":'ECOS'})[0][0,:,0]\n",
    "    obj_vals_d2[epoch] = f_gen(P_gen.detach().numpy(), sqrtalpha_temp.detach().numpy(), beta_true).value"
   ]
  },
  {
   "cell_type": "code",
   "execution_count": 192,
   "metadata": {},
   "outputs": [
    {
     "name": "stderr",
     "output_type": "stream",
     "text": [
      "  4%|▍         | 4/100 [00:02<01:01,  1.56it/s]"
     ]
    },
    {
     "name": "stdout",
     "output_type": "stream",
     "text": [
      "Please consider re-formulating your problem so that it is always solvable or increasing the number of solver iterations.\n"
     ]
    },
    {
     "name": "stderr",
     "output_type": "stream",
     "text": [
      "\n",
      "  6%|▌         | 6/100 [00:04<01:07,  1.39it/s]"
     ]
    },
    {
     "name": "stdout",
     "output_type": "stream",
     "text": [
      "Please consider re-formulating your problem so that it is always solvable or increasing the number of solver iterations.\n"
     ]
    },
    {
     "name": "stderr",
     "output_type": "stream",
     "text": [
      "\n",
      "  5%|▌         | 5/100 [00:03<01:07,  1.40it/s]\n",
      "  0%|          | 0/100 [00:00<?, ?it/s]"
     ]
    },
    {
     "name": "stdout",
     "output_type": "stream",
     "text": [
      "Please consider re-formulating your problem so that it is always solvable or increasing the number of solver iterations.\n"
     ]
    },
    {
     "name": "stderr",
     "output_type": "stream",
     "text": [
      " 15%|█▌        | 15/100 [00:07<00:44,  1.89it/s]\n",
      "  0%|          | 0/100 [00:00<?, ?it/s]"
     ]
    },
    {
     "name": "stdout",
     "output_type": "stream",
     "text": [
      "Please consider re-formulating your problem so that it is always solvable or increasing the number of solver iterations.\n"
     ]
    },
    {
     "name": "stderr",
     "output_type": "stream",
     "text": [
      "100%|██████████| 100/100 [00:49<00:00,  2.02it/s]\n",
      "100%|██████████| 100/100 [01:02<00:00,  1.59it/s]\n",
      "100%|██████████| 100/100 [00:50<00:00,  1.99it/s]\n",
      "100%|██████████| 100/100 [00:52<00:00,  1.89it/s]\n",
      "100%|██████████| 100/100 [00:49<00:00,  2.00it/s]\n",
      "100%|██████████| 100/100 [00:56<00:00,  1.76it/s]\n",
      "100%|██████████| 100/100 [00:59<00:00,  1.69it/s]\n",
      "100%|██████████| 100/100 [00:55<00:00,  1.80it/s]\n",
      "100%|██████████| 100/100 [00:56<00:00,  1.78it/s]\n",
      "100%|██████████| 100/100 [00:54<00:00,  1.84it/s]\n",
      "100%|██████████| 100/100 [00:55<00:00,  1.79it/s]\n",
      "100%|██████████| 100/100 [00:55<00:00,  1.81it/s]\n",
      "100%|██████████| 100/100 [00:58<00:00,  1.71it/s]\n",
      "100%|██████████| 100/100 [00:59<00:00,  1.69it/s]\n",
      "100%|██████████| 100/100 [01:01<00:00,  1.62it/s]\n",
      "100%|██████████| 100/100 [01:00<00:00,  1.66it/s]\n",
      "100%|██████████| 100/100 [00:59<00:00,  1.69it/s]\n",
      "100%|██████████| 100/100 [00:58<00:00,  1.70it/s]\n",
      "100%|██████████| 100/100 [01:01<00:00,  1.62it/s]\n",
      "100%|██████████| 100/100 [00:58<00:00,  1.71it/s]\n",
      "100%|██████████| 100/100 [00:57<00:00,  1.73it/s]\n",
      "100%|██████████| 100/100 [01:00<00:00,  1.66it/s]\n",
      "100%|██████████| 100/100 [00:57<00:00,  1.75it/s]\n",
      "100%|██████████| 100/100 [00:57<00:00,  1.74it/s]\n",
      "100%|██████████| 100/100 [00:57<00:00,  1.75it/s]\n",
      "100%|██████████| 100/100 [00:59<00:00,  1.69it/s]\n",
      "100%|██████████| 100/100 [00:56<00:00,  1.78it/s]\n"
     ]
    }
   ],
   "source": [
    "N = Lval.shape[0]\n",
    "obj_vals_d = np.zeros(epochs)\n",
    "for epoch in range(epochs):\n",
    "    sqrtalpha_temp = param_updates_d[epoch,0]\n",
    "    P_gen = layer(sqrtalpha_temp, beta_true, Lval[0,:], solver_args={\"solve_method\":'ECOS'})[0][0,:,0]\n",
    "    obj_vals_d[epoch] = f_gen(P_gen.detach().numpy(), sqrtalpha_temp.detach().numpy(), beta_true).value\n",
    "\n",
    "P_untrained_d = layer(param_updates_nd[0,0], beta_true, Lval[0,:], solver_args={\"solve_method\":'ECOS'})[0][0,:,:]\n",
    "P_trained_d = admm(Lval, param_updates_d[-1,0].repeat(N), beta_true.repeat(N), layers)[0][0,:,:]"
   ]
  },
  {
   "cell_type": "code",
   "execution_count": 219,
   "metadata": {},
   "outputs": [
    {
     "data": {
      "image/png": "[encoded data removed]",
      "text/plain": [
       "<Figure size 432x288 with 1 Axes>"
      ]
     },
     "metadata": {
      "needs_background": "light"
     },
     "output_type": "display_data"
    },
    {
     "data": {
      "image/png": "[encoded data removed]",
      "text/plain": [
       "<Figure size 432x288 with 1 Axes>"
      ]
     },
     "metadata": {
      "needs_background": "light"
     },
     "output_type": "display_data"
    },
    {
     "data": {
      "image/png": "[encoded data removed]",
      "text/plain": [
       "<Figure size 432x288 with 1 Axes>"
      ]
     },
     "metadata": {
      "needs_background": "light"
     },
     "output_type": "display_data"
    },
    {
     "data": {
      "image/png": "[encoded data removed]",
      "text/plain": [
       "<Figure size 432x288 with 1 Axes>"
      ]
     },
     "metadata": {
      "needs_background": "light"
     },
     "output_type": "display_data"
    }
   ],
   "source": [
    "plot_results(val_losses_d, train_losses_d, param_updates_d, obj_vals_d, sqrtalpha_true, beta_true, P_untrained_d, P_trained_d, Pval_d, 'd')"
   ]
  },
  {
   "cell_type": "code",
   "execution_count": 228,
   "metadata": {},
   "outputs": [
    {
     "name": "stdout",
     "output_type": "stream",
     "text": [
      "final sqrt(alpha) estimate:  0.32212946\n",
      "true sqrt(alpha):  0.38681477\n",
      "final objval estimate:  181.39550418176665\n",
      "true objval:  202.40317754321705\n"
     ]
    }
   ],
   "source": [
    "# results\n",
    "print('final sqrt(alpha) estimate: ', param_updates_d[-1,:].detach().numpy()[0])\n",
    "print('true sqrt(alpha): ', sqrtalpha_true.detach().numpy()[0])\n",
    "print('final objval estimate: ', obj_vals_d[-1])\n",
    "print('true objval: ', f_gen(Pval_nd[0,:,0], sqrtalpha_true, beta_true).value[0])"
   ]
  }
 ],
 "metadata": {
  "kernelspec": {
   "display_name": "Python 3",
   "language": "python",
   "name": "python3"
  },
  "language_info": {
   "codemirror_mode": {
    "name": "ipython",
    "version": 3
   },
   "file_extension": ".py",
   "mimetype": "text/x-python",
   "name": "python",
   "nbconvert_exporter": "python",
   "pygments_lexer": "ipython3",
   "version": "3.8.5"
  }
 },
 "nbformat": 4,
 "nbformat_minor": 4
}
